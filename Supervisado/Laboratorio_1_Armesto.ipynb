{
 "cells": [
  {
   "cell_type": "markdown",
   "metadata": {},
   "source": [
    "# Aprendizaje Supervisado: Laboratorio 1"
   ]
  },
  {
   "cell_type": "markdown",
   "metadata": {},
   "source": [
    "## Ejercicio 1: SVM con Kernel y Regularización\n",
    "\n",
    "En este ejercicio se trabajará con datos que esconden un patrón. Los datos mezclan columnas con valores enteros, flotantes y booleanos.\n",
    "\n",
    "Debe analizar los datos de entrenamiento para encontrar el patrón, y luego entrenar una SVM que explique a la perfección esos datos (accuracy 1.0 en train). Por último, deberá evaluar la SVM en los datos de test, y modificar los parámetros de regularización hasta encontrar una configuración que dé una accuracy mayor a 0.9."
   ]
  },
  {
   "cell_type": "code",
   "execution_count": 1,
   "metadata": {},
   "outputs": [],
   "source": [
    "# Librerias utilizadas\n",
    "import pandas as pd\n",
    "import matplotlib.pyplot as plt\n",
    "import numpy as np\n",
    "import seaborn \n",
    "from sklearn.decomposition import PCA\n",
    "from sklearn.svm import LinearSVC\n",
    "from sklearn.metrics import accuracy_score, classification_report, confusion_matrix\n",
    "import sklearn\n",
    "import utils\n",
    "from sklearn.ensemble import RandomForestClassifier\n",
    "from sklearn.model_selection import GridSearchCV"
   ]
  },
  {
   "cell_type": "code",
   "execution_count": 2,
   "metadata": {},
   "outputs": [],
   "source": [
    "# Cargar datos de entrenamiento y evaluación\n",
    "train = pd.read_csv('datasets/lab1/ej1_train.csv')\n",
    "X_train = train.iloc[:, :-1]\n",
    "Y_train = train['TARGET']\n",
    "test = pd.read_csv('datasets/lab1/ej1_test.csv')\n",
    "X_test = test.iloc[:, :-1]\n",
    "Y_test = test['TARGET']"
   ]
  },
  {
   "cell_type": "code",
   "execution_count": 3,
   "metadata": {},
   "outputs": [
    {
     "data": {
      "text/html": [
       "<div>\n",
       "<style scoped>\n",
       "    .dataframe tbody tr th:only-of-type {\n",
       "        vertical-align: middle;\n",
       "    }\n",
       "\n",
       "    .dataframe tbody tr th {\n",
       "        vertical-align: top;\n",
       "    }\n",
       "\n",
       "    .dataframe thead th {\n",
       "        text-align: right;\n",
       "    }\n",
       "</style>\n",
       "<table border=\"1\" class=\"dataframe\">\n",
       "  <thead>\n",
       "    <tr style=\"text-align: right;\">\n",
       "      <th></th>\n",
       "      <th>0</th>\n",
       "      <th>1</th>\n",
       "      <th>2</th>\n",
       "      <th>3</th>\n",
       "      <th>4</th>\n",
       "      <th>5</th>\n",
       "      <th>6</th>\n",
       "      <th>7</th>\n",
       "      <th>8</th>\n",
       "      <th>9</th>\n",
       "      <th>10</th>\n",
       "      <th>11</th>\n",
       "      <th>12</th>\n",
       "      <th>13</th>\n",
       "      <th>14</th>\n",
       "      <th>15</th>\n",
       "      <th>16</th>\n",
       "      <th>TARGET</th>\n",
       "    </tr>\n",
       "  </thead>\n",
       "  <tbody>\n",
       "    <tr>\n",
       "      <th>0</th>\n",
       "      <td>-15.0</td>\n",
       "      <td>20.0</td>\n",
       "      <td>26.0</td>\n",
       "      <td>17.0</td>\n",
       "      <td>117.0</td>\n",
       "      <td>-1.099921</td>\n",
       "      <td>-0.366696</td>\n",
       "      <td>0.136307</td>\n",
       "      <td>-0.777322</td>\n",
       "      <td>0.0</td>\n",
       "      <td>0.0</td>\n",
       "      <td>0.0</td>\n",
       "      <td>0.0</td>\n",
       "      <td>1.0</td>\n",
       "      <td>0.0</td>\n",
       "      <td>0.0</td>\n",
       "      <td>0.0</td>\n",
       "      <td>-1.0</td>\n",
       "    </tr>\n",
       "    <tr>\n",
       "      <th>1</th>\n",
       "      <td>35.0</td>\n",
       "      <td>87.0</td>\n",
       "      <td>-17.0</td>\n",
       "      <td>54.0</td>\n",
       "      <td>38.0</td>\n",
       "      <td>-0.507798</td>\n",
       "      <td>-0.774667</td>\n",
       "      <td>-0.879107</td>\n",
       "      <td>-1.159231</td>\n",
       "      <td>0.0</td>\n",
       "      <td>1.0</td>\n",
       "      <td>0.0</td>\n",
       "      <td>0.0</td>\n",
       "      <td>0.0</td>\n",
       "      <td>0.0</td>\n",
       "      <td>0.0</td>\n",
       "      <td>0.0</td>\n",
       "      <td>-1.0</td>\n",
       "    </tr>\n",
       "    <tr>\n",
       "      <th>2</th>\n",
       "      <td>82.0</td>\n",
       "      <td>75.0</td>\n",
       "      <td>116.0</td>\n",
       "      <td>87.0</td>\n",
       "      <td>130.0</td>\n",
       "      <td>-0.219868</td>\n",
       "      <td>0.157875</td>\n",
       "      <td>0.386982</td>\n",
       "      <td>0.150254</td>\n",
       "      <td>0.0</td>\n",
       "      <td>0.0</td>\n",
       "      <td>0.0</td>\n",
       "      <td>0.0</td>\n",
       "      <td>0.0</td>\n",
       "      <td>1.0</td>\n",
       "      <td>0.0</td>\n",
       "      <td>0.0</td>\n",
       "      <td>1.0</td>\n",
       "    </tr>\n",
       "    <tr>\n",
       "      <th>3</th>\n",
       "      <td>133.0</td>\n",
       "      <td>138.0</td>\n",
       "      <td>87.0</td>\n",
       "      <td>124.0</td>\n",
       "      <td>61.0</td>\n",
       "      <td>0.371992</td>\n",
       "      <td>-0.157556</td>\n",
       "      <td>-0.484258</td>\n",
       "      <td>-0.109378</td>\n",
       "      <td>0.0</td>\n",
       "      <td>0.0</td>\n",
       "      <td>1.0</td>\n",
       "      <td>0.0</td>\n",
       "      <td>0.0</td>\n",
       "      <td>0.0</td>\n",
       "      <td>0.0</td>\n",
       "      <td>0.0</td>\n",
       "      <td>-1.0</td>\n",
       "    </tr>\n",
       "    <tr>\n",
       "      <th>4</th>\n",
       "      <td>-17.0</td>\n",
       "      <td>23.0</td>\n",
       "      <td>17.0</td>\n",
       "      <td>16.0</td>\n",
       "      <td>109.0</td>\n",
       "      <td>-1.099966</td>\n",
       "      <td>-0.436268</td>\n",
       "      <td>0.028073</td>\n",
       "      <td>-0.869315</td>\n",
       "      <td>0.0</td>\n",
       "      <td>0.0</td>\n",
       "      <td>0.0</td>\n",
       "      <td>1.0</td>\n",
       "      <td>0.0</td>\n",
       "      <td>0.0</td>\n",
       "      <td>0.0</td>\n",
       "      <td>0.0</td>\n",
       "      <td>-1.0</td>\n",
       "    </tr>\n",
       "    <tr>\n",
       "      <th>5</th>\n",
       "      <td>85.0</td>\n",
       "      <td>95.0</td>\n",
       "      <td>79.0</td>\n",
       "      <td>90.0</td>\n",
       "      <td>91.0</td>\n",
       "      <td>-0.125094</td>\n",
       "      <td>-0.140394</td>\n",
       "      <td>-0.138070</td>\n",
       "      <td>-0.218882</td>\n",
       "      <td>0.0</td>\n",
       "      <td>0.0</td>\n",
       "      <td>0.0</td>\n",
       "      <td>1.0</td>\n",
       "      <td>0.0</td>\n",
       "      <td>0.0</td>\n",
       "      <td>0.0</td>\n",
       "      <td>0.0</td>\n",
       "      <td>1.0</td>\n",
       "    </tr>\n",
       "    <tr>\n",
       "      <th>6</th>\n",
       "      <td>152.0</td>\n",
       "      <td>152.0</td>\n",
       "      <td>97.0</td>\n",
       "      <td>138.0</td>\n",
       "      <td>56.0</td>\n",
       "      <td>0.553977</td>\n",
       "      <td>-0.113597</td>\n",
       "      <td>-0.532815</td>\n",
       "      <td>-0.002862</td>\n",
       "      <td>0.0</td>\n",
       "      <td>0.0</td>\n",
       "      <td>1.0</td>\n",
       "      <td>0.0</td>\n",
       "      <td>0.0</td>\n",
       "      <td>0.0</td>\n",
       "      <td>0.0</td>\n",
       "      <td>0.0</td>\n",
       "      <td>-1.0</td>\n",
       "    </tr>\n",
       "    <tr>\n",
       "      <th>7</th>\n",
       "      <td>-52.0</td>\n",
       "      <td>40.0</td>\n",
       "      <td>-102.0</td>\n",
       "      <td>-9.0</td>\n",
       "      <td>22.0</td>\n",
       "      <td>-1.286313</td>\n",
       "      <td>-1.275136</td>\n",
       "      <td>-1.157536</td>\n",
       "      <td>-2.027939</td>\n",
       "      <td>1.0</td>\n",
       "      <td>0.0</td>\n",
       "      <td>0.0</td>\n",
       "      <td>0.0</td>\n",
       "      <td>0.0</td>\n",
       "      <td>0.0</td>\n",
       "      <td>0.0</td>\n",
       "      <td>0.0</td>\n",
       "      <td>-1.0</td>\n",
       "    </tr>\n",
       "    <tr>\n",
       "      <th>8</th>\n",
       "      <td>-92.0</td>\n",
       "      <td>6.0</td>\n",
       "      <td>-115.0</td>\n",
       "      <td>-38.0</td>\n",
       "      <td>41.0</td>\n",
       "      <td>-1.686921</td>\n",
       "      <td>-1.300803</td>\n",
       "      <td>-0.940004</td>\n",
       "      <td>-2.168412</td>\n",
       "      <td>1.0</td>\n",
       "      <td>0.0</td>\n",
       "      <td>0.0</td>\n",
       "      <td>0.0</td>\n",
       "      <td>0.0</td>\n",
       "      <td>0.0</td>\n",
       "      <td>0.0</td>\n",
       "      <td>0.0</td>\n",
       "      <td>-1.0</td>\n",
       "    </tr>\n",
       "    <tr>\n",
       "      <th>9</th>\n",
       "      <td>105.0</td>\n",
       "      <td>100.0</td>\n",
       "      <td>111.0</td>\n",
       "      <td>104.0</td>\n",
       "      <td>106.0</td>\n",
       "      <td>0.043765</td>\n",
       "      <td>0.076621</td>\n",
       "      <td>0.091104</td>\n",
       "      <td>0.112940</td>\n",
       "      <td>0.0</td>\n",
       "      <td>0.0</td>\n",
       "      <td>0.0</td>\n",
       "      <td>0.0</td>\n",
       "      <td>1.0</td>\n",
       "      <td>0.0</td>\n",
       "      <td>0.0</td>\n",
       "      <td>0.0</td>\n",
       "      <td>1.0</td>\n",
       "    </tr>\n",
       "  </tbody>\n",
       "</table>\n",
       "</div>"
      ],
      "text/plain": [
       "       0      1      2      3      4         5         6         7         8  \\\n",
       "0  -15.0   20.0   26.0   17.0  117.0 -1.099921 -0.366696  0.136307 -0.777322   \n",
       "1   35.0   87.0  -17.0   54.0   38.0 -0.507798 -0.774667 -0.879107 -1.159231   \n",
       "2   82.0   75.0  116.0   87.0  130.0 -0.219868  0.157875  0.386982  0.150254   \n",
       "3  133.0  138.0   87.0  124.0   61.0  0.371992 -0.157556 -0.484258 -0.109378   \n",
       "4  -17.0   23.0   17.0   16.0  109.0 -1.099966 -0.436268  0.028073 -0.869315   \n",
       "5   85.0   95.0   79.0   90.0   91.0 -0.125094 -0.140394 -0.138070 -0.218882   \n",
       "6  152.0  152.0   97.0  138.0   56.0  0.553977 -0.113597 -0.532815 -0.002862   \n",
       "7  -52.0   40.0 -102.0   -9.0   22.0 -1.286313 -1.275136 -1.157536 -2.027939   \n",
       "8  -92.0    6.0 -115.0  -38.0   41.0 -1.686921 -1.300803 -0.940004 -2.168412   \n",
       "9  105.0  100.0  111.0  104.0  106.0  0.043765  0.076621  0.091104  0.112940   \n",
       "\n",
       "     9   10   11   12   13   14   15   16  TARGET  \n",
       "0  0.0  0.0  0.0  0.0  1.0  0.0  0.0  0.0    -1.0  \n",
       "1  0.0  1.0  0.0  0.0  0.0  0.0  0.0  0.0    -1.0  \n",
       "2  0.0  0.0  0.0  0.0  0.0  1.0  0.0  0.0     1.0  \n",
       "3  0.0  0.0  1.0  0.0  0.0  0.0  0.0  0.0    -1.0  \n",
       "4  0.0  0.0  0.0  1.0  0.0  0.0  0.0  0.0    -1.0  \n",
       "5  0.0  0.0  0.0  1.0  0.0  0.0  0.0  0.0     1.0  \n",
       "6  0.0  0.0  1.0  0.0  0.0  0.0  0.0  0.0    -1.0  \n",
       "7  1.0  0.0  0.0  0.0  0.0  0.0  0.0  0.0    -1.0  \n",
       "8  1.0  0.0  0.0  0.0  0.0  0.0  0.0  0.0    -1.0  \n",
       "9  0.0  0.0  0.0  0.0  1.0  0.0  0.0  0.0     1.0  "
      ]
     },
     "execution_count": 3,
     "metadata": {},
     "output_type": "execute_result"
    }
   ],
   "source": [
    "train.head(10)"
   ]
  },
  {
   "cell_type": "markdown",
   "metadata": {},
   "source": [
    "### Ejercicio 1a:\n",
    "\n",
    "* Primero imprima una descripción básica de los datos."
   ]
  },
  {
   "cell_type": "code",
   "execution_count": 4,
   "metadata": {},
   "outputs": [
    {
     "name": "stdout",
     "output_type": "stream",
     "text": [
      "<class 'pandas.core.frame.DataFrame'>\n",
      "RangeIndex: 400 entries, 0 to 399\n",
      "Data columns (total 18 columns):\n",
      "0         400 non-null float64\n",
      "1         400 non-null float64\n",
      "2         400 non-null float64\n",
      "3         400 non-null float64\n",
      "4         400 non-null float64\n",
      "5         400 non-null float64\n",
      "6         400 non-null float64\n",
      "7         400 non-null float64\n",
      "8         400 non-null float64\n",
      "9         400 non-null float64\n",
      "10        400 non-null float64\n",
      "11        400 non-null float64\n",
      "12        400 non-null float64\n",
      "13        400 non-null float64\n",
      "14        400 non-null float64\n",
      "15        400 non-null float64\n",
      "16        400 non-null float64\n",
      "TARGET    400 non-null float64\n",
      "dtypes: float64(18)\n",
      "memory usage: 56.3 KB\n"
     ]
    }
   ],
   "source": [
    "train.info()"
   ]
  },
  {
   "cell_type": "markdown",
   "metadata": {},
   "source": [
    "`El dataset no tiene datos faltantes o sobre los que haya que trabajar a primera vista. Son todos los datos del tipo float64. Tenemos 18 features y 400 muestras.`"
   ]
  },
  {
   "cell_type": "code",
   "execution_count": 5,
   "metadata": {
    "scrolled": true
   },
   "outputs": [
    {
     "data": {
      "text/html": [
       "<div>\n",
       "<style scoped>\n",
       "    .dataframe tbody tr th:only-of-type {\n",
       "        vertical-align: middle;\n",
       "    }\n",
       "\n",
       "    .dataframe tbody tr th {\n",
       "        vertical-align: top;\n",
       "    }\n",
       "\n",
       "    .dataframe thead th {\n",
       "        text-align: right;\n",
       "    }\n",
       "</style>\n",
       "<table border=\"1\" class=\"dataframe\">\n",
       "  <thead>\n",
       "    <tr style=\"text-align: right;\">\n",
       "      <th></th>\n",
       "      <th>0</th>\n",
       "      <th>1</th>\n",
       "      <th>2</th>\n",
       "      <th>3</th>\n",
       "      <th>4</th>\n",
       "      <th>5</th>\n",
       "      <th>6</th>\n",
       "      <th>7</th>\n",
       "      <th>8</th>\n",
       "      <th>9</th>\n",
       "      <th>10</th>\n",
       "      <th>11</th>\n",
       "      <th>12</th>\n",
       "      <th>13</th>\n",
       "      <th>14</th>\n",
       "      <th>15</th>\n",
       "      <th>16</th>\n",
       "      <th>TARGET</th>\n",
       "    </tr>\n",
       "  </thead>\n",
       "  <tbody>\n",
       "    <tr>\n",
       "      <th>count</th>\n",
       "      <td>400.000000</td>\n",
       "      <td>400.000000</td>\n",
       "      <td>400.000000</td>\n",
       "      <td>400.000000</td>\n",
       "      <td>400.000000</td>\n",
       "      <td>400.000000</td>\n",
       "      <td>400.000000</td>\n",
       "      <td>400.000000</td>\n",
       "      <td>400.000000</td>\n",
       "      <td>400.00000</td>\n",
       "      <td>400.00000</td>\n",
       "      <td>400.000000</td>\n",
       "      <td>400.000000</td>\n",
       "      <td>400.000000</td>\n",
       "      <td>400.000000</td>\n",
       "      <td>400.000000</td>\n",
       "      <td>400.000000</td>\n",
       "      <td>400.00000</td>\n",
       "    </tr>\n",
       "    <tr>\n",
       "      <th>mean</th>\n",
       "      <td>100.567500</td>\n",
       "      <td>101.035000</td>\n",
       "      <td>98.930000</td>\n",
       "      <td>100.445000</td>\n",
       "      <td>98.487500</td>\n",
       "      <td>0.007970</td>\n",
       "      <td>-0.009065</td>\n",
       "      <td>-0.019228</td>\n",
       "      <td>-0.009865</td>\n",
       "      <td>0.03500</td>\n",
       "      <td>0.08750</td>\n",
       "      <td>0.172500</td>\n",
       "      <td>0.237500</td>\n",
       "      <td>0.220000</td>\n",
       "      <td>0.132500</td>\n",
       "      <td>0.075000</td>\n",
       "      <td>0.040000</td>\n",
       "      <td>-0.00500</td>\n",
       "    </tr>\n",
       "    <tr>\n",
       "      <th>std</th>\n",
       "      <td>86.549654</td>\n",
       "      <td>49.517155</td>\n",
       "      <td>91.403921</td>\n",
       "      <td>62.199267</td>\n",
       "      <td>36.299366</td>\n",
       "      <td>0.782708</td>\n",
       "      <td>0.560037</td>\n",
       "      <td>0.514925</td>\n",
       "      <td>0.924287</td>\n",
       "      <td>0.18401</td>\n",
       "      <td>0.28292</td>\n",
       "      <td>0.378288</td>\n",
       "      <td>0.426084</td>\n",
       "      <td>0.414765</td>\n",
       "      <td>0.339458</td>\n",
       "      <td>0.263721</td>\n",
       "      <td>0.196205</td>\n",
       "      <td>1.00124</td>\n",
       "    </tr>\n",
       "    <tr>\n",
       "      <th>min</th>\n",
       "      <td>-93.000000</td>\n",
       "      <td>-10.000000</td>\n",
       "      <td>-115.000000</td>\n",
       "      <td>-39.000000</td>\n",
       "      <td>11.000000</td>\n",
       "      <td>-1.725988</td>\n",
       "      <td>-1.300851</td>\n",
       "      <td>-1.244842</td>\n",
       "      <td>-2.168412</td>\n",
       "      <td>0.00000</td>\n",
       "      <td>0.00000</td>\n",
       "      <td>0.000000</td>\n",
       "      <td>0.000000</td>\n",
       "      <td>0.000000</td>\n",
       "      <td>0.000000</td>\n",
       "      <td>0.000000</td>\n",
       "      <td>0.000000</td>\n",
       "      <td>-1.00000</td>\n",
       "    </tr>\n",
       "    <tr>\n",
       "      <th>25%</th>\n",
       "      <td>46.000000</td>\n",
       "      <td>73.000000</td>\n",
       "      <td>37.500000</td>\n",
       "      <td>61.750000</td>\n",
       "      <td>73.000000</td>\n",
       "      <td>-0.488926</td>\n",
       "      <td>-0.366255</td>\n",
       "      <td>-0.382066</td>\n",
       "      <td>-0.646990</td>\n",
       "      <td>0.00000</td>\n",
       "      <td>0.00000</td>\n",
       "      <td>0.000000</td>\n",
       "      <td>0.000000</td>\n",
       "      <td>0.000000</td>\n",
       "      <td>0.000000</td>\n",
       "      <td>0.000000</td>\n",
       "      <td>0.000000</td>\n",
       "      <td>-1.00000</td>\n",
       "    </tr>\n",
       "    <tr>\n",
       "      <th>50%</th>\n",
       "      <td>100.500000</td>\n",
       "      <td>100.000000</td>\n",
       "      <td>100.000000</td>\n",
       "      <td>100.000000</td>\n",
       "      <td>99.500000</td>\n",
       "      <td>0.005970</td>\n",
       "      <td>-0.010120</td>\n",
       "      <td>-0.013890</td>\n",
       "      <td>0.000883</td>\n",
       "      <td>0.00000</td>\n",
       "      <td>0.00000</td>\n",
       "      <td>0.000000</td>\n",
       "      <td>0.000000</td>\n",
       "      <td>0.000000</td>\n",
       "      <td>0.000000</td>\n",
       "      <td>0.000000</td>\n",
       "      <td>0.000000</td>\n",
       "      <td>-1.00000</td>\n",
       "    </tr>\n",
       "    <tr>\n",
       "      <th>75%</th>\n",
       "      <td>155.250000</td>\n",
       "      <td>133.250000</td>\n",
       "      <td>153.250000</td>\n",
       "      <td>140.000000</td>\n",
       "      <td>122.000000</td>\n",
       "      <td>0.510675</td>\n",
       "      <td>0.314739</td>\n",
       "      <td>0.300218</td>\n",
       "      <td>0.544438</td>\n",
       "      <td>0.00000</td>\n",
       "      <td>0.00000</td>\n",
       "      <td>0.000000</td>\n",
       "      <td>0.000000</td>\n",
       "      <td>0.000000</td>\n",
       "      <td>0.000000</td>\n",
       "      <td>0.000000</td>\n",
       "      <td>0.000000</td>\n",
       "      <td>1.00000</td>\n",
       "    </tr>\n",
       "    <tr>\n",
       "      <th>max</th>\n",
       "      <td>299.000000</td>\n",
       "      <td>217.000000</td>\n",
       "      <td>323.000000</td>\n",
       "      <td>243.000000</td>\n",
       "      <td>185.000000</td>\n",
       "      <td>1.785821</td>\n",
       "      <td>1.369928</td>\n",
       "      <td>1.217912</td>\n",
       "      <td>2.240643</td>\n",
       "      <td>1.00000</td>\n",
       "      <td>1.00000</td>\n",
       "      <td>1.000000</td>\n",
       "      <td>1.000000</td>\n",
       "      <td>1.000000</td>\n",
       "      <td>1.000000</td>\n",
       "      <td>1.000000</td>\n",
       "      <td>1.000000</td>\n",
       "      <td>1.00000</td>\n",
       "    </tr>\n",
       "  </tbody>\n",
       "</table>\n",
       "</div>"
      ],
      "text/plain": [
       "                0           1           2           3           4           5  \\\n",
       "count  400.000000  400.000000  400.000000  400.000000  400.000000  400.000000   \n",
       "mean   100.567500  101.035000   98.930000  100.445000   98.487500    0.007970   \n",
       "std     86.549654   49.517155   91.403921   62.199267   36.299366    0.782708   \n",
       "min    -93.000000  -10.000000 -115.000000  -39.000000   11.000000   -1.725988   \n",
       "25%     46.000000   73.000000   37.500000   61.750000   73.000000   -0.488926   \n",
       "50%    100.500000  100.000000  100.000000  100.000000   99.500000    0.005970   \n",
       "75%    155.250000  133.250000  153.250000  140.000000  122.000000    0.510675   \n",
       "max    299.000000  217.000000  323.000000  243.000000  185.000000    1.785821   \n",
       "\n",
       "                6           7           8          9         10          11  \\\n",
       "count  400.000000  400.000000  400.000000  400.00000  400.00000  400.000000   \n",
       "mean    -0.009065   -0.019228   -0.009865    0.03500    0.08750    0.172500   \n",
       "std      0.560037    0.514925    0.924287    0.18401    0.28292    0.378288   \n",
       "min     -1.300851   -1.244842   -2.168412    0.00000    0.00000    0.000000   \n",
       "25%     -0.366255   -0.382066   -0.646990    0.00000    0.00000    0.000000   \n",
       "50%     -0.010120   -0.013890    0.000883    0.00000    0.00000    0.000000   \n",
       "75%      0.314739    0.300218    0.544438    0.00000    0.00000    0.000000   \n",
       "max      1.369928    1.217912    2.240643    1.00000    1.00000    1.000000   \n",
       "\n",
       "               12          13          14          15          16     TARGET  \n",
       "count  400.000000  400.000000  400.000000  400.000000  400.000000  400.00000  \n",
       "mean     0.237500    0.220000    0.132500    0.075000    0.040000   -0.00500  \n",
       "std      0.426084    0.414765    0.339458    0.263721    0.196205    1.00124  \n",
       "min      0.000000    0.000000    0.000000    0.000000    0.000000   -1.00000  \n",
       "25%      0.000000    0.000000    0.000000    0.000000    0.000000   -1.00000  \n",
       "50%      0.000000    0.000000    0.000000    0.000000    0.000000   -1.00000  \n",
       "75%      0.000000    0.000000    0.000000    0.000000    0.000000    1.00000  \n",
       "max      1.000000    1.000000    1.000000    1.000000    1.000000    1.00000  "
      ]
     },
     "execution_count": 5,
     "metadata": {},
     "output_type": "execute_result"
    }
   ],
   "source": [
    "train.describe()"
   ]
  },
  {
   "cell_type": "code",
   "execution_count": 6,
   "metadata": {},
   "outputs": [
    {
     "data": {
      "text/plain": [
       "-1.0    0.5025\n",
       " 1.0    0.4975\n",
       "Name: TARGET, dtype: float64"
      ]
     },
     "execution_count": 6,
     "metadata": {},
     "output_type": "execute_result"
    }
   ],
   "source": [
    "Y_train.value_counts(normalize=True)"
   ]
  },
  {
   "cell_type": "markdown",
   "metadata": {},
   "source": [
    "`La salida toma dos tipos de valores, 1 y -1.`"
   ]
  },
  {
   "cell_type": "markdown",
   "metadata": {},
   "source": [
    "* Luego, calcule y grafique un mapa de calor con la correlación entre los distintos features."
   ]
  },
  {
   "cell_type": "code",
   "execution_count": 7,
   "metadata": {},
   "outputs": [],
   "source": [
    "X_corr = X_train.corr() # Calculation of the correlation coefficients in pairs"
   ]
  },
  {
   "cell_type": "code",
   "execution_count": 8,
   "metadata": {},
   "outputs": [
    {
     "data": {
      "image/png": "[encoded data removed]",
      "text/plain": [
       "<Figure size 1080x720 with 2 Axes>"
      ]
     },
     "metadata": {},
     "output_type": "display_data"
    }
   ],
   "source": [
    "plt.figure(figsize=(15,10))\n",
    "seaborn.heatmap(X_corr, cmap=\"YlGnBu\") # Displaying the Heatmap\n",
    "seaborn.set(font_scale=2,style='white')\n",
    "plt.title('Heatmap Correlation')\n",
    "plt.show()    "
   ]
  },
  {
   "cell_type": "markdown",
   "metadata": {},
   "source": [
    "**Preguntas:**\n",
    "- ¿Qué observa?\n",
    "\n",
    "`Se observa una fuerte correlación positiva entre las features de la 0 a la 8. Tenemos una correlación positiva leve entre las features de la 0 a la 8 con las features de la 13 a la 16. Y una correlación negativa fuerte entre las features de la 0 a la 8 y las features de la 9 a la 12. Además si observamos las features de la 9 a la 16 contra este mismo rango vemos correlaciones negativas leves.`\n",
    "- ¿Qué conclusiones puede extraer?\n",
    "\n",
    "`Las features que casi no poseen correlación o tienen una correlación moderada aportan valor a nuestro modelo. Pero las que tienen correlaciones fuertes no sólo que no aportan valor al modelo sino que pueden llegar a ser causantes de overfitting. Sería interesante aplicar análisis de componentes principales a los datos para quedarse con features significativas.`\n",
    "\n",
    "* Por último, reduzca la dimensionalidad de los datos a dos dimensiones y grafique los puntos."
   ]
  },
  {
   "cell_type": "code",
   "execution_count": 9,
   "metadata": {},
   "outputs": [
    {
     "name": "stdout",
     "output_type": "stream",
     "text": [
      "Shape X_train original: (400, 17)\n",
      "Shape X_train con PCA: (400, 2)\n"
     ]
    }
   ],
   "source": [
    "pca = PCA(n_components=2)\n",
    "principalComponents_train = pca.fit_transform(X_train)\n",
    "principalComponents_test = pca.fit_transform(X_train)\n",
    "X_train_projected = pd.DataFrame(data = principalComponents_train, columns = ['PCA_1', 'PCA_2'])\n",
    "X_test_projected = pd.DataFrame(data = principalComponents_test, columns = ['PCA_1', 'PCA_2'])\n",
    "print('Shape X_train original: '+str(X_train.shape))\n",
    "print('Shape X_train con PCA: '+str(X_train_projected.shape))"
   ]
  },
  {
   "cell_type": "code",
   "execution_count": 10,
   "metadata": {},
   "outputs": [
    {
     "data": {
      "text/html": [
       "<div>\n",
       "<style scoped>\n",
       "    .dataframe tbody tr th:only-of-type {\n",
       "        vertical-align: middle;\n",
       "    }\n",
       "\n",
       "    .dataframe tbody tr th {\n",
       "        vertical-align: top;\n",
       "    }\n",
       "\n",
       "    .dataframe thead th {\n",
       "        text-align: right;\n",
       "    }\n",
       "</style>\n",
       "<table border=\"1\" class=\"dataframe\">\n",
       "  <thead>\n",
       "    <tr style=\"text-align: right;\">\n",
       "      <th></th>\n",
       "      <th>PCA_1</th>\n",
       "      <th>PCA_2</th>\n",
       "    </tr>\n",
       "  </thead>\n",
       "  <tbody>\n",
       "    <tr>\n",
       "      <th>0</th>\n",
       "      <td>-169.452309</td>\n",
       "      <td>61.923209</td>\n",
       "    </tr>\n",
       "    <tr>\n",
       "      <th>1</th>\n",
       "      <td>-140.637635</td>\n",
       "      <td>-63.051982</td>\n",
       "    </tr>\n",
       "    <tr>\n",
       "      <th>2</th>\n",
       "      <td>-9.971975</td>\n",
       "      <td>48.867243</td>\n",
       "    </tr>\n",
       "    <tr>\n",
       "      <th>3</th>\n",
       "      <td>28.025112</td>\n",
       "      <td>-61.117568</td>\n",
       "    </tr>\n",
       "    <tr>\n",
       "      <th>4</th>\n",
       "      <td>-176.649479</td>\n",
       "      <td>51.593234</td>\n",
       "    </tr>\n",
       "    <tr>\n",
       "      <th>5</th>\n",
       "      <td>-28.453538</td>\n",
       "      <td>-5.597614</td>\n",
       "    </tr>\n",
       "    <tr>\n",
       "      <th>6</th>\n",
       "      <td>54.742669</td>\n",
       "      <td>-73.930527</td>\n",
       "    </tr>\n",
       "    <tr>\n",
       "      <th>7</th>\n",
       "      <td>-286.225438</td>\n",
       "      <td>-57.329041</td>\n",
       "    </tr>\n",
       "    <tr>\n",
       "      <th>8</th>\n",
       "      <td>-337.649156</td>\n",
       "      <td>-18.828837</td>\n",
       "    </tr>\n",
       "    <tr>\n",
       "      <th>9</th>\n",
       "      <td>12.097505</td>\n",
       "      <td>9.417517</td>\n",
       "    </tr>\n",
       "    <tr>\n",
       "      <th>10</th>\n",
       "      <td>28.326970</td>\n",
       "      <td>11.954808</td>\n",
       "    </tr>\n",
       "    <tr>\n",
       "      <th>11</th>\n",
       "      <td>-100.557408</td>\n",
       "      <td>58.383129</td>\n",
       "    </tr>\n",
       "    <tr>\n",
       "      <th>12</th>\n",
       "      <td>18.546622</td>\n",
       "      <td>-56.748401</td>\n",
       "    </tr>\n",
       "    <tr>\n",
       "      <th>13</th>\n",
       "      <td>114.741504</td>\n",
       "      <td>33.937234</td>\n",
       "    </tr>\n",
       "    <tr>\n",
       "      <th>14</th>\n",
       "      <td>137.905493</td>\n",
       "      <td>24.095531</td>\n",
       "    </tr>\n",
       "    <tr>\n",
       "      <th>15</th>\n",
       "      <td>88.195970</td>\n",
       "      <td>-71.131098</td>\n",
       "    </tr>\n",
       "    <tr>\n",
       "      <th>16</th>\n",
       "      <td>14.030614</td>\n",
       "      <td>82.909843</td>\n",
       "    </tr>\n",
       "    <tr>\n",
       "      <th>17</th>\n",
       "      <td>147.227539</td>\n",
       "      <td>-81.347415</td>\n",
       "    </tr>\n",
       "    <tr>\n",
       "      <th>18</th>\n",
       "      <td>-23.369579</td>\n",
       "      <td>42.618522</td>\n",
       "    </tr>\n",
       "    <tr>\n",
       "      <th>19</th>\n",
       "      <td>33.900576</td>\n",
       "      <td>40.421274</td>\n",
       "    </tr>\n",
       "    <tr>\n",
       "      <th>20</th>\n",
       "      <td>30.891319</td>\n",
       "      <td>-23.915517</td>\n",
       "    </tr>\n",
       "    <tr>\n",
       "      <th>21</th>\n",
       "      <td>-21.629426</td>\n",
       "      <td>-34.991610</td>\n",
       "    </tr>\n",
       "    <tr>\n",
       "      <th>22</th>\n",
       "      <td>-236.810280</td>\n",
       "      <td>32.597518</td>\n",
       "    </tr>\n",
       "    <tr>\n",
       "      <th>23</th>\n",
       "      <td>-54.781749</td>\n",
       "      <td>-47.701736</td>\n",
       "    </tr>\n",
       "    <tr>\n",
       "      <th>24</th>\n",
       "      <td>-161.327309</td>\n",
       "      <td>63.563500</td>\n",
       "    </tr>\n",
       "    <tr>\n",
       "      <th>25</th>\n",
       "      <td>-57.698402</td>\n",
       "      <td>-64.947126</td>\n",
       "    </tr>\n",
       "    <tr>\n",
       "      <th>26</th>\n",
       "      <td>173.210573</td>\n",
       "      <td>-89.145470</td>\n",
       "    </tr>\n",
       "    <tr>\n",
       "      <th>27</th>\n",
       "      <td>-36.736150</td>\n",
       "      <td>18.957460</td>\n",
       "    </tr>\n",
       "    <tr>\n",
       "      <th>28</th>\n",
       "      <td>-38.691478</td>\n",
       "      <td>30.650696</td>\n",
       "    </tr>\n",
       "    <tr>\n",
       "      <th>29</th>\n",
       "      <td>329.303363</td>\n",
       "      <td>-13.025748</td>\n",
       "    </tr>\n",
       "    <tr>\n",
       "      <th>...</th>\n",
       "      <td>...</td>\n",
       "      <td>...</td>\n",
       "    </tr>\n",
       "    <tr>\n",
       "      <th>370</th>\n",
       "      <td>-242.850007</td>\n",
       "      <td>-72.158556</td>\n",
       "    </tr>\n",
       "    <tr>\n",
       "      <th>371</th>\n",
       "      <td>-227.737377</td>\n",
       "      <td>-14.044941</td>\n",
       "    </tr>\n",
       "    <tr>\n",
       "      <th>372</th>\n",
       "      <td>-123.141010</td>\n",
       "      <td>-21.185265</td>\n",
       "    </tr>\n",
       "    <tr>\n",
       "      <th>373</th>\n",
       "      <td>108.711140</td>\n",
       "      <td>-66.061502</td>\n",
       "    </tr>\n",
       "    <tr>\n",
       "      <th>374</th>\n",
       "      <td>-49.535642</td>\n",
       "      <td>69.701638</td>\n",
       "    </tr>\n",
       "    <tr>\n",
       "      <th>375</th>\n",
       "      <td>233.308679</td>\n",
       "      <td>-18.237120</td>\n",
       "    </tr>\n",
       "    <tr>\n",
       "      <th>376</th>\n",
       "      <td>-244.400064</td>\n",
       "      <td>-18.192227</td>\n",
       "    </tr>\n",
       "    <tr>\n",
       "      <th>377</th>\n",
       "      <td>-236.960811</td>\n",
       "      <td>20.668434</td>\n",
       "    </tr>\n",
       "    <tr>\n",
       "      <th>378</th>\n",
       "      <td>345.795407</td>\n",
       "      <td>15.502791</td>\n",
       "    </tr>\n",
       "    <tr>\n",
       "      <th>379</th>\n",
       "      <td>-77.345371</td>\n",
       "      <td>39.104142</td>\n",
       "    </tr>\n",
       "    <tr>\n",
       "      <th>380</th>\n",
       "      <td>147.223383</td>\n",
       "      <td>25.952680</td>\n",
       "    </tr>\n",
       "    <tr>\n",
       "      <th>381</th>\n",
       "      <td>77.233834</td>\n",
       "      <td>-44.738514</td>\n",
       "    </tr>\n",
       "    <tr>\n",
       "      <th>382</th>\n",
       "      <td>210.499111</td>\n",
       "      <td>20.064077</td>\n",
       "    </tr>\n",
       "    <tr>\n",
       "      <th>383</th>\n",
       "      <td>18.417636</td>\n",
       "      <td>34.680185</td>\n",
       "    </tr>\n",
       "    <tr>\n",
       "      <th>384</th>\n",
       "      <td>154.557969</td>\n",
       "      <td>46.398550</td>\n",
       "    </tr>\n",
       "    <tr>\n",
       "      <th>385</th>\n",
       "      <td>-135.158058</td>\n",
       "      <td>15.108710</td>\n",
       "    </tr>\n",
       "    <tr>\n",
       "      <th>386</th>\n",
       "      <td>-167.421238</td>\n",
       "      <td>-7.442028</td>\n",
       "    </tr>\n",
       "    <tr>\n",
       "      <th>387</th>\n",
       "      <td>213.655334</td>\n",
       "      <td>76.360639</td>\n",
       "    </tr>\n",
       "    <tr>\n",
       "      <th>388</th>\n",
       "      <td>-52.762678</td>\n",
       "      <td>-39.180441</td>\n",
       "    </tr>\n",
       "    <tr>\n",
       "      <th>389</th>\n",
       "      <td>80.610522</td>\n",
       "      <td>53.153880</td>\n",
       "    </tr>\n",
       "    <tr>\n",
       "      <th>390</th>\n",
       "      <td>28.061875</td>\n",
       "      <td>-0.234750</td>\n",
       "    </tr>\n",
       "    <tr>\n",
       "      <th>391</th>\n",
       "      <td>-7.569464</td>\n",
       "      <td>-52.904744</td>\n",
       "    </tr>\n",
       "    <tr>\n",
       "      <th>392</th>\n",
       "      <td>-4.272538</td>\n",
       "      <td>-0.290055</td>\n",
       "    </tr>\n",
       "    <tr>\n",
       "      <th>393</th>\n",
       "      <td>69.617363</td>\n",
       "      <td>28.115732</td>\n",
       "    </tr>\n",
       "    <tr>\n",
       "      <th>394</th>\n",
       "      <td>48.706641</td>\n",
       "      <td>-3.612449</td>\n",
       "    </tr>\n",
       "    <tr>\n",
       "      <th>395</th>\n",
       "      <td>4.739800</td>\n",
       "      <td>2.030949</td>\n",
       "    </tr>\n",
       "    <tr>\n",
       "      <th>396</th>\n",
       "      <td>300.908193</td>\n",
       "      <td>-43.360394</td>\n",
       "    </tr>\n",
       "    <tr>\n",
       "      <th>397</th>\n",
       "      <td>152.927706</td>\n",
       "      <td>-50.809483</td>\n",
       "    </tr>\n",
       "    <tr>\n",
       "      <th>398</th>\n",
       "      <td>167.917883</td>\n",
       "      <td>-91.213794</td>\n",
       "    </tr>\n",
       "    <tr>\n",
       "      <th>399</th>\n",
       "      <td>-116.354457</td>\n",
       "      <td>-25.526911</td>\n",
       "    </tr>\n",
       "  </tbody>\n",
       "</table>\n",
       "<p>400 rows × 2 columns</p>\n",
       "</div>"
      ],
      "text/plain": [
       "          PCA_1      PCA_2\n",
       "0   -169.452309  61.923209\n",
       "1   -140.637635 -63.051982\n",
       "2     -9.971975  48.867243\n",
       "3     28.025112 -61.117568\n",
       "4   -176.649479  51.593234\n",
       "5    -28.453538  -5.597614\n",
       "6     54.742669 -73.930527\n",
       "7   -286.225438 -57.329041\n",
       "8   -337.649156 -18.828837\n",
       "9     12.097505   9.417517\n",
       "10    28.326970  11.954808\n",
       "11  -100.557408  58.383129\n",
       "12    18.546622 -56.748401\n",
       "13   114.741504  33.937234\n",
       "14   137.905493  24.095531\n",
       "15    88.195970 -71.131098\n",
       "16    14.030614  82.909843\n",
       "17   147.227539 -81.347415\n",
       "18   -23.369579  42.618522\n",
       "19    33.900576  40.421274\n",
       "20    30.891319 -23.915517\n",
       "21   -21.629426 -34.991610\n",
       "22  -236.810280  32.597518\n",
       "23   -54.781749 -47.701736\n",
       "24  -161.327309  63.563500\n",
       "25   -57.698402 -64.947126\n",
       "26   173.210573 -89.145470\n",
       "27   -36.736150  18.957460\n",
       "28   -38.691478  30.650696\n",
       "29   329.303363 -13.025748\n",
       "..          ...        ...\n",
       "370 -242.850007 -72.158556\n",
       "371 -227.737377 -14.044941\n",
       "372 -123.141010 -21.185265\n",
       "373  108.711140 -66.061502\n",
       "374  -49.535642  69.701638\n",
       "375  233.308679 -18.237120\n",
       "376 -244.400064 -18.192227\n",
       "377 -236.960811  20.668434\n",
       "378  345.795407  15.502791\n",
       "379  -77.345371  39.104142\n",
       "380  147.223383  25.952680\n",
       "381   77.233834 -44.738514\n",
       "382  210.499111  20.064077\n",
       "383   18.417636  34.680185\n",
       "384  154.557969  46.398550\n",
       "385 -135.158058  15.108710\n",
       "386 -167.421238  -7.442028\n",
       "387  213.655334  76.360639\n",
       "388  -52.762678 -39.180441\n",
       "389   80.610522  53.153880\n",
       "390   28.061875  -0.234750\n",
       "391   -7.569464 -52.904744\n",
       "392   -4.272538  -0.290055\n",
       "393   69.617363  28.115732\n",
       "394   48.706641  -3.612449\n",
       "395    4.739800   2.030949\n",
       "396  300.908193 -43.360394\n",
       "397  152.927706 -50.809483\n",
       "398  167.917883 -91.213794\n",
       "399 -116.354457 -25.526911\n",
       "\n",
       "[400 rows x 2 columns]"
      ]
     },
     "metadata": {},
     "output_type": "display_data"
    }
   ],
   "source": [
    "display(X_train_projected)"
   ]
  },
  {
   "cell_type": "code",
   "execution_count": 11,
   "metadata": {
    "scrolled": true
   },
   "outputs": [
    {
     "data": {
      "image/png": "[encoded data removed]",
      "text/plain": [
       "<Figure size 576x576 with 1 Axes>"
      ]
     },
     "metadata": {},
     "output_type": "display_data"
    }
   ],
   "source": [
    "plt.figure(figsize = (8,8))\n",
    "plt.scatter(X_train_projected['PCA_1'], X_train_projected['PCA_2'], c=Y_train, cmap=plt.cm.get_cmap('Spectral', 10))\n",
    "plt.xlabel('Component 1');\n",
    "plt.ylabel('Component 2');\n",
    "plt.title('Principal Component Analysis');"
   ]
  },
  {
   "cell_type": "markdown",
   "metadata": {},
   "source": [
    "**Preguntas:**\n",
    "- ¿Qué observa?\n",
    "\n",
    "`En este conjunto de datos se pueden diferenciar bien dos grupos. Pero los mismos siguen sin ser linealmente separables.`\n",
    "- ¿Qué conclusiones puede extraer?\n",
    "\n",
    "`Para poder diferenciar correctamente ambos grupos tendríamos que aplicar un kernel. A simple vista podemos ver que un kernel lineal no serviría debido a que no son linealmente separables, probablemente un kernel cuadrático o gaussiano mejore mucho la accuaracy de nuestro modelo.`"
   ]
  },
  {
   "cell_type": "markdown",
   "metadata": {},
   "source": [
    "### Ejercico 1b:\n",
    "\n",
    "* Primero calcule la accuracy sobre train para una SVM con kernel lineal."
   ]
  },
  {
   "cell_type": "code",
   "execution_count": 12,
   "metadata": {},
   "outputs": [
    {
     "name": "stdout",
     "output_type": "stream",
     "text": [
      "Accuracy en train:\t 0.6975\n"
     ]
    }
   ],
   "source": [
    "clf = LinearSVC(random_state=10000)  \n",
    "clf.fit(X_train, Y_train)\n",
    "Y_pred = clf.predict(X_train)\n",
    "print('Accuracy en train:\\t', accuracy_score(Y_train, Y_pred))"
   ]
  },
  {
   "cell_type": "markdown",
   "metadata": {},
   "source": [
    "**Preguntas:**\n",
    "- ¿Cuál es la accuracy?\n",
    "\n",
    "`69.75%.`\n",
    "- ¿Qué problema tiene el modelo? ¿De sesgo (bias) o de varianza?\n",
    "\n",
    "`Como se puede observar en análisis anteriores el problema no es linealmente separable, por lo tanto con este kernel lineal estamos teniendo problemas de underfitting o high bias, no nos alcanza el modelo para poder representar nuestro conjunto de datos.`\n",
    "\n",
    "* Modifique la SVM para lograr una accuracy en train de 1.0.\n",
    "\n",
    "`Para lograr una mejor accuracy en nuestro modelo se modificará el Kernel, se utilizará un kernel Gaussiano \"Radial Basis Functions\".`"
   ]
  },
  {
   "cell_type": "code",
   "execution_count": 13,
   "metadata": {},
   "outputs": [
    {
     "name": "stdout",
     "output_type": "stream",
     "text": [
      "Accuracy en train:\t 1.0\n"
     ]
    }
   ],
   "source": [
    "clf = sklearn.svm.SVC(kernel=\"rbf\", random_state=10000)\n",
    "clf.fit(X_train, Y_train)\n",
    "Y_pred = clf.predict(X_train)\n",
    "print('Accuracy en train:\\t', accuracy_score(Y_train, Y_pred))"
   ]
  },
  {
   "cell_type": "markdown",
   "metadata": {},
   "source": [
    "### Ejercicio 1c:\n",
    "\n",
    "Evalúe la SVM del ítem anterior sobre los datos de test.\n"
   ]
  },
  {
   "cell_type": "markdown",
   "metadata": {},
   "source": [
    "__Con kernel lineal:__"
   ]
  },
  {
   "cell_type": "code",
   "execution_count": 14,
   "metadata": {},
   "outputs": [
    {
     "name": "stdout",
     "output_type": "stream",
     "text": [
      "Accuracy en train:\t 0.6975\n",
      "Accuracy en test:\t 0.72\n"
     ]
    }
   ],
   "source": [
    "clf = LinearSVC(random_state=10000)  \n",
    "clf.fit(X_train, Y_train)\n",
    "Y_pred = clf.predict(X_train)\n",
    "print('Accuracy en train:\\t', accuracy_score(Y_train, Y_pred))\n",
    "Y_pred = clf.predict(X_test)\n",
    "print('Accuracy en test:\\t', accuracy_score(Y_test, Y_pred))"
   ]
  },
  {
   "cell_type": "markdown",
   "metadata": {},
   "source": [
    "__Con kernel RBF:__"
   ]
  },
  {
   "cell_type": "code",
   "execution_count": 15,
   "metadata": {},
   "outputs": [
    {
     "name": "stdout",
     "output_type": "stream",
     "text": [
      "Accuracy en train:\t 1.0\n",
      "Accuracy en test:\t 0.7\n"
     ]
    }
   ],
   "source": [
    "clf = sklearn.svm.SVC(kernel=\"rbf\", random_state=10000)\n",
    "clf.fit(X_train, Y_train)\n",
    "Y_pred = clf.predict(X_train)\n",
    "print('Accuracy en train:\\t', accuracy_score(Y_train, Y_pred))\n",
    "Y_pred = clf.predict(X_test)\n",
    "print('Accuracy en test:\\t', accuracy_score(Y_test, Y_pred))"
   ]
  },
  {
   "cell_type": "markdown",
   "metadata": {},
   "source": [
    "**Preguntas:**\n",
    "- ¿Cuál es la accuracy en test?\n",
    "\n",
    "`Con kernel lineal 72% y con kernel gaussiano 70%.`\n",
    "\n",
    "- ¿Qué problema tiene el modelo? ¿De sesgo (bias) o de varianza?\n",
    "\n",
    "`Con kernel lineal tenemos un 72% de accuracy para el dataset de test, este porcentaje es mayor que para los datos de train y probablemente se deba a un problema de underfitting (high bias) como se dijo anteriormente. Cuando se usa un kernel Gaussiano para los datos de train se logra una accuracy de 100% pero no así para los datos de test con los que se obtiene 70%. Por la diferencia entre ambas accuracy podríamos estar en presencia de high variance pero leve (Excelente precisión para training pero se nota una baja para test).` \n",
    "\n",
    "* Modifique parámetros de la SVM para lograr una accuracy en test mayor a 0.9. La accuracy en train puede ser menos de 1.0. Puede buscar los valores apropiados a mano o usar grid search.\n",
    "\n",
    "`Para lograr un accuracy superior a 0.9 se utiliza grid search para evaluar el modelo con distintos valores de parámetros. Los parámetros que se tocarán serán: el número de iteraciones de entrenamiento, la tolerancia de error con la que corta el modelo, el factor de regularización C (con el cual podremos acomodar el overfitting o high variance en caso que haya) y el parámetro de la exponencial de la función Gaussiana gamma.`"
   ]
  },
  {
   "cell_type": "code",
   "execution_count": 16,
   "metadata": {},
   "outputs": [
    {
     "name": "stdout",
     "output_type": "stream",
     "text": [
      "Mejor conjunto de parámetros:\n",
      "{'gamma': 0.001, 'C': 1.0, 'max_iter': 10000, 'tol': 0.001}\n",
      "\n"
     ]
    }
   ],
   "source": [
    "exploring_params = {\n",
    "        'C': [1./40., 1./30., 1./20., 1./10., 1./1., 1./0.9, 1./0.8, 1./0.5, 1./0.1, 1./0.01, 10.0, 100.0, 1000.0],\n",
    "        'tol': [1e-3, 1e-5], \n",
    "        'max_iter': [10000, 15000, 20000],\n",
    "        'gamma': [1./400.0, 1./200.0, 1./800.0, 1./1000.0]\n",
    "    }  \n",
    "\n",
    "m = sklearn.svm.SVC(kernel=\"rbf\", random_state=10000)\n",
    "model = GridSearchCV(m, exploring_params, cv=5, scoring='accuracy')\n",
    "model.fit(X_train, Y_train)\n",
    "\n",
    "print(\"Mejor conjunto de parámetros:\")\n",
    "print(model.best_params_, end=\"\\n\\n\")\n"
   ]
  },
  {
   "cell_type": "code",
   "execution_count": 17,
   "metadata": {},
   "outputs": [
    {
     "name": "stdout",
     "output_type": "stream",
     "text": [
      "Accuracy en test:\t 0.9\n",
      "             precision    recall  f1-score   support\n",
      "\n",
      "       -1.0       0.82      0.98      0.89        43\n",
      "        1.0       0.98      0.84      0.91        57\n",
      "\n",
      "avg / total       0.91      0.90      0.90       100\n",
      "\n",
      "\n"
     ]
    }
   ],
   "source": [
    "Y_test, Y_pred = Y_test, model.predict(X_test)\n",
    "print('Accuracy en test:\\t', accuracy_score(Y_test, Y_pred))\n",
    "print(classification_report(Y_test, Y_pred), end=\"\\n\\n\")"
   ]
  },
  {
   "cell_type": "markdown",
   "metadata": {},
   "source": [
    "`Cómo se puede observar se ha logrado una accuracy para test del 91%, se logró el objetivo. Además el valor de C del mejor modelo es de 1.0, recordando que para problemas de underfitting tenemos C con valores altos y para overfitting C con valores menores a 1, podemos mantener la idea de que teníamos un leve overfitting. Probablemente el valor que más influyó fue el de la exponencial de la Gaussiana (gamma) con el cual podemos modificar la forma en que están \"agrupados\" nuestros datos (más bien la forma de la gaussiana) y tal vez el modelo logró separarlos mejor. Recordando que al usar PSA se logró un grupo de datos en el cual había una diferencia marcada, posiblemente usando PCA para generar un nuevo dataset de features se hubiera mejorado aún más la precisión del modelo.`"
   ]
  },
  {
   "cell_type": "markdown",
   "metadata": {},
   "source": [
    "## Ejercicio 2: Revisitando el Titanic\n",
    "\n",
    "Este ejercicio se basa en el siguiente análisis de datos visto en clase:\n",
    "\n",
    "- https://www.kaggle.com/zlatankr/titanic-random-forest-82-78/notebook\n",
    "\n",
    "Aquí, se logra entrenar una Random Forest con un out-of-bag score de `0.8294`.\n"
   ]
  },
  {
   "cell_type": "markdown",
   "metadata": {},
   "source": [
    "### Ejercicio 2a:\n",
    "\n",
    "El objetivo de este ejercicio es ver cuánto da el score si no se quiere hacer ninguna preparación de los datos.\n",
    "\n",
    "Para esto, deben eliminarse las columnas que no tienen datos numéricos y las que tienen datos incompletos, ya que los algoritmos de aprendizaje automático no saben lidiar con ellos."
   ]
  },
  {
   "cell_type": "code",
   "execution_count": 18,
   "metadata": {
    "scrolled": true
   },
   "outputs": [
    {
     "name": "stdout",
     "output_type": "stream",
     "text": [
      "<class 'pandas.core.frame.DataFrame'>\n",
      "RangeIndex: 891 entries, 0 to 890\n",
      "Data columns (total 12 columns):\n",
      "PassengerId    891 non-null int64\n",
      "Survived       891 non-null int64\n",
      "Pclass         891 non-null int64\n",
      "Name           891 non-null object\n",
      "Sex            891 non-null object\n",
      "Age            714 non-null float64\n",
      "SibSp          891 non-null int64\n",
      "Parch          891 non-null int64\n",
      "Ticket         891 non-null object\n",
      "Fare           891 non-null float64\n",
      "Cabin          204 non-null object\n",
      "Embarked       889 non-null object\n",
      "dtypes: float64(2), int64(5), object(5)\n",
      "memory usage: 83.6+ KB\n"
     ]
    }
   ],
   "source": [
    "# Cargar los datos\n",
    "train = pd.read_csv('datasets/titanic/train.csv')\n",
    "train.info()"
   ]
  },
  {
   "cell_type": "code",
   "execution_count": 19,
   "metadata": {},
   "outputs": [
    {
     "data": {
      "text/html": [
       "<div>\n",
       "<style scoped>\n",
       "    .dataframe tbody tr th:only-of-type {\n",
       "        vertical-align: middle;\n",
       "    }\n",
       "\n",
       "    .dataframe tbody tr th {\n",
       "        vertical-align: top;\n",
       "    }\n",
       "\n",
       "    .dataframe thead th {\n",
       "        text-align: right;\n",
       "    }\n",
       "</style>\n",
       "<table border=\"1\" class=\"dataframe\">\n",
       "  <thead>\n",
       "    <tr style=\"text-align: right;\">\n",
       "      <th></th>\n",
       "      <th>PassengerId</th>\n",
       "      <th>Survived</th>\n",
       "      <th>Pclass</th>\n",
       "      <th>Name</th>\n",
       "      <th>Sex</th>\n",
       "      <th>Age</th>\n",
       "      <th>SibSp</th>\n",
       "      <th>Parch</th>\n",
       "      <th>Ticket</th>\n",
       "      <th>Fare</th>\n",
       "      <th>Cabin</th>\n",
       "      <th>Embarked</th>\n",
       "    </tr>\n",
       "  </thead>\n",
       "  <tbody>\n",
       "    <tr>\n",
       "      <th>0</th>\n",
       "      <td>1</td>\n",
       "      <td>0</td>\n",
       "      <td>3</td>\n",
       "      <td>Braund, Mr. Owen Harris</td>\n",
       "      <td>male</td>\n",
       "      <td>22.0</td>\n",
       "      <td>1</td>\n",
       "      <td>0</td>\n",
       "      <td>A/5 21171</td>\n",
       "      <td>7.2500</td>\n",
       "      <td>NaN</td>\n",
       "      <td>S</td>\n",
       "    </tr>\n",
       "    <tr>\n",
       "      <th>1</th>\n",
       "      <td>2</td>\n",
       "      <td>1</td>\n",
       "      <td>1</td>\n",
       "      <td>Cumings, Mrs. John Bradley (Florence Briggs Th...</td>\n",
       "      <td>female</td>\n",
       "      <td>38.0</td>\n",
       "      <td>1</td>\n",
       "      <td>0</td>\n",
       "      <td>PC 17599</td>\n",
       "      <td>71.2833</td>\n",
       "      <td>C85</td>\n",
       "      <td>C</td>\n",
       "    </tr>\n",
       "    <tr>\n",
       "      <th>2</th>\n",
       "      <td>3</td>\n",
       "      <td>1</td>\n",
       "      <td>3</td>\n",
       "      <td>Heikkinen, Miss. Laina</td>\n",
       "      <td>female</td>\n",
       "      <td>26.0</td>\n",
       "      <td>0</td>\n",
       "      <td>0</td>\n",
       "      <td>STON/O2. 3101282</td>\n",
       "      <td>7.9250</td>\n",
       "      <td>NaN</td>\n",
       "      <td>S</td>\n",
       "    </tr>\n",
       "    <tr>\n",
       "      <th>3</th>\n",
       "      <td>4</td>\n",
       "      <td>1</td>\n",
       "      <td>1</td>\n",
       "      <td>Futrelle, Mrs. Jacques Heath (Lily May Peel)</td>\n",
       "      <td>female</td>\n",
       "      <td>35.0</td>\n",
       "      <td>1</td>\n",
       "      <td>0</td>\n",
       "      <td>113803</td>\n",
       "      <td>53.1000</td>\n",
       "      <td>C123</td>\n",
       "      <td>S</td>\n",
       "    </tr>\n",
       "    <tr>\n",
       "      <th>4</th>\n",
       "      <td>5</td>\n",
       "      <td>0</td>\n",
       "      <td>3</td>\n",
       "      <td>Allen, Mr. William Henry</td>\n",
       "      <td>male</td>\n",
       "      <td>35.0</td>\n",
       "      <td>0</td>\n",
       "      <td>0</td>\n",
       "      <td>373450</td>\n",
       "      <td>8.0500</td>\n",
       "      <td>NaN</td>\n",
       "      <td>S</td>\n",
       "    </tr>\n",
       "    <tr>\n",
       "      <th>5</th>\n",
       "      <td>6</td>\n",
       "      <td>0</td>\n",
       "      <td>3</td>\n",
       "      <td>Moran, Mr. James</td>\n",
       "      <td>male</td>\n",
       "      <td>NaN</td>\n",
       "      <td>0</td>\n",
       "      <td>0</td>\n",
       "      <td>330877</td>\n",
       "      <td>8.4583</td>\n",
       "      <td>NaN</td>\n",
       "      <td>Q</td>\n",
       "    </tr>\n",
       "    <tr>\n",
       "      <th>6</th>\n",
       "      <td>7</td>\n",
       "      <td>0</td>\n",
       "      <td>1</td>\n",
       "      <td>McCarthy, Mr. Timothy J</td>\n",
       "      <td>male</td>\n",
       "      <td>54.0</td>\n",
       "      <td>0</td>\n",
       "      <td>0</td>\n",
       "      <td>17463</td>\n",
       "      <td>51.8625</td>\n",
       "      <td>E46</td>\n",
       "      <td>S</td>\n",
       "    </tr>\n",
       "    <tr>\n",
       "      <th>7</th>\n",
       "      <td>8</td>\n",
       "      <td>0</td>\n",
       "      <td>3</td>\n",
       "      <td>Palsson, Master. Gosta Leonard</td>\n",
       "      <td>male</td>\n",
       "      <td>2.0</td>\n",
       "      <td>3</td>\n",
       "      <td>1</td>\n",
       "      <td>349909</td>\n",
       "      <td>21.0750</td>\n",
       "      <td>NaN</td>\n",
       "      <td>S</td>\n",
       "    </tr>\n",
       "    <tr>\n",
       "      <th>8</th>\n",
       "      <td>9</td>\n",
       "      <td>1</td>\n",
       "      <td>3</td>\n",
       "      <td>Johnson, Mrs. Oscar W (Elisabeth Vilhelmina Berg)</td>\n",
       "      <td>female</td>\n",
       "      <td>27.0</td>\n",
       "      <td>0</td>\n",
       "      <td>2</td>\n",
       "      <td>347742</td>\n",
       "      <td>11.1333</td>\n",
       "      <td>NaN</td>\n",
       "      <td>S</td>\n",
       "    </tr>\n",
       "    <tr>\n",
       "      <th>9</th>\n",
       "      <td>10</td>\n",
       "      <td>1</td>\n",
       "      <td>2</td>\n",
       "      <td>Nasser, Mrs. Nicholas (Adele Achem)</td>\n",
       "      <td>female</td>\n",
       "      <td>14.0</td>\n",
       "      <td>1</td>\n",
       "      <td>0</td>\n",
       "      <td>237736</td>\n",
       "      <td>30.0708</td>\n",
       "      <td>NaN</td>\n",
       "      <td>C</td>\n",
       "    </tr>\n",
       "  </tbody>\n",
       "</table>\n",
       "</div>"
      ],
      "text/plain": [
       "   PassengerId  Survived  Pclass  \\\n",
       "0            1         0       3   \n",
       "1            2         1       1   \n",
       "2            3         1       3   \n",
       "3            4         1       1   \n",
       "4            5         0       3   \n",
       "5            6         0       3   \n",
       "6            7         0       1   \n",
       "7            8         0       3   \n",
       "8            9         1       3   \n",
       "9           10         1       2   \n",
       "\n",
       "                                                Name     Sex   Age  SibSp  \\\n",
       "0                            Braund, Mr. Owen Harris    male  22.0      1   \n",
       "1  Cumings, Mrs. John Bradley (Florence Briggs Th...  female  38.0      1   \n",
       "2                             Heikkinen, Miss. Laina  female  26.0      0   \n",
       "3       Futrelle, Mrs. Jacques Heath (Lily May Peel)  female  35.0      1   \n",
       "4                           Allen, Mr. William Henry    male  35.0      0   \n",
       "5                                   Moran, Mr. James    male   NaN      0   \n",
       "6                            McCarthy, Mr. Timothy J    male  54.0      0   \n",
       "7                     Palsson, Master. Gosta Leonard    male   2.0      3   \n",
       "8  Johnson, Mrs. Oscar W (Elisabeth Vilhelmina Berg)  female  27.0      0   \n",
       "9                Nasser, Mrs. Nicholas (Adele Achem)  female  14.0      1   \n",
       "\n",
       "   Parch            Ticket     Fare Cabin Embarked  \n",
       "0      0         A/5 21171   7.2500   NaN        S  \n",
       "1      0          PC 17599  71.2833   C85        C  \n",
       "2      0  STON/O2. 3101282   7.9250   NaN        S  \n",
       "3      0            113803  53.1000  C123        S  \n",
       "4      0            373450   8.0500   NaN        S  \n",
       "5      0            330877   8.4583   NaN        Q  \n",
       "6      0             17463  51.8625   E46        S  \n",
       "7      1            349909  21.0750   NaN        S  \n",
       "8      2            347742  11.1333   NaN        S  \n",
       "9      0            237736  30.0708   NaN        C  "
      ]
     },
     "execution_count": 19,
     "metadata": {},
     "output_type": "execute_result"
    }
   ],
   "source": [
    "train.head(10)"
   ]
  },
  {
   "cell_type": "code",
   "execution_count": 20,
   "metadata": {},
   "outputs": [],
   "source": [
    "# Eliminamos las columnas que no tienen números, y las que tienen datos incompletos.\n",
    "del train['PassengerId'] \n",
    "del train['Name']\n",
    "del train['Sex']\n",
    "del train['Age']\n",
    "del train['Ticket']\n",
    "del train['Cabin']\n",
    "del train['Embarked']"
   ]
  },
  {
   "cell_type": "code",
   "execution_count": 21,
   "metadata": {},
   "outputs": [
    {
     "name": "stdout",
     "output_type": "stream",
     "text": [
      "0.7172\n"
     ]
    }
   ],
   "source": [
    "# Entrenamos la Random Forest, e imprimimos el out-of-bag score\n",
    "rf = RandomForestClassifier(criterion='gini', \n",
    "                             n_estimators=700,\n",
    "                             min_samples_split=10,\n",
    "                             min_samples_leaf=1,\n",
    "                             max_features='auto',\n",
    "                             oob_score=True,\n",
    "                             random_state=1,\n",
    "                             n_jobs=-1)\n",
    "rf.fit(train.iloc[:, 1:], train.iloc[:, 0])\n",
    "print(\"%.4f\" % rf.oob_score_)"
   ]
  },
  {
   "cell_type": "markdown",
   "metadata": {},
   "source": [
    "`El score cambia de  0.8294 a 0.7172 cuando no aplicamos ningún tipo de preparción de los datos.`"
   ]
  },
  {
   "cell_type": "markdown",
   "metadata": {},
   "source": [
    "### Ejercicio 2b:\n",
    "\n",
    "En este ejercicio deberá hacer tres mejoras en la preparación de los datos:\n",
    "\n",
    "- Completar la columna \"Age\" y usarla.\n",
    "- Agregar una nueva columna con el largo del nombre.\n",
    "- Convertir la columna \"Sex\" a valores numéricos y usarla.\n",
    "\n",
    "Calcular el OOB score de cada una de las mejoras por separado.\n",
    "\n",
    "**Responda**: ¿Cuál de las tres mejoras aporta más?"
   ]
  },
  {
   "cell_type": "code",
   "execution_count": 22,
   "metadata": {},
   "outputs": [
    {
     "name": "stdout",
     "output_type": "stream",
     "text": [
      "<class 'pandas.core.frame.DataFrame'>\n",
      "RangeIndex: 891 entries, 0 to 890\n",
      "Data columns (total 12 columns):\n",
      "PassengerId    891 non-null int64\n",
      "Survived       891 non-null int64\n",
      "Pclass         891 non-null int64\n",
      "Name           891 non-null object\n",
      "Sex            891 non-null object\n",
      "Age            714 non-null float64\n",
      "SibSp          891 non-null int64\n",
      "Parch          891 non-null int64\n",
      "Ticket         891 non-null object\n",
      "Fare           891 non-null float64\n",
      "Cabin          204 non-null object\n",
      "Embarked       889 non-null object\n",
      "dtypes: float64(2), int64(5), object(5)\n",
      "memory usage: 83.6+ KB\n"
     ]
    }
   ],
   "source": [
    "# Cargar nuevamente los datos\n",
    "train = pd.read_csv('datasets/titanic/train.csv')\n",
    "train.info()"
   ]
  },
  {
   "cell_type": "code",
   "execution_count": 23,
   "metadata": {
    "scrolled": true
   },
   "outputs": [
    {
     "name": "stdout",
     "output_type": "stream",
     "text": [
      "<class 'pandas.core.frame.DataFrame'>\n",
      "RangeIndex: 891 entries, 0 to 890\n",
      "Data columns (total 12 columns):\n",
      "PassengerId    891 non-null int64\n",
      "Survived       891 non-null int64\n",
      "Pclass         891 non-null int64\n",
      "Name           891 non-null object\n",
      "Sex            891 non-null object\n",
      "Age            891 non-null float64\n",
      "SibSp          891 non-null int64\n",
      "Parch          891 non-null int64\n",
      "Ticket         891 non-null object\n",
      "Fare           891 non-null float64\n",
      "Cabin          204 non-null object\n",
      "Embarked       889 non-null object\n",
      "dtypes: float64(2), int64(5), object(5)\n",
      "memory usage: 83.6+ KB\n"
     ]
    }
   ],
   "source": [
    "# Completamos con el valor medio los datos faltantes en el campo Age\n",
    "train.Age.fillna(train.Age.mean(), inplace=True)\n",
    "train.info()"
   ]
  },
  {
   "cell_type": "code",
   "execution_count": 24,
   "metadata": {},
   "outputs": [
    {
     "name": "stdout",
     "output_type": "stream",
     "text": [
      "<class 'pandas.core.frame.DataFrame'>\n",
      "RangeIndex: 891 entries, 0 to 890\n",
      "Data columns (total 6 columns):\n",
      "Survived    891 non-null int64\n",
      "Pclass      891 non-null int64\n",
      "Age         891 non-null float64\n",
      "SibSp       891 non-null int64\n",
      "Parch       891 non-null int64\n",
      "Fare        891 non-null float64\n",
      "dtypes: float64(2), int64(4)\n",
      "memory usage: 41.8 KB\n"
     ]
    }
   ],
   "source": [
    "del train['PassengerId']  \n",
    "del train['Name']\n",
    "del train['Sex']\n",
    "del train['Ticket']\n",
    "del train['Cabin']\n",
    "del train['Embarked']\n",
    "train.info()"
   ]
  },
  {
   "cell_type": "code",
   "execution_count": 25,
   "metadata": {},
   "outputs": [
    {
     "name": "stdout",
     "output_type": "stream",
     "text": [
      "0.7250\n"
     ]
    }
   ],
   "source": [
    "rf = RandomForestClassifier(criterion='gini', \n",
    "                             n_estimators=700,\n",
    "                             min_samples_split=10,\n",
    "                             min_samples_leaf=1,\n",
    "                             max_features='auto',\n",
    "                             oob_score=True,\n",
    "                             random_state=1,\n",
    "                             n_jobs=-1)\n",
    "rf.fit(train.iloc[:, 1:], train.iloc[:, 0])\n",
    "print(\"%.4f\" % rf.oob_score_)"
   ]
  },
  {
   "cell_type": "markdown",
   "metadata": {},
   "source": [
    "`Completar los valores faltantes de la columna Age (se completa con el valor de edad medio) nos da un OOB score de 0.725, es decir que ha mejorado un poco con respecto a los datos sin un pre procesamiento.`"
   ]
  },
  {
   "cell_type": "markdown",
   "metadata": {},
   "source": [
    "---"
   ]
  },
  {
   "cell_type": "code",
   "execution_count": 26,
   "metadata": {},
   "outputs": [
    {
     "name": "stdout",
     "output_type": "stream",
     "text": [
      "<class 'pandas.core.frame.DataFrame'>\n",
      "RangeIndex: 891 entries, 0 to 890\n",
      "Data columns (total 12 columns):\n",
      "PassengerId    891 non-null int64\n",
      "Survived       891 non-null int64\n",
      "Pclass         891 non-null int64\n",
      "Name           891 non-null object\n",
      "Sex            891 non-null object\n",
      "Age            714 non-null float64\n",
      "SibSp          891 non-null int64\n",
      "Parch          891 non-null int64\n",
      "Ticket         891 non-null object\n",
      "Fare           891 non-null float64\n",
      "Cabin          204 non-null object\n",
      "Embarked       889 non-null object\n",
      "dtypes: float64(2), int64(5), object(5)\n",
      "memory usage: 83.6+ KB\n"
     ]
    }
   ],
   "source": [
    "# Cargar nuevamente los datos\n",
    "train = pd.read_csv('datasets/titanic/train.csv')\n",
    "train.info()"
   ]
  },
  {
   "cell_type": "code",
   "execution_count": 27,
   "metadata": {
    "scrolled": true
   },
   "outputs": [
    {
     "name": "stdout",
     "output_type": "stream",
     "text": [
      "<class 'pandas.core.frame.DataFrame'>\n",
      "RangeIndex: 891 entries, 0 to 890\n",
      "Data columns (total 13 columns):\n",
      "PassengerId    891 non-null int64\n",
      "Survived       891 non-null int64\n",
      "Pclass         891 non-null int64\n",
      "Name           891 non-null object\n",
      "Sex            891 non-null object\n",
      "Age            714 non-null float64\n",
      "SibSp          891 non-null int64\n",
      "Parch          891 non-null int64\n",
      "Ticket         891 non-null object\n",
      "Fare           891 non-null float64\n",
      "Cabin          204 non-null object\n",
      "Embarked       889 non-null object\n",
      "Name_Len       891 non-null int64\n",
      "dtypes: float64(2), int64(6), object(5)\n",
      "memory usage: 90.6+ KB\n"
     ]
    }
   ],
   "source": [
    "# Agregamos una columna con el largo del nombre\n",
    "train['Name_Len'] = train['Name'].apply(lambda x: len(x))\n",
    "train.info()"
   ]
  },
  {
   "cell_type": "code",
   "execution_count": 28,
   "metadata": {},
   "outputs": [
    {
     "name": "stdout",
     "output_type": "stream",
     "text": [
      "<class 'pandas.core.frame.DataFrame'>\n",
      "RangeIndex: 891 entries, 0 to 890\n",
      "Data columns (total 6 columns):\n",
      "Survived    891 non-null int64\n",
      "Pclass      891 non-null int64\n",
      "SibSp       891 non-null int64\n",
      "Parch       891 non-null int64\n",
      "Fare        891 non-null float64\n",
      "Name_Len    891 non-null int64\n",
      "dtypes: float64(1), int64(5)\n",
      "memory usage: 41.8 KB\n"
     ]
    }
   ],
   "source": [
    "del train['PassengerId']  \n",
    "del train['Name']\n",
    "del train['Sex']\n",
    "del train['Age']\n",
    "del train['Ticket']\n",
    "del train['Cabin']\n",
    "del train['Embarked']\n",
    "train.info()"
   ]
  },
  {
   "cell_type": "code",
   "execution_count": 29,
   "metadata": {},
   "outputs": [
    {
     "name": "stdout",
     "output_type": "stream",
     "text": [
      "0.7407\n"
     ]
    }
   ],
   "source": [
    "rf = RandomForestClassifier(criterion='gini', \n",
    "                             n_estimators=700,\n",
    "                             min_samples_split=10,\n",
    "                             min_samples_leaf=1,\n",
    "                             max_features='auto',\n",
    "                             oob_score=True,\n",
    "                             random_state=1,\n",
    "                             n_jobs=-1)\n",
    "rf.fit(train.iloc[:, 1:], train.iloc[:, 0])\n",
    "print(\"%.4f\" % rf.oob_score_)"
   ]
  },
  {
   "cell_type": "markdown",
   "metadata": {},
   "source": [
    "`Agregar una nueva columna con el dato del largo del nombre nos ha dado una mejora más significativa que la edad, ya que se obtuvo un OOB score de 0.7407`"
   ]
  },
  {
   "cell_type": "markdown",
   "metadata": {},
   "source": [
    "---"
   ]
  },
  {
   "cell_type": "code",
   "execution_count": 30,
   "metadata": {},
   "outputs": [
    {
     "name": "stdout",
     "output_type": "stream",
     "text": [
      "<class 'pandas.core.frame.DataFrame'>\n",
      "RangeIndex: 891 entries, 0 to 890\n",
      "Data columns (total 12 columns):\n",
      "PassengerId    891 non-null int64\n",
      "Survived       891 non-null int64\n",
      "Pclass         891 non-null int64\n",
      "Name           891 non-null object\n",
      "Sex            891 non-null object\n",
      "Age            714 non-null float64\n",
      "SibSp          891 non-null int64\n",
      "Parch          891 non-null int64\n",
      "Ticket         891 non-null object\n",
      "Fare           891 non-null float64\n",
      "Cabin          204 non-null object\n",
      "Embarked       889 non-null object\n",
      "dtypes: float64(2), int64(5), object(5)\n",
      "memory usage: 83.6+ KB\n"
     ]
    }
   ],
   "source": [
    "# Cargar nuevamente los datos\n",
    "train = pd.read_csv('datasets/titanic/train.csv')\n",
    "train.info()"
   ]
  },
  {
   "cell_type": "code",
   "execution_count": 31,
   "metadata": {},
   "outputs": [],
   "source": [
    "# Ponemos 1 en lugar de 'female' y 0 en lugar de 'male'\n",
    "def f(df):\n",
    "    df = df.replace('female', '1')\n",
    "    df = df.replace('male', '0')\n",
    "    return df\n",
    "    \n",
    "train['Sex'] = train['Sex'].apply(f)    "
   ]
  },
  {
   "cell_type": "code",
   "execution_count": 32,
   "metadata": {},
   "outputs": [
    {
     "data": {
      "text/plain": [
       "0    577\n",
       "1    314\n",
       "Name: Sex, dtype: int64"
      ]
     },
     "execution_count": 32,
     "metadata": {},
     "output_type": "execute_result"
    }
   ],
   "source": [
    "train.Sex.value_counts()"
   ]
  },
  {
   "cell_type": "code",
   "execution_count": 33,
   "metadata": {},
   "outputs": [
    {
     "name": "stdout",
     "output_type": "stream",
     "text": [
      "<class 'pandas.core.frame.DataFrame'>\n",
      "RangeIndex: 891 entries, 0 to 890\n",
      "Data columns (total 12 columns):\n",
      "PassengerId    891 non-null int64\n",
      "Survived       891 non-null int64\n",
      "Pclass         891 non-null int64\n",
      "Name           891 non-null object\n",
      "Sex            891 non-null object\n",
      "Age            714 non-null float64\n",
      "SibSp          891 non-null int64\n",
      "Parch          891 non-null int64\n",
      "Ticket         891 non-null object\n",
      "Fare           891 non-null float64\n",
      "Cabin          204 non-null object\n",
      "Embarked       889 non-null object\n",
      "dtypes: float64(2), int64(5), object(5)\n",
      "memory usage: 83.6+ KB\n"
     ]
    }
   ],
   "source": [
    "train.info()"
   ]
  },
  {
   "cell_type": "code",
   "execution_count": 34,
   "metadata": {
    "scrolled": true
   },
   "outputs": [
    {
     "name": "stdout",
     "output_type": "stream",
     "text": [
      "<class 'pandas.core.frame.DataFrame'>\n",
      "RangeIndex: 891 entries, 0 to 890\n",
      "Data columns (total 6 columns):\n",
      "Survived    891 non-null int64\n",
      "Pclass      891 non-null int64\n",
      "Sex         891 non-null object\n",
      "SibSp       891 non-null int64\n",
      "Parch       891 non-null int64\n",
      "Fare        891 non-null float64\n",
      "dtypes: float64(1), int64(4), object(1)\n",
      "memory usage: 41.8+ KB\n"
     ]
    }
   ],
   "source": [
    "del train['PassengerId']  \n",
    "del train['Name']\n",
    "del train['Age']\n",
    "del train['Ticket']\n",
    "del train['Cabin']\n",
    "del train['Embarked']\n",
    "train.info()"
   ]
  },
  {
   "cell_type": "code",
   "execution_count": 35,
   "metadata": {},
   "outputs": [
    {
     "name": "stdout",
     "output_type": "stream",
     "text": [
      "0.8025\n"
     ]
    }
   ],
   "source": [
    "rf = RandomForestClassifier(criterion='gini', \n",
    "                             n_estimators=700,\n",
    "                             min_samples_split=10,\n",
    "                             min_samples_leaf=1,\n",
    "                             max_features='auto',\n",
    "                             oob_score=True,\n",
    "                             random_state=1,\n",
    "                             n_jobs=-1)\n",
    "rf.fit(train.iloc[:, 1:], train.iloc[:, 0])\n",
    "print(\"%.4f\" % rf.oob_score_)"
   ]
  },
  {
   "cell_type": "markdown",
   "metadata": {},
   "source": [
    "`Luego de convertir la columna sex a valores numéricos se obtiene una gran mejora en el score. Cómo se puede observar se logra un OOB score de 0.8025.`"
   ]
  },
  {
   "cell_type": "markdown",
   "metadata": {},
   "source": [
    "`Luego de realizar las tres mejoras a nuestro set de datos y probarlas por separado se puede ver que la que más aporta al OOB score del modelo es convertir la columna sex a valores numéricos y utilizarla.`"
   ]
  }
 ],
 "metadata": {
  "kernelspec": {
   "display_name": "Python 3",
   "language": "python",
   "name": "python3"
  },
  "language_info": {
   "codemirror_mode": {
    "name": "ipython",
    "version": 3
   },
   "file_extension": ".py",
   "mimetype": "text/x-python",
   "name": "python",
   "nbconvert_exporter": "python",
   "pygments_lexer": "ipython3",
   "version": "3.5.2"
  }
 },
 "nbformat": 4,
 "nbformat_minor": 2
}
