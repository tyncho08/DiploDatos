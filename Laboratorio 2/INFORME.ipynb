{
 "cells": [
  {
   "cell_type": "markdown",
   "metadata": {},
   "source": [
    "# ¿Qué tan diferentes somos los hombres y las mujeres?\n",
    "\n",
    "Se ha impuesto en nuestros días una fuerte cultura __unisex__ donde es políticamente incorrecto hablar de diferencias sexuales. La tendencia va hacia eliminar estas diferencias porque mientras éstas existan la relación entre hombres y mujeres se presenta como una lucha de poderes, en rivalidad competitiva y revanchista. Para evitar cualquier tipo de supremacía, se busca cancelar las disimilitudes entre los sexos que, para la ideología de género, son condicionamientos culturales simples. Afirmar que son lo mismo y que no hay diferencias les hace un flaco favor a hombres y mujeres. Es más sensato sostener que entre hombres y mujeres tenemos diversas fortalezas y visiones de la realidad.\n",
    "\n",
    "La neurobióloga norteamericana Louann Brizendine escribió dos libros fruto de sus investigaciones: *“El cerebro masculino”* y *“El cerebro femenino”*. Sus conclusiones son interesantísimas. Ella concluye que los cerebros de ambos sexos son diferentes. Brizendine se da cuenta que su hijo – a quien pretendía no influir en su sexualidad con los juguetes que le regalaban –  desarmó una muñeca para utilizar su pierna como arma de guerra y también descubrió que en todas las culturas los juegos de niños y niñas son diferentes. Estas disparidades son producidas por dos factores principales: las hormonas y el aprendizaje. Las primeras moldean el cerebro y, por lo tanto, los comportamientos. Por medio de la educación nuestro cerebro se sigue formando y generando nuevos circuitos cerebrales.\n",
    "\n",
    "Por la testosterona en el hombre se desarrollan áreas del cerebro como la del deseo sexual, la agresividad, la defensa del territorio y el desafío de la autoridad. En la mujer se desarrollan especiales habilidades para la escucha, la empatía y el contagio emocional. El cerebro masculino es más grande que el de la mujer, sin embargo son ellas las que lo usan mejor porque usan ambos hemisferios.\n",
    "\n",
    "En el presente trabajo, se pretende llevar a cabo un análisis de los géneros masculino y femenino, utilizando para ello un conjunto de datos. En dicho conjunto, se encuentran los resultados de una entrevista a más de 1000 personas, quienes fueron consultados sobre 150 categorías diferentes. Se pretende poder extraer algunas conclusiones de estos datos, que nos permitan afirmar ó refutar ciertas diferencias entre el hombre y la mujer."
   ]
  },
  {
   "cell_type": "markdown",
   "metadata": {},
   "source": [
    "****\n",
    "## Datos utilizados\n",
    "\n",
    "Nuestro análisis se basa en la información proporcionada por Kaggle, más precisamente por el dataset *\"We are from our childhood\"*, cuyas características principales son los siguientes:\n",
    "\n",
    "* Cantidad de personas entrevistadas: 1010\n",
    "* Cantidad de variables analizadas: 150 (categóricas y numéricas)\n",
    "* Edad media de los entrevistados: 20 años (con una desviación estándar de 2.8 años)\n",
    "* Proporción de sexos: \n",
    ">  59% mujeres y 41% hombres\n",
    "* Área de procedencia de los entrevistados: \n",
    ">  70% de la ciudad y 30% del campo.\n",
    "\n"
   ]
  },
  {
   "cell_type": "markdown",
   "metadata": {},
   "source": [
    "****\n",
    "## Analizando la independencia entre variables\n",
    "\n",
    "Como ya sabemos, el conjunto de datos se encuentra formado por 150 variables (ó categorías), dentro de las cuales existen variables categóricas (por ejemplo: la respuesta \"nunca\") y variables numéricas (por ejemplo: el número 3). \n",
    "\n",
    "El primer análisis que se realizó, fue un análisis de independencia de variables categóricas, para lo cual se utilizó el test de independencia $\\chi^2$, con un __nivel de significancia de 0.05__. Cómo queremos analizar los datos en base al género: masculino y femenino, tomamos como __variable común__ a éste y como __variable específica__ a cada una de las restantes variables categóricas; de ésta manera vamos a poder responder a la siguiente pregunta: ¿La __variable común__ y la __variable específica__ son independientes? \n",
    "\n",
    "Las categorías del dataset son muy variadas, tenemos categorías de gustos musicales, hobbies, estudios, de personalidad, físicos, etc. A continuación se muestran algunas de las categorías del dataset, recordemos que son 150:\n",
    "\n",
    "![Texto Alternativo](Imagenes/palabras.png)"
   ]
  },
  {
   "cell_type": "markdown",
   "metadata": {},
   "source": [
    "Ahora bien, queremos analizar independencia de variables pero todavía no definimos que significa ese término, por lo tanto vamos a escribir una breve definición: en teoría de probabilidades, se dice que dos sucesos aleatorios (en este caso las respuestas de los participantes) son independientes entre sí, cuando la probabilidad de cada uno de ellos no está influida porque el otro suceso ocurra o no, es decir, cuando ambos sucesos no están relacionados. \n",
    "\n",
    "Por otra parte, de todas las variables del dataset, sólo nos quedamos con aquellas variables categóricas (aquellas cuya respuestas no son numéricas) para poder llevar a cabo el test $\\chi^2$. Los resultados obtenidos con el test $\\chi^2$ se muestran en la siguiente tabla:"
   ]
  },
  {
   "cell_type": "markdown",
   "metadata": {},
   "source": [
    "| Variable común | Variable específica | ¿Independientes?\n",
    "| -------------- | ------------------- |  -------------\n",
    "|                | Alcohol             | NO\n",
    "|                | Educación           | NO\n",
    "|                | Uso de internet     | NO\n",
    "|                | Diestro-Zurdo       | NO\n",
    "|    Género      | Puntualidad         | NO \n",
    "|                | Casa-Edificio       | SI\n",
    "|                | Mentiras            | SI\n",
    "|                | Hijo único          | SI\n",
    "|                | Fumador             | SI\n",
    "|                | Área                | SI"
   ]
  },
  {
   "cell_type": "markdown",
   "metadata": {},
   "source": [
    "*__Nota:__ Los test $\\chi^2$ se encuentran en una notebook que se incluye con este informe.*"
   ]
  },
  {
   "cell_type": "markdown",
   "metadata": {},
   "source": [
    " Para sacar en limpio, las variables dependientes según los tests $\\chi^2$, resultaron ser:\n",
    "* Género y Alcohol\n",
    "* Género y Educación\n",
    "* Género y Uso de Internet\n",
    "* Género y Diestro-Zurdo\n",
    "* Género y Puntualidad"
   ]
  },
  {
   "cell_type": "markdown",
   "metadata": {},
   "source": [
    "Con el objetivo de profundizar el análisis se prosigue con la realización de gráficos de la variable género contra las variables que poseen dependencia (*\"Alcohol\"*, *\"Education\"*, *\"Internet usage\"*, *\"Left-right handed\"*, *\"Punctuality\"*), a partir de los resultados obtenidos con los tests de independencia $\\chi^2$. Las gráficas consisten en barras con la distribución de las proporciones de cada una de las respuestas obtenidas:\n",
    "\n",
    "![Texto Alternativo](Imagenes/depen.png)\n",
    "\n",
    "De las imágenes anteriores podemos ver rápidamente que:\n",
    "* Hay más hombres que toman mucho alcohol, sin embargo, las mujeres tienen una mayor cantidad de tomadoras sociales. \n",
    "* Los hombres son un poco más puntuales que lás mujeres.\n",
    "* Los hombres utilizan más internet que las mujeres.  \n",
    "* En la gráfica de la educación, básicamente no hay diferencias debido al hecho de que la edad promedio de la muestra es de 20 años, lo que se condice con la gran cantidad de personas que asisten a la escuela secundaria y la casi nula cantidad de doctorandos ó doctores en ambos sexos. \n",
    "* En cuanto la cantidad de zurdos, hay más zurdos entre los hombres.\n"
   ]
  },
  {
   "cell_type": "markdown",
   "metadata": {},
   "source": [
    "****\n",
    "## Analizando la correlación entre variables\n",
    "\n",
    "En probabilidad y estadística, la correlación indica la fuerza y la dirección de una relación lineal y proporcionalidad entre dos variables estadísticas. Se considera que dos variables cuantitativas están correlacionadas cuando los valores de una de ellas varían sistemáticamente con respecto a los valores homónimos de la otra.\n",
    "\n",
    "A continuación se muestra una gráfica con el cálculo de la correlación correspondiente a la __variable común__ género, con cada una del resto de las __variables específicas__:\n",
    "\n",
    "![Texto Alternativo](Imagenes/correlac.png)\n",
    "\n",
    "Como podemos ver, existen correlaciones positivas y negativas, además algunas variables no están correlacionadas con el género. Seguidamente elegiremos 12 correlaciones significativas para analizar; del lado de las correlaciones negativas tomaremos *\"Life struggles\"*, *\"Shopping\"*, *\"Romantic\"*, *\"Dancing\"*, *\"Empathy\"* y *\"Theatre\"*, mientras que del lado de las correlaciones positivas tomaremos *\"Height\"*, *\"Weight\"*, *\"Cars\"*, *\"Sci-fi\"*, *\"Active Sport\"* y *\"Spending on gadgets\"*. \n",
    "\n",
    "Con éstas 12 variables, procedemos a realizar sus gráficos de caja:\n",
    "\n",
    "![Texto Alternativo](Imagenes/corre.png)\n",
    "\n",
    "Este tipo de gráfico nos provee mucha información, tanto los rangos intercuartílicos como las medias, nos permiten confirmar que para éstas variables seleccionadas (de gran correlación) encontramos marcadas diferencias entre ambos géneros y pueden, por lo tanto, ser de interés para el análisis. "
   ]
  },
  {
   "cell_type": "markdown",
   "metadata": {},
   "source": [
    "### Información extraída de los gráficos de cajas\n",
    "\n",
    "Observando los gráficos de caja, podemos ver que los hombres:\n",
    "* __Tienen una mayor altura:__ Este dato es coherente con la realidad, ya que forma parte de las diferencias físicas entre hombres y mujeres.\n",
    "* __Tienen un mayor peso:__ Esto no es nada nuevo, ni extraño, básicamente lo podemos justificar nuevamente por las diferencias físicas de ambos sexos. \n",
    "* __Les gustan más los autos:__ Aquí dejamos a un lado las diferencias físicas y entramos en el terreno de las diferencias de gustos. Si bien es verdad que existen mujeres que les gusta tanto ó más los autos que a los hombres, este dato refleja algo que popularmente es sabido. Si uno analiza la cantidad de hombres que corren en carreras de autos, la cantidad de hombres que les gusta el automovilismo, la cantidad de hombres que estudian mecánica ó les gusta la mecánica, seguramente encontrará allí las pruebas ó las justificaciones de los datos mostrados por ésta gráfica.\n",
    "* __Les gusta más el Sci-fi:__ Para aquel que ha tenido la posibilidad de asistir al cine durante el estreno de alguna película de súper héroes ó alguna convención de comics, seguramente habrá notado una mayor cantidad de hombres y/o adolescentes varones, por lo tanto este dato refleja esa predilección del género masculino por el género de Sci-fi.\n",
    "* __Les gustan más lo deportes activos:__ Como mencionamos en el introducción, debido la testosterona en el hombre se desarrollan áreas del cerebro como la del deseo sexual, la agresividad, etc. Por lo cual no resulta extraño, que les gusten más los deportes donde el gasto físico y la carga física es mayor.\n",
    "* __Les gusta gastar más dinero en productos tecnológicos ó gadgets:__ Como mencionamos con el Sci-fi, se podría decir que ésta categoría está relacionada con la primera.\n",
    "\n",
    "En cambio las mujeres:\n",
    "* __Les gusta más ir de compras:__ Existen muchas bromas por parte del sexo masculino hacia el sexo femenino por ésta categoría. Muchos hombres se jactan de su rapidez a la hora de realizar alguna compra, por otra parte, es un saber popular de que las mujeres pasan mucho más tiempo y disfrutan mucho más de ésta actividad.\n",
    "* __Pasan por más luchas internas en la vida:__ Nuevamente, como mencionamos en la introducción, las mujeres son más pensantes y con un nivel de empatía mucho mayor, y esta categoría apunta hacia esa dirección, por lo que éstos resultados son coherentes.\n",
    "* __Son más románticas que los hombres:__ Aquí se ve reflejado nuevamente, la característica sentimental de la mujer.\n",
    "* __Les gusta más bailar:__ Así como los deportes de mayor desgaste físico normalemente son elegidos por los hombres, en ésta oportunidad el bailar se encuentra más asociado a la mujer.\n",
    "* __Son más empáticas:__ No es de extrañar que las mujeres sean más empáticas, ya que los hombres son más físicos y las mujeres más sensibles y pensantes.\n",
    "* __Les gusta más el teatro:__ El hecho de tener que expresar muchos sentimientos ó ponerse en el papel de otra persona, hace que sea una actividad muy propensa para las mujeres."
   ]
  },
  {
   "cell_type": "markdown",
   "metadata": {},
   "source": [
    "## Aclarar para no oscurecer\n",
    "Nos vamos a tomar unas pocas líneas para dejar en claro que el hecho de que un género sea más propenso a ciertas actividades, gustos, pasatiempos, etc, no quiere decir que sólamente sea apto para éste género ó que es exclusivo ó prohibitivo para el otro género, simplemente se trata de un mero de análisis estadístico desde el punto de vista de las masas, sin entrar en el detalle individual."
   ]
  },
  {
   "cell_type": "markdown",
   "metadata": {},
   "source": [
    "## Inferencias graciosas (y no tan serias...)\n",
    "* A los hombres les gustan las películas de ciencia ficción, los autos y son más físicos que las mujeres ¿Será por eso, que son más propensos a manejar a altas velocidades y a generar más accidentes?\n",
    "* A las mujeres les gusta ir de shopping y son más propensas a tener luchas internas y/ó problemas ¿Usan las compras como una forma de ahogar penas?\n",
    "* A las mujeres les gusta ir de compras, pero ambos sexos deben en algún momento realizar compras ¿Serán los hombres quienes realizan más compras por internet?\n",
    "* Ante una ruptura de corazón ¿Serán las mujeres quienes gastan más pañuelos descartables?\n",
    "* ¿Las películas de ciencia ficción fomentan la venta de gadget tecnológicos?\n",
    "* ¿La cantidad de obras de teatro de ciencia ficción, es muy pequeña comparado a las obras románticas?\n"
   ]
  }
 ],
 "metadata": {
  "kernelspec": {
   "display_name": "Python [conda env:diplodatos-ayv]",
   "language": "python",
   "name": "conda-env-diplodatos-ayv-py"
  },
  "language_info": {
   "codemirror_mode": {
    "name": "ipython",
    "version": 3
   },
   "file_extension": ".py",
   "mimetype": "text/x-python",
   "name": "python",
   "nbconvert_exporter": "python",
   "pygments_lexer": "ipython3",
   "version": "3.5.5"
  }
 },
 "nbformat": 4,
 "nbformat_minor": 1
}
