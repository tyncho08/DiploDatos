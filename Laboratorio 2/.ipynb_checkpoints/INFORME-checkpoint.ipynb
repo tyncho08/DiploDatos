{
 "cells": [
  {
   "cell_type": "markdown",
   "metadata": {},
   "source": [
    "# ¿Qué tan diferentes somos los hombres y las mujeres?\n",
    "\n",
    "Se ha impuesto en nuestros días una fuerte cultura __unisex__ donde es políticamente incorrecto hablar de diferencias sexuales. La tendencia va hacia eliminar estas diferencias porque mientras éstas existan la relación entre hombres y mujeres se presenta como una lucha de poderes, en rivalidad competitiva y revanchista. Para evitar cualquier tipo de supremacía, se busca cancelar las disimilitudes entre los sexos que, para la ideología de género, son condicionamientos culturales simples. Afirmar que son lo mismo y que no hay diferencias les hace un flaco favor a hombres y mujeres. Es más sensato sostener que entre hombres y mujeres tenemos diversas fortalezas y visiones de la realidad.\n",
    "\n",
    "La neurobióloga norteamericana Louann Brizendine escribió dos libros fruto de sus investigaciones: *“El cerebro masculino”* y *“El cerebro femenino”*. Sus conclusiones son interesantísimas. Ella concluye que los cerebros de ambos sexos son diferentes. Brizendine se da cuenta que su hijo – a quien pretendía no influir en su sexualidad con los juguetes que le regalaban –  desarmó una muñeca para utilizar su pierna como arma de guerra y también descubrió que en todas las culturas los juegos de niños y niñas son diferentes. Estas disparidades son producidas por dos factores principales: las hormonas y el aprendizaje. Las primeras moldean el cerebro y, por lo tanto, los comportamientos. Por medio de la educación nuestro cerebro se sigue formando y generando nuevos circuitos cerebrales.\n",
    "\n",
    "Por la testosterona en el hombre se desarrollan áreas del cerebro como la del deseo sexual, la agresividad, la defensa del territorio y el desafío de la autoridad. En la mujer se desarrollan especiales habilidades para la escucha, la empatía y el contagio emocional. El cerebro masculino es más grande que el de la mujer, sin embargo son ellas las que lo usan mejor porque usan ambos hemisferios.\n",
    "\n",
    "En el presente trabajo, se pretende llevar a cabo un análisis de los géneros masculino y femenino, utilizando para ello un conjunto de datos. En dicho conjunto, se encuentran los resultados de una entrevista a más de 1000 personas, quienes fueron consultados sobre 150 categorías diferentes. Se pretende poder extraer algunas conclusiones de estos datos, que nos permitan afirmar ó refutar ciertas diferencias entre el hombre y la mujer."
   ]
  },
  {
   "cell_type": "markdown",
   "metadata": {},
   "source": [
    "## Datos utilizados\n",
    "\n",
    "Nuestro análisis se basa en la información proporcionada por Kaggle, en dataset *\"We are from our childhood\"*. Las características principales del dataset son los siguientes:\n",
    "\n",
    "* Cantidad de personas entrevistadas: 1010\n",
    "* Cantidad de variables analizadas: 150 (categóricas y numéricas)\n",
    "* Edad media de los entrevistados: 20 años (y con una desviación estándar de 2.8 años)\n",
    "* Proporción de sexos: \n",
    ">  59% mujeres y 41% hombres\n",
    "* Área de procedencia de los entrevistados: \n",
    ">  70% de la ciudad y 30% del campo.\n",
    "\n"
   ]
  },
  {
   "cell_type": "markdown",
   "metadata": {},
   "source": [
    "### Analizando independencia entre variables ó categorías\n",
    "\n",
    "Como ya mencionamos anteriormente, el conjunto de datos se encuentra formado por 150 variables, dentro de las cuales existen variables categóricas y variables numéricas. El primer análisis que se desprende, es el análisis de la independencia de variables categóricas, para lo cual se utiliza el test de independencia $\\chi^2$. Como queremos analizar los datos en base al género, tomamos como variable común a éste y como variable específica a cada una del resto de las categorías, de ésta manera vamos a realizar un análisis de independencia para poder responder a la siguiente pregunta: ¿Las variables común y la variable específica son independientes? \n",
    "\n",
    "Algunas de las categorías del dataset las podemos ver en la siguiente imagen:\n",
    "\n",
    "![Texto Alternativo](Imagenes/palabras.png \"Título Opcional\")\n",
    "\n",
    "En teoría de probabilidades, se dice que dos sucesos aleatorios (en este caso las respuestas de los participantes) son independientes entre sí cuando la probabilidad de cada uno de ellos no está influida porque el otro suceso ocurra o no, es decir, cuando ambos sucesos no están relacionados. \n",
    "\n",
    "Por otra parte, de todas las variables del dataset, sólo nos quedamos con aquellas variables categóricas (aquellas cuya respuestas no son numéricas) para poder llevar a cabo el test $\\chi^2$. Los resultados obtenidos con el test $\\chi^2$ se muestran en la siguiente tabla:"
   ]
  },
  {
   "cell_type": "markdown",
   "metadata": {},
   "source": [
    "| Variable común | Variable específica | ¿Independientes?\n",
    "| -------------- | ------------------- |  -------------\n",
    "|                | Alcohol             | NO\n",
    "|                | Educación           | NO\n",
    "|                | Uso de internet     | NO\n",
    "|                | Diestro-Zurdo       | NO\n",
    "|    Género      | Puntualidad         | NO \n",
    "|                | Casa-Edificio       | SI\n",
    "|                | Mentiras            | SI\n",
    "|                | Hijo único          | SI\n",
    "|                | Fumador             | SI\n",
    "|                | Área                | SI"
   ]
  },
  {
   "cell_type": "markdown",
   "metadata": {},
   "source": [
    "*__Nota:__ Los test $\\chi^2$ se encuentran en una notebook que se incluye con este informe.*"
   ]
  },
  {
   "cell_type": "markdown",
   "metadata": {},
   "source": [
    " Para sacar en limpio, las variables dependientes, según los test $\\chi^2$, resultaron ser:\n",
    "* Género y Alcohol\n",
    "* Género y Educación\n",
    "* Género y Uso de Internet\n",
    "* Género y Diestro-Zurdo\n",
    "* Género y Puntualidad"
   ]
  },
  {
   "cell_type": "markdown",
   "metadata": {},
   "source": [
    "![Texto Alternativo](Imagenes/dependientes.png)\n",
    "![Texto Alternativo](Imagenes/correlaciones.png)"
   ]
  },
  {
   "cell_type": "code",
   "execution_count": null,
   "metadata": {},
   "outputs": [],
   "source": []
  }
 ],
 "metadata": {
  "kernelspec": {
   "display_name": "Python [conda env:diplodatos-ayv]",
   "language": "python",
   "name": "conda-env-diplodatos-ayv-py"
  },
  "language_info": {
   "codemirror_mode": {
    "name": "ipython",
    "version": 3
   },
   "file_extension": ".py",
   "mimetype": "text/x-python",
   "name": "python",
   "nbconvert_exporter": "python",
   "pygments_lexer": "ipython3",
   "version": "3.5.5"
  }
 },
 "nbformat": 4,
 "nbformat_minor": 1
}
