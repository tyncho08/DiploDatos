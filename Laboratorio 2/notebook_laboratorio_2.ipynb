{
 "cells": [
  {
   "cell_type": "markdown",
   "metadata": {
    "_cell_guid": "445fd016-3109-46c6-a930-274767ed9952",
    "_uuid": "bfa8dae444094083ef4be6dcea3ca2862026247d"
   },
   "source": [
    "# Laboratorio 2: Independencia de variables mediante el test $\\chi^2$"
   ]
  },
  {
   "cell_type": "markdown",
   "metadata": {},
   "source": [
    "****\n",
    "#### En primer lugar, importamos las librerías con las que vamos a trabajar: pandas, matplotlib, seaborn, scipy, etc."
   ]
  },
  {
   "cell_type": "code",
   "execution_count": 505,
   "metadata": {
    "_cell_guid": "7b9b5703-1e29-47f2-a1a9-2e0ba2db581f",
    "_execution_state": "idle",
    "_uuid": "8e20f5b53ce35391006b921cd79280cf3756d929"
   },
   "outputs": [],
   "source": [
    "%matplotlib inline\n",
    "import pandas as pd\n",
    "import scipy.stats as stats\n",
    "import matplotlib.pyplot as plt\n",
    "import numpy as np\n",
    "import seaborn as sns\n",
    "import plotly as plo\n",
    "pd.set_option('display.max_columns',150)\n",
    "plt.style.use('bmh')\n",
    "from IPython.display import display"
   ]
  },
  {
   "cell_type": "markdown",
   "metadata": {},
   "source": [
    "#### Seguidamente, necesitamos leer el dataset, el cual, en este caso fue sacado de la página de Kaggle \"We are from our childhood\":"
   ]
  },
  {
   "cell_type": "code",
   "execution_count": 506,
   "metadata": {
    "_cell_guid": "22243ad2-790b-4e36-8cf5-01a30210b580",
    "_execution_state": "idle",
    "_uuid": "130c13cbd4d1fcde16644265f1e288158ad97fe7"
   },
   "outputs": [
    {
     "name": "stdout",
     "output_type": "stream",
     "text": [
      "\n",
      "Cantidad de Personas:   1010\n",
      "Cantidad de Categorías: 150\n"
     ]
    }
   ],
   "source": [
    "young = pd.read_csv('dataset.csv')\n",
    "print(\"\\nCantidad de Personas:   \"+str(young.shape[0]))\n",
    "print(\"Cantidad de Categorías: \"+str(young.shape[1]))"
   ]
  },
  {
   "cell_type": "markdown",
   "metadata": {},
   "source": [
    "****\n",
    "#### Genero las tablas de contingencias entre las variables \"Gender\" y el resto de las variables categóricas del dataset, para luego ir realizando el test de independencia entre \"Gender\" y cada una del resto de las variables categóricas."
   ]
  },
  {
   "cell_type": "code",
   "execution_count": 507,
   "metadata": {},
   "outputs": [
    {
     "data": {
      "text/html": [
       "<div>\n",
       "<style scoped>\n",
       "    .dataframe tbody tr th:only-of-type {\n",
       "        vertical-align: middle;\n",
       "    }\n",
       "\n",
       "    .dataframe tbody tr th {\n",
       "        vertical-align: top;\n",
       "    }\n",
       "\n",
       "    .dataframe thead th {\n",
       "        text-align: right;\n",
       "    }\n",
       "</style>\n",
       "<table border=\"1\" class=\"dataframe\">\n",
       "  <thead>\n",
       "    <tr style=\"text-align: right;\">\n",
       "      <th>Smoking</th>\n",
       "      <th>current smoker</th>\n",
       "      <th>former smoker</th>\n",
       "      <th>never smoked</th>\n",
       "      <th>tried smoking</th>\n",
       "      <th>All</th>\n",
       "    </tr>\n",
       "    <tr>\n",
       "      <th>Gender</th>\n",
       "      <th></th>\n",
       "      <th></th>\n",
       "      <th></th>\n",
       "      <th></th>\n",
       "      <th></th>\n",
       "    </tr>\n",
       "  </thead>\n",
       "  <tbody>\n",
       "    <tr>\n",
       "      <th>female</th>\n",
       "      <td>111</td>\n",
       "      <td>109</td>\n",
       "      <td>123</td>\n",
       "      <td>246</td>\n",
       "      <td>589</td>\n",
       "    </tr>\n",
       "    <tr>\n",
       "      <th>male</th>\n",
       "      <td>78</td>\n",
       "      <td>65</td>\n",
       "      <td>84</td>\n",
       "      <td>180</td>\n",
       "      <td>407</td>\n",
       "    </tr>\n",
       "    <tr>\n",
       "      <th>All</th>\n",
       "      <td>189</td>\n",
       "      <td>174</td>\n",
       "      <td>207</td>\n",
       "      <td>426</td>\n",
       "      <td>996</td>\n",
       "    </tr>\n",
       "  </tbody>\n",
       "</table>\n",
       "</div>"
      ],
      "text/plain": [
       "Smoking  current smoker  former smoker  never smoked  tried smoking  All\n",
       "Gender                                                                  \n",
       "female              111            109           123            246  589\n",
       "male                 78             65            84            180  407\n",
       "All                 189            174           207            426  996"
      ]
     },
     "metadata": {},
     "output_type": "display_data"
    },
    {
     "data": {
      "text/html": [
       "<div>\n",
       "<style scoped>\n",
       "    .dataframe tbody tr th:only-of-type {\n",
       "        vertical-align: middle;\n",
       "    }\n",
       "\n",
       "    .dataframe tbody tr th {\n",
       "        vertical-align: top;\n",
       "    }\n",
       "\n",
       "    .dataframe thead th {\n",
       "        text-align: right;\n",
       "    }\n",
       "</style>\n",
       "<table border=\"1\" class=\"dataframe\">\n",
       "  <thead>\n",
       "    <tr style=\"text-align: right;\">\n",
       "      <th>Alcohol</th>\n",
       "      <th>drink a lot</th>\n",
       "      <th>never</th>\n",
       "      <th>social drinker</th>\n",
       "      <th>All</th>\n",
       "    </tr>\n",
       "    <tr>\n",
       "      <th>Gender</th>\n",
       "      <th></th>\n",
       "      <th></th>\n",
       "      <th></th>\n",
       "      <th></th>\n",
       "    </tr>\n",
       "  </thead>\n",
       "  <tbody>\n",
       "    <tr>\n",
       "      <th>female</th>\n",
       "      <td>104</td>\n",
       "      <td>68</td>\n",
       "      <td>418</td>\n",
       "      <td>590</td>\n",
       "    </tr>\n",
       "    <tr>\n",
       "      <th>male</th>\n",
       "      <td>117</td>\n",
       "      <td>55</td>\n",
       "      <td>237</td>\n",
       "      <td>409</td>\n",
       "    </tr>\n",
       "    <tr>\n",
       "      <th>All</th>\n",
       "      <td>221</td>\n",
       "      <td>123</td>\n",
       "      <td>655</td>\n",
       "      <td>999</td>\n",
       "    </tr>\n",
       "  </tbody>\n",
       "</table>\n",
       "</div>"
      ],
      "text/plain": [
       "Alcohol  drink a lot  never  social drinker  All\n",
       "Gender                                          \n",
       "female           104     68             418  590\n",
       "male             117     55             237  409\n",
       "All              221    123             655  999"
      ]
     },
     "metadata": {},
     "output_type": "display_data"
    },
    {
     "data": {
      "text/html": [
       "<div>\n",
       "<style scoped>\n",
       "    .dataframe tbody tr th:only-of-type {\n",
       "        vertical-align: middle;\n",
       "    }\n",
       "\n",
       "    .dataframe tbody tr th {\n",
       "        vertical-align: top;\n",
       "    }\n",
       "\n",
       "    .dataframe thead th {\n",
       "        text-align: right;\n",
       "    }\n",
       "</style>\n",
       "<table border=\"1\" class=\"dataframe\">\n",
       "  <thead>\n",
       "    <tr style=\"text-align: right;\">\n",
       "      <th>Punctuality</th>\n",
       "      <th>i am always on time</th>\n",
       "      <th>i am often early</th>\n",
       "      <th>i am often running late</th>\n",
       "      <th>All</th>\n",
       "    </tr>\n",
       "    <tr>\n",
       "      <th>Gender</th>\n",
       "      <th></th>\n",
       "      <th></th>\n",
       "      <th></th>\n",
       "      <th></th>\n",
       "    </tr>\n",
       "  </thead>\n",
       "  <tbody>\n",
       "    <tr>\n",
       "      <th>female</th>\n",
       "      <td>219</td>\n",
       "      <td>187</td>\n",
       "      <td>186</td>\n",
       "      <td>592</td>\n",
       "    </tr>\n",
       "    <tr>\n",
       "      <th>male</th>\n",
       "      <td>178</td>\n",
       "      <td>137</td>\n",
       "      <td>95</td>\n",
       "      <td>410</td>\n",
       "    </tr>\n",
       "    <tr>\n",
       "      <th>All</th>\n",
       "      <td>397</td>\n",
       "      <td>324</td>\n",
       "      <td>281</td>\n",
       "      <td>1002</td>\n",
       "    </tr>\n",
       "  </tbody>\n",
       "</table>\n",
       "</div>"
      ],
      "text/plain": [
       "Punctuality  i am always on time  i am often early  i am often running late  \\\n",
       "Gender                                                                        \n",
       "female                       219               187                      186   \n",
       "male                         178               137                       95   \n",
       "All                          397               324                      281   \n",
       "\n",
       "Punctuality   All  \n",
       "Gender             \n",
       "female        592  \n",
       "male          410  \n",
       "All          1002  "
      ]
     },
     "metadata": {},
     "output_type": "display_data"
    },
    {
     "data": {
      "text/html": [
       "<div>\n",
       "<style scoped>\n",
       "    .dataframe tbody tr th:only-of-type {\n",
       "        vertical-align: middle;\n",
       "    }\n",
       "\n",
       "    .dataframe tbody tr th {\n",
       "        vertical-align: top;\n",
       "    }\n",
       "\n",
       "    .dataframe thead th {\n",
       "        text-align: right;\n",
       "    }\n",
       "</style>\n",
       "<table border=\"1\" class=\"dataframe\">\n",
       "  <thead>\n",
       "    <tr style=\"text-align: right;\">\n",
       "      <th>Lying</th>\n",
       "      <th>everytime it suits me</th>\n",
       "      <th>never</th>\n",
       "      <th>only to avoid hurting someone</th>\n",
       "      <th>sometimes</th>\n",
       "      <th>All</th>\n",
       "    </tr>\n",
       "    <tr>\n",
       "      <th>Gender</th>\n",
       "      <th></th>\n",
       "      <th></th>\n",
       "      <th></th>\n",
       "      <th></th>\n",
       "      <th></th>\n",
       "    </tr>\n",
       "  </thead>\n",
       "  <tbody>\n",
       "    <tr>\n",
       "      <th>female</th>\n",
       "      <td>79</td>\n",
       "      <td>32</td>\n",
       "      <td>148</td>\n",
       "      <td>334</td>\n",
       "      <td>593</td>\n",
       "    </tr>\n",
       "    <tr>\n",
       "      <th>male</th>\n",
       "      <td>59</td>\n",
       "      <td>19</td>\n",
       "      <td>120</td>\n",
       "      <td>211</td>\n",
       "      <td>409</td>\n",
       "    </tr>\n",
       "    <tr>\n",
       "      <th>All</th>\n",
       "      <td>138</td>\n",
       "      <td>51</td>\n",
       "      <td>268</td>\n",
       "      <td>545</td>\n",
       "      <td>1002</td>\n",
       "    </tr>\n",
       "  </tbody>\n",
       "</table>\n",
       "</div>"
      ],
      "text/plain": [
       "Lying   everytime it suits me  never  only to avoid hurting someone  \\\n",
       "Gender                                                                \n",
       "female                     79     32                            148   \n",
       "male                       59     19                            120   \n",
       "All                       138     51                            268   \n",
       "\n",
       "Lying   sometimes   All  \n",
       "Gender                   \n",
       "female        334   593  \n",
       "male          211   409  \n",
       "All           545  1002  "
      ]
     },
     "metadata": {},
     "output_type": "display_data"
    },
    {
     "data": {
      "text/html": [
       "<div>\n",
       "<style scoped>\n",
       "    .dataframe tbody tr th:only-of-type {\n",
       "        vertical-align: middle;\n",
       "    }\n",
       "\n",
       "    .dataframe tbody tr th {\n",
       "        vertical-align: top;\n",
       "    }\n",
       "\n",
       "    .dataframe thead th {\n",
       "        text-align: right;\n",
       "    }\n",
       "</style>\n",
       "<table border=\"1\" class=\"dataframe\">\n",
       "  <thead>\n",
       "    <tr style=\"text-align: right;\">\n",
       "      <th>Internet usage</th>\n",
       "      <th>few hours a day</th>\n",
       "      <th>less than an hour a day</th>\n",
       "      <th>most of the day</th>\n",
       "      <th>no time at all</th>\n",
       "      <th>All</th>\n",
       "    </tr>\n",
       "    <tr>\n",
       "      <th>Gender</th>\n",
       "      <th></th>\n",
       "      <th></th>\n",
       "      <th></th>\n",
       "      <th></th>\n",
       "      <th></th>\n",
       "    </tr>\n",
       "  </thead>\n",
       "  <tbody>\n",
       "    <tr>\n",
       "      <th>female</th>\n",
       "      <td>428</td>\n",
       "      <td>103</td>\n",
       "      <td>60</td>\n",
       "      <td>2</td>\n",
       "      <td>593</td>\n",
       "    </tr>\n",
       "    <tr>\n",
       "      <th>male</th>\n",
       "      <td>312</td>\n",
       "      <td>36</td>\n",
       "      <td>62</td>\n",
       "      <td>1</td>\n",
       "      <td>411</td>\n",
       "    </tr>\n",
       "    <tr>\n",
       "      <th>All</th>\n",
       "      <td>740</td>\n",
       "      <td>139</td>\n",
       "      <td>122</td>\n",
       "      <td>3</td>\n",
       "      <td>1004</td>\n",
       "    </tr>\n",
       "  </tbody>\n",
       "</table>\n",
       "</div>"
      ],
      "text/plain": [
       "Internet usage  few hours a day  less than an hour a day  most of the day  \\\n",
       "Gender                                                                      \n",
       "female                      428                      103               60   \n",
       "male                        312                       36               62   \n",
       "All                         740                      139              122   \n",
       "\n",
       "Internet usage  no time at all   All  \n",
       "Gender                                \n",
       "female                       2   593  \n",
       "male                         1   411  \n",
       "All                          3  1004  "
      ]
     },
     "metadata": {},
     "output_type": "display_data"
    },
    {
     "data": {
      "text/html": [
       "<div>\n",
       "<style scoped>\n",
       "    .dataframe tbody tr th:only-of-type {\n",
       "        vertical-align: middle;\n",
       "    }\n",
       "\n",
       "    .dataframe tbody tr th {\n",
       "        vertical-align: top;\n",
       "    }\n",
       "\n",
       "    .dataframe thead th {\n",
       "        text-align: right;\n",
       "    }\n",
       "</style>\n",
       "<table border=\"1\" class=\"dataframe\">\n",
       "  <thead>\n",
       "    <tr style=\"text-align: right;\">\n",
       "      <th>Education</th>\n",
       "      <th>college/bachelor degree</th>\n",
       "      <th>currently a primary school pupil</th>\n",
       "      <th>doctorate degree</th>\n",
       "      <th>masters degree</th>\n",
       "      <th>primary school</th>\n",
       "      <th>secondary school</th>\n",
       "      <th>All</th>\n",
       "    </tr>\n",
       "    <tr>\n",
       "      <th>Gender</th>\n",
       "      <th></th>\n",
       "      <th></th>\n",
       "      <th></th>\n",
       "      <th></th>\n",
       "      <th></th>\n",
       "      <th></th>\n",
       "      <th></th>\n",
       "    </tr>\n",
       "  </thead>\n",
       "  <tbody>\n",
       "    <tr>\n",
       "      <th>female</th>\n",
       "      <td>123</td>\n",
       "      <td>6</td>\n",
       "      <td>0</td>\n",
       "      <td>44</td>\n",
       "      <td>54</td>\n",
       "      <td>365</td>\n",
       "      <td>592</td>\n",
       "    </tr>\n",
       "    <tr>\n",
       "      <th>male</th>\n",
       "      <td>89</td>\n",
       "      <td>4</td>\n",
       "      <td>5</td>\n",
       "      <td>36</td>\n",
       "      <td>24</td>\n",
       "      <td>253</td>\n",
       "      <td>411</td>\n",
       "    </tr>\n",
       "    <tr>\n",
       "      <th>All</th>\n",
       "      <td>212</td>\n",
       "      <td>10</td>\n",
       "      <td>5</td>\n",
       "      <td>80</td>\n",
       "      <td>78</td>\n",
       "      <td>618</td>\n",
       "      <td>1003</td>\n",
       "    </tr>\n",
       "  </tbody>\n",
       "</table>\n",
       "</div>"
      ],
      "text/plain": [
       "Education  college/bachelor degree  currently a primary school pupil  \\\n",
       "Gender                                                                 \n",
       "female                         123                                 6   \n",
       "male                            89                                 4   \n",
       "All                            212                                10   \n",
       "\n",
       "Education  doctorate degree  masters degree  primary school  secondary school  \\\n",
       "Gender                                                                          \n",
       "female                    0              44              54               365   \n",
       "male                      5              36              24               253   \n",
       "All                       5              80              78               618   \n",
       "\n",
       "Education   All  \n",
       "Gender           \n",
       "female      592  \n",
       "male        411  \n",
       "All        1003  "
      ]
     },
     "metadata": {},
     "output_type": "display_data"
    },
    {
     "data": {
      "text/html": [
       "<div>\n",
       "<style scoped>\n",
       "    .dataframe tbody tr th:only-of-type {\n",
       "        vertical-align: middle;\n",
       "    }\n",
       "\n",
       "    .dataframe tbody tr th {\n",
       "        vertical-align: top;\n",
       "    }\n",
       "\n",
       "    .dataframe thead th {\n",
       "        text-align: right;\n",
       "    }\n",
       "</style>\n",
       "<table border=\"1\" class=\"dataframe\">\n",
       "  <thead>\n",
       "    <tr style=\"text-align: right;\">\n",
       "      <th>Left - right handed</th>\n",
       "      <th>left handed</th>\n",
       "      <th>right handed</th>\n",
       "      <th>All</th>\n",
       "    </tr>\n",
       "    <tr>\n",
       "      <th>Gender</th>\n",
       "      <th></th>\n",
       "      <th></th>\n",
       "      <th></th>\n",
       "    </tr>\n",
       "  </thead>\n",
       "  <tbody>\n",
       "    <tr>\n",
       "      <th>female</th>\n",
       "      <td>47</td>\n",
       "      <td>544</td>\n",
       "      <td>591</td>\n",
       "    </tr>\n",
       "    <tr>\n",
       "      <th>male</th>\n",
       "      <td>53</td>\n",
       "      <td>357</td>\n",
       "      <td>410</td>\n",
       "    </tr>\n",
       "    <tr>\n",
       "      <th>All</th>\n",
       "      <td>100</td>\n",
       "      <td>901</td>\n",
       "      <td>1001</td>\n",
       "    </tr>\n",
       "  </tbody>\n",
       "</table>\n",
       "</div>"
      ],
      "text/plain": [
       "Left - right handed  left handed  right handed   All\n",
       "Gender                                              \n",
       "female                        47           544   591\n",
       "male                          53           357   410\n",
       "All                          100           901  1001"
      ]
     },
     "metadata": {},
     "output_type": "display_data"
    },
    {
     "data": {
      "text/html": [
       "<div>\n",
       "<style scoped>\n",
       "    .dataframe tbody tr th:only-of-type {\n",
       "        vertical-align: middle;\n",
       "    }\n",
       "\n",
       "    .dataframe tbody tr th {\n",
       "        vertical-align: top;\n",
       "    }\n",
       "\n",
       "    .dataframe thead th {\n",
       "        text-align: right;\n",
       "    }\n",
       "</style>\n",
       "<table border=\"1\" class=\"dataframe\">\n",
       "  <thead>\n",
       "    <tr style=\"text-align: right;\">\n",
       "      <th>Only child</th>\n",
       "      <th>no</th>\n",
       "      <th>yes</th>\n",
       "      <th>All</th>\n",
       "    </tr>\n",
       "    <tr>\n",
       "      <th>Gender</th>\n",
       "      <th></th>\n",
       "      <th></th>\n",
       "      <th></th>\n",
       "    </tr>\n",
       "  </thead>\n",
       "  <tbody>\n",
       "    <tr>\n",
       "      <th>female</th>\n",
       "      <td>439</td>\n",
       "      <td>153</td>\n",
       "      <td>592</td>\n",
       "    </tr>\n",
       "    <tr>\n",
       "      <th>male</th>\n",
       "      <td>312</td>\n",
       "      <td>98</td>\n",
       "      <td>410</td>\n",
       "    </tr>\n",
       "    <tr>\n",
       "      <th>All</th>\n",
       "      <td>751</td>\n",
       "      <td>251</td>\n",
       "      <td>1002</td>\n",
       "    </tr>\n",
       "  </tbody>\n",
       "</table>\n",
       "</div>"
      ],
      "text/plain": [
       "Only child   no  yes   All\n",
       "Gender                    \n",
       "female      439  153   592\n",
       "male        312   98   410\n",
       "All         751  251  1002"
      ]
     },
     "metadata": {},
     "output_type": "display_data"
    },
    {
     "data": {
      "text/html": [
       "<div>\n",
       "<style scoped>\n",
       "    .dataframe tbody tr th:only-of-type {\n",
       "        vertical-align: middle;\n",
       "    }\n",
       "\n",
       "    .dataframe tbody tr th {\n",
       "        vertical-align: top;\n",
       "    }\n",
       "\n",
       "    .dataframe thead th {\n",
       "        text-align: right;\n",
       "    }\n",
       "</style>\n",
       "<table border=\"1\" class=\"dataframe\">\n",
       "  <thead>\n",
       "    <tr style=\"text-align: right;\">\n",
       "      <th>Village - town</th>\n",
       "      <th>city</th>\n",
       "      <th>village</th>\n",
       "      <th>All</th>\n",
       "    </tr>\n",
       "    <tr>\n",
       "      <th>Gender</th>\n",
       "      <th></th>\n",
       "      <th></th>\n",
       "      <th></th>\n",
       "    </tr>\n",
       "  </thead>\n",
       "  <tbody>\n",
       "    <tr>\n",
       "      <th>female</th>\n",
       "      <td>417</td>\n",
       "      <td>174</td>\n",
       "      <td>591</td>\n",
       "    </tr>\n",
       "    <tr>\n",
       "      <th>male</th>\n",
       "      <td>287</td>\n",
       "      <td>122</td>\n",
       "      <td>409</td>\n",
       "    </tr>\n",
       "    <tr>\n",
       "      <th>All</th>\n",
       "      <td>704</td>\n",
       "      <td>296</td>\n",
       "      <td>1000</td>\n",
       "    </tr>\n",
       "  </tbody>\n",
       "</table>\n",
       "</div>"
      ],
      "text/plain": [
       "Village - town  city  village   All\n",
       "Gender                             \n",
       "female           417      174   591\n",
       "male             287      122   409\n",
       "All              704      296  1000"
      ]
     },
     "metadata": {},
     "output_type": "display_data"
    },
    {
     "data": {
      "text/html": [
       "<div>\n",
       "<style scoped>\n",
       "    .dataframe tbody tr th:only-of-type {\n",
       "        vertical-align: middle;\n",
       "    }\n",
       "\n",
       "    .dataframe tbody tr th {\n",
       "        vertical-align: top;\n",
       "    }\n",
       "\n",
       "    .dataframe thead th {\n",
       "        text-align: right;\n",
       "    }\n",
       "</style>\n",
       "<table border=\"1\" class=\"dataframe\">\n",
       "  <thead>\n",
       "    <tr style=\"text-align: right;\">\n",
       "      <th>House - block of flats</th>\n",
       "      <th>block of flats</th>\n",
       "      <th>house/bungalow</th>\n",
       "      <th>All</th>\n",
       "    </tr>\n",
       "    <tr>\n",
       "      <th>Gender</th>\n",
       "      <th></th>\n",
       "      <th></th>\n",
       "      <th></th>\n",
       "    </tr>\n",
       "  </thead>\n",
       "  <tbody>\n",
       "    <tr>\n",
       "      <th>female</th>\n",
       "      <td>350</td>\n",
       "      <td>240</td>\n",
       "      <td>590</td>\n",
       "    </tr>\n",
       "    <tr>\n",
       "      <th>male</th>\n",
       "      <td>242</td>\n",
       "      <td>168</td>\n",
       "      <td>410</td>\n",
       "    </tr>\n",
       "    <tr>\n",
       "      <th>All</th>\n",
       "      <td>592</td>\n",
       "      <td>408</td>\n",
       "      <td>1000</td>\n",
       "    </tr>\n",
       "  </tbody>\n",
       "</table>\n",
       "</div>"
      ],
      "text/plain": [
       "House - block of flats  block of flats  house/bungalow   All\n",
       "Gender                                                      \n",
       "female                             350             240   590\n",
       "male                               242             168   410\n",
       "All                                592             408  1000"
      ]
     },
     "metadata": {},
     "output_type": "display_data"
    }
   ],
   "source": [
    "tabla_smok_gender = pd.crosstab(young.Gender, young['Smoking'] ,               margins=True)\n",
    "tabla_alco_gender = pd.crosstab(young.Gender, young['Alcohol'],                margins=True)\n",
    "tabla_punt_gender = pd.crosstab(young.Gender, young['Punctuality'],            margins=True)\n",
    "tabla_lyin_gender = pd.crosstab(young.Gender, young['Lying'],                  margins=True)\n",
    "tabla_inte_gender = pd.crosstab(young.Gender, young['Internet usage'],         margins=True)\n",
    "tabla_educ_gender = pd.crosstab(young.Gender, young['Education'],              margins=True)\n",
    "tabla_lrha_gender = pd.crosstab(young.Gender, young['Left - right handed'],    margins=True)\n",
    "tabla_only_gender = pd.crosstab(young.Gender, young['Only child'],             margins=True)\n",
    "tabla_vito_gender = pd.crosstab(young.Gender, young['Village - town'],         margins=True)\n",
    "tabla_hous_gender = pd.crosstab(young.Gender, young['House - block of flats'], margins=True)\n",
    "\n",
    "#Muestro las tablas de contingencia\n",
    "if True:\n",
    "    display(tabla_smok_gender)\n",
    "    display(tabla_alco_gender)\n",
    "    display(tabla_punt_gender)\n",
    "    display(tabla_lyin_gender)\n",
    "    display(tabla_inte_gender)\n",
    "    display(tabla_educ_gender)\n",
    "    display(tabla_lrha_gender)\n",
    "    display(tabla_only_gender)\n",
    "    display(tabla_vito_gender)\n",
    "    display(tabla_hous_gender)"
   ]
  },
  {
   "cell_type": "code",
   "execution_count": 530,
   "metadata": {},
   "outputs": [
    {
     "data": {
      "image/png": "[encoded data removed]",
      "text/plain": [
       "<Figure size 576x360 with 2 Axes>"
      ]
     },
     "metadata": {},
     "output_type": "display_data"
    },
    {
     "data": {
      "image/png": "[encoded data removed]",
      "text/plain": [
       "<Figure size 576x360 with 2 Axes>"
      ]
     },
     "metadata": {},
     "output_type": "display_data"
    },
    {
     "data": {
      "image/png": "[encoded data removed]",
      "text/plain": [
       "<Figure size 576x360 with 2 Axes>"
      ]
     },
     "metadata": {},
     "output_type": "display_data"
    },
    {
     "data": {
      "image/png": "[encoded data removed]",
      "text/plain": [
       "<Figure size 576x360 with 2 Axes>"
      ]
     },
     "metadata": {},
     "output_type": "display_data"
    },
    {
     "data": {
      "image/png": "[encoded data removed]",
      "text/plain": [
       "<Figure size 576x360 with 2 Axes>"
      ]
     },
     "metadata": {},
     "output_type": "display_data"
    },
    {
     "data": {
      "image/png": "[encoded data removed]",
      "text/plain": [
       "<Figure size 576x360 with 2 Axes>"
      ]
     },
     "metadata": {},
     "output_type": "display_data"
    },
    {
     "data": {
      "image/png": "[encoded data removed]",
      "text/plain": [
       "<Figure size 576x360 with 2 Axes>"
      ]
     },
     "metadata": {},
     "output_type": "display_data"
    },
    {
     "data": {
      "image/png": "[encoded data removed]",
      "text/plain": [
       "<Figure size 576x360 with 2 Axes>"
      ]
     },
     "metadata": {},
     "output_type": "display_data"
    },
    {
     "data": {
      "image/png": "[encoded data removed]",
      "text/plain": [
       "<Figure size 576x360 with 2 Axes>"
      ]
     },
     "metadata": {},
     "output_type": "display_data"
    },
    {
     "data": {
      "image/png": "[encoded data removed]",
      "text/plain": [
       "<Figure size 576x360 with 2 Axes>"
      ]
     },
     "metadata": {},
     "output_type": "display_data"
    }
   ],
   "source": [
    "if True:\n",
    "    #Genero las mismas tablas pero sin los márgenes \"All\" para poder realizar los mapas de calor\n",
    "    obs_tabla_smok_gender = pd.crosstab(young.Gender, young['Smoking'], margins=False)\n",
    "    plt.figure(figsize=(8,5))\n",
    "    sns.heatmap(obs_tabla_smok_gender, annot=True, annot_kws={\"size\": 10}, linewidths=.5, cmap=\"BuPu\")\n",
    "    plt.xlabel(\"Smoking\",fontsize=15)\n",
    "    plt.ylabel(\"Gender\",fontsize=15)\n",
    "    sns.despine()\n",
    "    \n",
    "    obs_tabla_alco_gender = pd.crosstab(young.Gender, young['Alcohol'], margins=False)\n",
    "    plt.figure(figsize=(8,5))\n",
    "    sns.heatmap(obs_tabla_alco_gender, annot=True, annot_kws={\"size\": 10}, linewidths=.5, cmap=\"BuPu\")\n",
    "    plt.xlabel(\"Alcohol\",fontsize=15)\n",
    "    plt.ylabel(\"Gender\",fontsize=15)\n",
    "    sns.despine()\n",
    "    \n",
    "    obs_tabla_punt_gender = pd.crosstab(young.Gender, young['Punctuality'], margins=False)\n",
    "    plt.figure(figsize=(8,5))\n",
    "    sns.heatmap(obs_tabla_punt_gender, annot=True, annot_kws={\"size\": 10}, linewidths=.5, cmap=\"BuPu\")\n",
    "    plt.xlabel(\"Punctuality\",fontsize=15)\n",
    "    plt.ylabel(\"Gender\",fontsize=15)\n",
    "    sns.despine()\n",
    "    \n",
    "    obs_tabla_lyin_gender = pd.crosstab(young.Gender, young['Lying'], margins=False)\n",
    "    plt.figure(figsize=(8,5))\n",
    "    sns.heatmap(obs_tabla_lyin_gender, annot=True, annot_kws={\"size\": 10}, linewidths=.5, cmap=\"BuPu\")\n",
    "    plt.xlabel(\"Lying\",fontsize=15)\n",
    "    plt.ylabel(\"Gender\",fontsize=15)\n",
    "    sns.despine()\n",
    "    \n",
    "    obs_tabla_inte_gender = pd.crosstab(young.Gender, young['Internet usage'], margins=False)\n",
    "    plt.figure(figsize=(8,5))\n",
    "    sns.heatmap(obs_tabla_inte_gender, annot=True, annot_kws={\"size\": 10}, linewidths=.5, cmap=\"BuPu\")\n",
    "    plt.xlabel(\"Internet usage\",fontsize=15)\n",
    "    plt.ylabel(\"Gender\",fontsize=15)\n",
    "    sns.despine()\n",
    "\n",
    "    obs_tabla_educ_gender = pd.crosstab(young.Gender, young['Education'], margins=False)\n",
    "    plt.figure(figsize=(8,5))\n",
    "    sns.heatmap(obs_tabla_educ_gender, annot=True, annot_kws={\"size\": 10}, linewidths=.5, cmap=\"BuPu\")\n",
    "    plt.xlabel(\"Education\",fontsize=15)\n",
    "    plt.ylabel(\"Gender\",fontsize=15)\n",
    "    sns.despine()\n",
    "    \n",
    "    obs_tabla_lrha_gender = pd.crosstab(young.Gender, young['Left - right handed'], margins=False)\n",
    "    plt.figure(figsize=(8,5))\n",
    "    sns.heatmap(obs_tabla_lrha_gender, annot=True, annot_kws={\"size\": 10}, linewidths=.5, cmap=\"BuPu\")\n",
    "    plt.xlabel(\"Left - right handed\",fontsize=15)\n",
    "    plt.ylabel(\"Gender\",fontsize=15)\n",
    "    sns.despine()\n",
    "    \n",
    "    obs_tabla_only_gender = pd.crosstab(young.Gender, young['Only child'], margins=False)\n",
    "    plt.figure(figsize=(8,5))\n",
    "    sns.heatmap(obs_tabla_only_gender, annot=True, annot_kws={\"size\": 10}, linewidths=.5, cmap=\"BuPu\")\n",
    "    plt.xlabel(\"Only child\",fontsize=15)\n",
    "    plt.ylabel(\"Gender\",fontsize=15)\n",
    "    sns.despine()\n",
    "    \n",
    "    obs_tabla_vito_gender = pd.crosstab(young.Gender, young['Village - town'], margins=False)\n",
    "    plt.figure(figsize=(8,5))\n",
    "    sns.heatmap(obs_tabla_vito_gender, annot=True, annot_kws={\"size\": 10}, linewidths=.5, cmap=\"BuPu\")\n",
    "    plt.xlabel(\"Village - town\",fontsize=15)\n",
    "    plt.ylabel(\"Gender\",fontsize=15)\n",
    "    sns.despine()\n",
    "    \n",
    "    obs_tabla_hous_gender = pd.crosstab(young.Gender, young['House - block of flats'], margins=False)\n",
    "    plt.figure(figsize=(8,5))\n",
    "    sns.heatmap(obs_tabla_hous_gender, annot=True, annot_kws={\"size\": 10}, linewidths=.5, cmap=\"BuPu\")\n",
    "    plt.xlabel(\"House - block of flats\",fontsize=15)\n",
    "    plt.ylabel(\"Gender\",fontsize=15)\n",
    "    sns.despine()"
   ]
  },
  {
   "cell_type": "markdown",
   "metadata": {},
   "source": [
    "****\n",
    "#### El test de independencia de $\\chi^2$, lo podemos realizar de manera manual ó bien utilizando la librería \"scipy.stats\". En nuestro caso vamos a mostrar en primer lugar como sería el cálculo manual y luego usaremos la función \"chi2_contingency\".\n",
    "#### Además, el test $\\chi^2$, define las hipótesis de la siguiente manera:\n",
    "$$H_0 = Las\\;variables\\;son\\;independientes\\;(Hipotesis\\;nula)$$\n",
    "$$H_1 = Las\\;variables\\;estan\\;relacionadas$$"
   ]
  },
  {
   "cell_type": "code",
   "execution_count": 509,
   "metadata": {},
   "outputs": [
    {
     "name": "stdout",
     "output_type": "stream",
     "text": [
      "\n",
      "Gender - Smoking: Manual\n",
      "\n",
      "Chi2 = 1.246099633240504\n",
      "P_valor = 0.7419702557454063\n"
     ]
    }
   ],
   "source": [
    "#Test de independencia Chi-Cuadrado para \"Gender\" y \"Smoking\" (cálculo manual)\n",
    "print(\"\\nGender - Smoking: Manual\\n\")\n",
    "expected = np.outer(tabla_smok_gender[\"All\"][0:2],tabla_smok_gender.ix[\"All\"][0:4])/tabla_smok_gender[\"All\"][\"All\"]\n",
    "expected = pd.DataFrame(expected)\n",
    "expected.columns = [\"current smoker\",\"former smoker\",\"never smoked\",\"tried smoking\"]\n",
    "expected.index = [\"female\",\"male\"]\n",
    "chi_squared_stat = (((obs_tabla_smok_gender-expected)**2)/expected).sum().sum()\n",
    "print(\"Chi2 = \"+str(chi_squared_stat))\n",
    "crit = stats.chi2.ppf(q = 0.95, # 95% de confianza*\n",
    "                      df = 3)   # 3 grados de libertad\n",
    "#print(\"Valor crítico = \"+str(crit))\n",
    "p_value = 1 - stats.chi2.cdf(x=chi_squared_stat, df=3)\n",
    "print(\"P_valor = \"+str(p_value))\n",
    "del expected, chi_squared_stat, crit, p_value"
   ]
  },
  {
   "cell_type": "code",
   "execution_count": 536,
   "metadata": {},
   "outputs": [
    {
     "name": "stdout",
     "output_type": "stream",
     "text": [
      "\n",
      "Gender - Smoking: Scipy\n",
      "\n",
      "Chi2 = 1.246099633240504\n",
      "P_valor = 0.7419702557454063\n",
      "\n",
      "Las variables son INDEPENDIENTES\n"
     ]
    }
   ],
   "source": [
    "#Test de independencia Chi-Cuadrado para \"Gender\" y \"Smoking\" (cálculo mediante función de scipy)\n",
    "chi2, p, dof, ex = stats.chi2_contingency(observed= obs_tabla_smok_gender)\n",
    "print(\"\\nGender - Smoking: Scipy\\n\")\n",
    "print(\"Chi2 = \"+str(chi2))\n",
    "print(\"P_valor = \"+str(p))\n",
    "#print(\"Grados de Libertad = \"+str(dof))\n",
    "#print(\"Esperados = \"+str(ex))\n",
    "\n",
    "if p>0.05:\n",
    "    print(\"\\nLas variables son INDEPENDIENTES\")\n",
    "else:\n",
    "    print(\"\\nLas variables son DEPENDIENTES\")\n",
    "    \n",
    "del chi2, p, dof, ex"
   ]
  },
  {
   "cell_type": "markdown",
   "metadata": {},
   "source": [
    "#### Como podemos ver, los valores obtenidos de $\\chi^2$ y $p_{valor}$ son los mismos, por lo tanto el cálculo manual se corresponde con el cálculo mediante la función de scipy.\n",
    "#### Dado que $p_{valor}$ es mayor que el umbral estándar $0.05$ (nivel de significancia), no podemos rechazar la hipótesis nula de que las variables son independientes. "
   ]
  },
  {
   "cell_type": "markdown",
   "metadata": {},
   "source": [
    "#### Continuamos realizando los test de $\\chi^2$ para el resto de las variables categóricas."
   ]
  },
  {
   "cell_type": "code",
   "execution_count": 537,
   "metadata": {},
   "outputs": [
    {
     "name": "stdout",
     "output_type": "stream",
     "text": [
      "\n",
      "Gender - Alcohol: Manual\n",
      "\n",
      "Chi2 = 20.018840603138074\n",
      "P_valor = 4.4974256864338535e-05\n",
      "\n",
      "Gender - Alcohol: Scipy\n",
      "\n",
      "Chi2 = 20.018840603138077\n",
      "P_valor = 4.4974256864364367e-05\n",
      "\n",
      "Las variables son DEPENDIENTES\n"
     ]
    }
   ],
   "source": [
    "#Test de independencia Chi-Cuadrado para \"Gender\" y \"Alcohol\" (cálculo manual)\n",
    "print(\"\\nGender - Alcohol: Manual\\n\")\n",
    "expected = np.outer(tabla_alco_gender[\"All\"][0:2],tabla_alco_gender.ix[\"All\"][0:3])/tabla_alco_gender[\"All\"][\"All\"]\n",
    "expected = pd.DataFrame(expected)\n",
    "expected.columns = [\"drink a lot\",\"never\",\"social drinker\"]\n",
    "expected.index = [\"female\",\"male\"]\n",
    "chi_squared_stat = (((obs_tabla_alco_gender-expected)**2)/expected).sum().sum()\n",
    "print(\"Chi2 = \"+str(chi_squared_stat))\n",
    "crit = stats.chi2.ppf(q = 0.95, # 95% de confianza*\n",
    "                      df = 2)   \n",
    "#print(\"Valor crítico = \"+str(crit))\n",
    "p_value = 1 - stats.chi2.cdf(x=chi_squared_stat, df=2)\n",
    "print(\"P_valor = \"+str(p_value))\n",
    "\n",
    "#Test de independencia Chi-Cuadrado para \"Gender\" y \"Alcohol\" (cálculo mediante función de scipy)\n",
    "chi2, p, dof, ex = stats.chi2_contingency(observed= obs_tabla_alco_gender)\n",
    "print(\"\\nGender - Alcohol: Scipy\\n\")\n",
    "print(\"Chi2 = \"+str(chi2))\n",
    "print(\"P_valor = \"+str(p))\n",
    "#print(\"Grados de Libertad = \"+str(dof))\n",
    "#print(\"Esperados = \"+str(ex))\n",
    "\n",
    "if p>0.05:\n",
    "    print(\"\\nLas variables son INDEPENDIENTES\")\n",
    "else:\n",
    "    print(\"\\nLas variables son DEPENDIENTES\")\n",
    "    \n",
    "del expected, chi2, p, chi_squared_stat, crit, p_value, dof, ex"
   ]
  },
  {
   "cell_type": "markdown",
   "metadata": {},
   "source": [
    "#### Dado que $p_{valor}<0.05$, rechazamos la hipótesis nula de que las variables son independientes. "
   ]
  },
  {
   "cell_type": "code",
   "execution_count": 538,
   "metadata": {},
   "outputs": [
    {
     "name": "stdout",
     "output_type": "stream",
     "text": [
      "\n",
      "Gender - Punctuality: Manual\n",
      "\n",
      "Chi2 = 8.647469417821046\n",
      "P_valor = 0.013250304987231898\n",
      "\n",
      "Gender - Punctuality: Scipy\n",
      "\n",
      "Chi2 = 8.647469417821046\n",
      "P_valor = 0.013250304987231855\n",
      "\n",
      "Las variables son DEPENDIENTES\n"
     ]
    }
   ],
   "source": [
    "#Test de independencia Chi-Cuadrado para \"Gender\" y \"Punctuality\" (cálculo manual)\n",
    "print(\"\\nGender - Punctuality: Manual\\n\")\n",
    "expected = np.outer(tabla_punt_gender[\"All\"][0:2],tabla_punt_gender.ix[\"All\"][0:3])/tabla_punt_gender[\"All\"][\"All\"]\n",
    "expected = pd.DataFrame(expected)\n",
    "expected.columns = [\"i am always on time\",\"i am often early\",\"i am often running late\"]\n",
    "expected.index = [\"female\",\"male\"]\n",
    "chi_squared_stat = (((obs_tabla_punt_gender-expected)**2)/expected).sum().sum()\n",
    "print(\"Chi2 = \"+str(chi_squared_stat))\n",
    "crit = stats.chi2.ppf(q = 0.95, # 95% de confianza*\n",
    "                      df = 2)   \n",
    "#print(\"Valor crítico = \"+str(crit))\n",
    "p_value = 1 - stats.chi2.cdf(x=chi_squared_stat, df=2)\n",
    "print(\"P_valor = \"+str(p_value))\n",
    "\n",
    "#Test de independencia Chi-Cuadrado para \"Gender\" y \"Punctuality\" (cálculo mediante función de scipy)\n",
    "chi2, p, dof, ex = stats.chi2_contingency(observed= obs_tabla_punt_gender)\n",
    "print(\"\\nGender - Punctuality: Scipy\\n\")\n",
    "print(\"Chi2 = \"+str(chi2))\n",
    "print(\"P_valor = \"+str(p))\n",
    "#print(\"Grados de Libertad = \"+str(dof))\n",
    "#print(\"Esperados = \"+str(ex))\n",
    "\n",
    "if p>0.05:\n",
    "    print(\"\\nLas variables son INDEPENDIENTES\")\n",
    "else:\n",
    "    print(\"\\nLas variables son DEPENDIENTES\")\n",
    "    \n",
    "del expected, chi2, p, chi_squared_stat, crit, p_value, dof, ex"
   ]
  },
  {
   "cell_type": "markdown",
   "metadata": {},
   "source": [
    "#### Dado que $p_{valor}<0.05$, rechazamos la hipótesis nula de que las variables son independientes. "
   ]
  },
  {
   "cell_type": "code",
   "execution_count": 539,
   "metadata": {},
   "outputs": [
    {
     "name": "stdout",
     "output_type": "stream",
     "text": [
      "\n",
      "Gender - Lying: Manual\n",
      "\n",
      "Chi2 = 3.2173514714469347\n",
      "P_valor = 0.3593124160315243\n",
      "\n",
      "Gender - Lying: Scipy\n",
      "\n",
      "Chi2 = 3.2173514714469347\n",
      "P_valor = 0.3593124160315243\n",
      "\n",
      "Las variables son INDEPENDIENTES\n"
     ]
    }
   ],
   "source": [
    "#Test de independencia Chi-Cuadrado para \"Gender\" y \"Lying\" (cálculo manual)\n",
    "print(\"\\nGender - Lying: Manual\\n\")\n",
    "expected = np.outer(tabla_lyin_gender[\"All\"][0:2],tabla_lyin_gender.ix[\"All\"][0:4])/tabla_lyin_gender[\"All\"][\"All\"]\n",
    "expected = pd.DataFrame(expected)\n",
    "expected.columns = [\"everytime it suits me\",\"never\",\"only to avoid hurting someone\",\"sometimes\"] \n",
    "expected.index = [\"female\",\"male\"]\n",
    "chi_squared_stat = (((obs_tabla_lyin_gender-expected)**2)/expected).sum().sum()\n",
    "print(\"Chi2 = \"+str(chi_squared_stat))\n",
    "crit = stats.chi2.ppf(q = 0.95, # 95% de confianza*\n",
    "                      df = 3)   \n",
    "#print(\"Valor crítico = \"+str(crit))\n",
    "p_value = 1 - stats.chi2.cdf(x=chi_squared_stat, df=3)\n",
    "print(\"P_valor = \"+str(p_value))\n",
    "\n",
    "#Test de independencia Chi-Cuadrado para \"Gender\" y \"Lying\" (cálculo mediante función de scipy)\n",
    "chi2, p, dof, ex = stats.chi2_contingency(observed= obs_tabla_lyin_gender)\n",
    "print(\"\\nGender - Lying: Scipy\\n\")\n",
    "print(\"Chi2 = \"+str(chi2))\n",
    "print(\"P_valor = \"+str(p))\n",
    "#print(\"Grados de Libertad = \"+str(dof))\n",
    "#print(\"Esperados = \"+str(ex))\n",
    "\n",
    "if p>0.05:\n",
    "    print(\"\\nLas variables son INDEPENDIENTES\")\n",
    "else:\n",
    "    print(\"\\nLas variables son DEPENDIENTES\")\n",
    "    \n",
    "del expected, chi2, p, chi_squared_stat, crit, p_value, dof, ex"
   ]
  },
  {
   "cell_type": "markdown",
   "metadata": {},
   "source": [
    "#### Dado que $p_{valor}>0.05$, aceptamos la hipótesis nula de que las variables son independientes. "
   ]
  },
  {
   "cell_type": "code",
   "execution_count": 540,
   "metadata": {},
   "outputs": [
    {
     "name": "stdout",
     "output_type": "stream",
     "text": [
      "\n",
      "Gender - Internet usage: Manual\n",
      "\n",
      "Chi2 = 18.45942370362832\n",
      "P_valor = 0.00035358584682188\n",
      "\n",
      "Gender - Internet usage: Scipy\n",
      "\n",
      "Chi2 = 18.459423703628325\n",
      "P_valor = 0.0003535858468218354\n",
      "\n",
      "Las variables son DEPENDIENTES\n"
     ]
    }
   ],
   "source": [
    "#Test de independencia Chi-Cuadrado para \"Gender\" y \"Internet usage\" (cálculo manual)\n",
    "print(\"\\nGender - Internet usage: Manual\\n\")\n",
    "expected = np.outer(tabla_inte_gender[\"All\"][0:2],tabla_inte_gender.ix[\"All\"][0:4])/tabla_inte_gender[\"All\"][\"All\"]\n",
    "expected = pd.DataFrame(expected)\n",
    "expected.columns = [\"few hours a day\",\"less than an hour a day\",\"most of the day\",\"no time at all\"] \n",
    "expected.index = [\"female\",\"male\"]\n",
    "chi_squared_stat = (((obs_tabla_inte_gender-expected)**2)/expected).sum().sum()\n",
    "print(\"Chi2 = \"+str(chi_squared_stat))\n",
    "crit = stats.chi2.ppf(q = 0.95, # 95% de confianza*\n",
    "                      df = 3)   \n",
    "#print(\"Valor crítico = \"+str(crit))\n",
    "p_value = 1 - stats.chi2.cdf(x=chi_squared_stat, df=3)\n",
    "print(\"P_valor = \"+str(p_value))\n",
    "\n",
    "#Test de independencia Chi-Cuadrado para \"Gender\" y \"Internet usage\" (cálculo mediante función de scipy)\n",
    "chi2, p, dof, ex = stats.chi2_contingency(observed= obs_tabla_inte_gender)\n",
    "print(\"\\nGender - Internet usage: Scipy\\n\")\n",
    "print(\"Chi2 = \"+str(chi2))\n",
    "print(\"P_valor = \"+str(p))\n",
    "#print(\"Grados de Libertad = \"+str(dof))\n",
    "#print(\"Esperados = \"+str(ex))\n",
    "\n",
    "if p>0.05:\n",
    "    print(\"\\nLas variables son INDEPENDIENTES\")\n",
    "else:\n",
    "    print(\"\\nLas variables son DEPENDIENTES\")\n",
    "    \n",
    "del expected, chi2, p, chi_squared_stat, crit, p_value, dof, ex"
   ]
  },
  {
   "cell_type": "markdown",
   "metadata": {},
   "source": [
    "#### Dado que $p_{valor}<0.05$, rechazamos la hipótesis nula de que las variables son independientes. "
   ]
  },
  {
   "cell_type": "code",
   "execution_count": 541,
   "metadata": {},
   "outputs": [
    {
     "name": "stdout",
     "output_type": "stream",
     "text": [
      "\n",
      "Gender - Education: Manual\n",
      "\n",
      "Chi2 = 11.190435443319206\n",
      "P_valor = 0.047732244507548205\n",
      "\n",
      "Gender - Education: Scipy\n",
      "\n",
      "Chi2 = 11.190435443319206\n",
      "P_valor = 0.04773224450754823\n",
      "\n",
      "Las variables son DEPENDIENTES\n"
     ]
    }
   ],
   "source": [
    "#Test de independencia Chi-Cuadrado para \"Gender\" y \"Education\" (cálculo manual)\n",
    "print(\"\\nGender - Education: Manual\\n\")\n",
    "expected = np.outer(tabla_educ_gender[\"All\"][0:2],tabla_educ_gender.ix[\"All\"][0:6])/tabla_educ_gender[\"All\"][\"All\"]\n",
    "expected = pd.DataFrame(expected)\n",
    "expected.columns = [\"college/bachelor degree\",\"currently a primary school pupil\",\"doctorate degree\",\"masters degree\",\"primary school\",\"secondary school\"] \n",
    "expected.index = [\"female\",\"male\"]\n",
    "chi_squared_stat = (((obs_tabla_educ_gender-expected)**2)/expected).sum().sum()\n",
    "print(\"Chi2 = \"+str(chi_squared_stat))\n",
    "crit = stats.chi2.ppf(q = 0.95, # 95% de confianza*\n",
    "                      df = 5)   \n",
    "#print(\"Valor crítico = \"+str(crit))\n",
    "p_value = 1 - stats.chi2.cdf(x=chi_squared_stat, df=5)\n",
    "print(\"P_valor = \"+str(p_value))\n",
    "\n",
    "#Test de independencia Chi-Cuadrado para \"Gender\" y \"Education\" (cálculo mediante función de scipy)\n",
    "chi2, p, dof, ex = stats.chi2_contingency(observed= obs_tabla_educ_gender)\n",
    "print(\"\\nGender - Education: Scipy\\n\")\n",
    "print(\"Chi2 = \"+str(chi2))\n",
    "print(\"P_valor = \"+str(p))\n",
    "#print(\"Grados de Libertad = \"+str(dof))\n",
    "#print(\"Esperados = \"+str(ex))\n",
    "\n",
    "if p>0.05:\n",
    "    print(\"\\nLas variables son INDEPENDIENTES\")\n",
    "else:\n",
    "    print(\"\\nLas variables son DEPENDIENTES\")\n",
    "    \n",
    "del expected, chi2, p, chi_squared_stat, crit, p_value, dof, ex"
   ]
  },
  {
   "cell_type": "markdown",
   "metadata": {},
   "source": [
    "#### Dado que $p_{valor}<0.05$, rechazamos la hipótesis nula de que las variables son independientes. "
   ]
  },
  {
   "cell_type": "code",
   "execution_count": 542,
   "metadata": {},
   "outputs": [
    {
     "name": "stdout",
     "output_type": "stream",
     "text": [
      "\n",
      "Gender - Left-right handed: Manual\n",
      "\n",
      "Chi2 = 6.6608286570376425\n",
      "P_valor = 0.009855507556855159\n",
      "\n",
      "Gender - Left-right handed: Scipy\n",
      "\n",
      "Chi2 = 6.660828657037643\n",
      "P_valor = 0.009855507556855131\n",
      "\n",
      "Las variables son DEPENDIENTES\n"
     ]
    }
   ],
   "source": [
    "#Test de independencia Chi-Cuadrado para \"Gender\" y \"Left-right handed\" (cálculo manual)\n",
    "print(\"\\nGender - Left-right handed: Manual\\n\")\n",
    "expected = np.outer(tabla_lrha_gender[\"All\"][0:2],tabla_lrha_gender.ix[\"All\"][0:2])/tabla_lrha_gender[\"All\"][\"All\"]\n",
    "expected = pd.DataFrame(expected)\n",
    "expected.columns = [\"left handed\",\"right handed\"] \n",
    "expected.index = [\"female\",\"male\"]\n",
    "chi_squared_stat = (((obs_tabla_lrha_gender-expected)**2)/expected).sum().sum()\n",
    "print(\"Chi2 = \"+str(chi_squared_stat))\n",
    "crit = stats.chi2.ppf(q = 0.95, # 95% de confianza*\n",
    "                      df = 1)   \n",
    "#print(\"Valor crítico = \"+str(crit))\n",
    "p_value = 1 - stats.chi2.cdf(x=chi_squared_stat, df=1)\n",
    "print(\"P_valor = \"+str(p_value))\n",
    "\n",
    "#Test de independencia Chi-Cuadrado para \"Gender\" y \"Left-right handed\" (cálculo mediante función de scipy)\n",
    "chi2, p, dof, ex = stats.chi2_contingency(observed= obs_tabla_lrha_gender, correction=False)\n",
    "print(\"\\nGender - Left-right handed: Scipy\\n\")\n",
    "print(\"Chi2 = \"+str(chi2))\n",
    "print(\"P_valor = \"+str(p))\n",
    "#print(\"Grados de Libertad = \"+str(dof))\n",
    "#print(\"Esperados = \"+str(ex))\n",
    "\n",
    "if p>0.05:\n",
    "    print(\"\\nLas variables son INDEPENDIENTES\")\n",
    "else:\n",
    "    print(\"\\nLas variables son DEPENDIENTES\")\n",
    "    \n",
    "del expected, chi2, p, chi_squared_stat, crit, p_value, dof, ex"
   ]
  },
  {
   "cell_type": "markdown",
   "metadata": {},
   "source": [
    "#### Dado que $p_{valor}<0.05$, rechazamos la hipótesis nula de que las variables son independientes. "
   ]
  },
  {
   "cell_type": "code",
   "execution_count": 543,
   "metadata": {},
   "outputs": [
    {
     "name": "stdout",
     "output_type": "stream",
     "text": [
      "\n",
      "Gender - Only child: Manual\n",
      "\n",
      "Chi2 = 0.48666224585859963\n",
      "P_valor = 0.48541999004213265\n",
      "\n",
      "Gender - Only child: Scipy\n",
      "\n",
      "Chi2 = 0.4866622458585997\n",
      "P_valor = 0.48541999004213254\n",
      "\n",
      "Las variables son INDEPENDIENTES\n"
     ]
    }
   ],
   "source": [
    "#Test de independencia Chi-Cuadrado para \"Gender\" y \"Only child\" (cálculo manual)\n",
    "print(\"\\nGender - Only child: Manual\\n\")\n",
    "expected = np.outer(tabla_only_gender[\"All\"][0:2],tabla_only_gender.ix[\"All\"][0:2])/tabla_only_gender[\"All\"][\"All\"]\n",
    "expected = pd.DataFrame(expected)\n",
    "expected.columns = [\"no\",\"yes\"] \n",
    "expected.index = [\"female\",\"male\"]\n",
    "chi_squared_stat = (((obs_tabla_only_gender-expected)**2)/expected).sum().sum()\n",
    "print(\"Chi2 = \"+str(chi_squared_stat))\n",
    "crit = stats.chi2.ppf(q = 0.95, # 95% de confianza*\n",
    "                      df = 1)   \n",
    "#print(\"Valor crítico = \"+str(crit))\n",
    "p_value = 1 - stats.chi2.cdf(x=chi_squared_stat, df=1)\n",
    "print(\"P_valor = \"+str(p_value))\n",
    "\n",
    "#Test de independencia Chi-Cuadrado para \"Gender\" y \"Only child\" (cálculo mediante función de scipy)\n",
    "chi2, p, dof, ex = stats.chi2_contingency(observed= obs_tabla_only_gender, correction=False)\n",
    "print(\"\\nGender - Only child: Scipy\\n\")\n",
    "print(\"Chi2 = \"+str(chi2))\n",
    "print(\"P_valor = \"+str(p))\n",
    "#print(\"Grados de Libertad = \"+str(dof))\n",
    "#print(\"Esperados = \"+str(ex))\n",
    "\n",
    "if p>0.05:\n",
    "    print(\"\\nLas variables son INDEPENDIENTES\")\n",
    "else:\n",
    "    print(\"\\nLas variables son DEPENDIENTES\")\n",
    "    \n",
    "del expected, chi2, p, chi_squared_stat, crit, p_value, dof, ex"
   ]
  },
  {
   "cell_type": "markdown",
   "metadata": {},
   "source": [
    "#### Dado que $p_{valor}>0.05$, aceptamos la hipótesis nula de que las variables son independientes. "
   ]
  },
  {
   "cell_type": "code",
   "execution_count": 544,
   "metadata": {},
   "outputs": [
    {
     "name": "stdout",
     "output_type": "stream",
     "text": [
      "\n",
      "Gender - Village-town: Manual\n",
      "\n",
      "Chi2 = 0.01739308175707461\n",
      "P_valor = 0.8950769669445118\n",
      "\n",
      "Gender - Village-town: Scipy\n",
      "\n",
      "Chi2 = 0.01739308175707461\n",
      "P_valor = 0.8950769669445118\n",
      "\n",
      "Las variables son INDEPENDIENTES\n"
     ]
    }
   ],
   "source": [
    "#Test de independencia Chi-Cuadrado para \"Gender\" y \"Village-town\" (cálculo manual)\n",
    "print(\"\\nGender - Village-town: Manual\\n\")\n",
    "expected = np.outer(tabla_vito_gender[\"All\"][0:2],tabla_vito_gender.ix[\"All\"][0:2])/tabla_vito_gender[\"All\"][\"All\"]\n",
    "expected = pd.DataFrame(expected)\n",
    "expected.columns = [\"city\",\"village\"] \n",
    "expected.index = [\"female\",\"male\"]\n",
    "chi_squared_stat = (((obs_tabla_vito_gender-expected)**2)/expected).sum().sum()\n",
    "print(\"Chi2 = \"+str(chi_squared_stat))\n",
    "crit = stats.chi2.ppf(q = 0.95, # 95% de confianza*\n",
    "                      df = 1)   \n",
    "#print(\"Valor crítico = \"+str(crit))\n",
    "p_value = 1 - stats.chi2.cdf(x=chi_squared_stat, df=1)\n",
    "print(\"P_valor = \"+str(p_value))\n",
    "\n",
    "#Test de independencia Chi-Cuadrado para \"Gender\" y \"Village-town\" (cálculo mediante función de scipy)\n",
    "chi2, p, dof, ex = stats.chi2_contingency(observed= obs_tabla_vito_gender, correction=False)\n",
    "print(\"\\nGender - Village-town: Scipy\\n\")\n",
    "print(\"Chi2 = \"+str(chi2))\n",
    "print(\"P_valor = \"+str(p))\n",
    "#print(\"Grados de Libertad = \"+str(dof))\n",
    "#print(\"Esperados = \"+str(ex))\n",
    "\n",
    "if p>0.05:\n",
    "    print(\"\\nLas variables son INDEPENDIENTES\")\n",
    "else:\n",
    "    print(\"\\nLas variables son DEPENDIENTES\")\n",
    "    \n",
    "del expected, chi2, p, chi_squared_stat, crit, p_value, dof, ex"
   ]
  },
  {
   "cell_type": "markdown",
   "metadata": {},
   "source": [
    "#### Dado que $p_{valor}>0.05$, aceptamos la hipótesis nula de que las variables son independientes. "
   ]
  },
  {
   "cell_type": "code",
   "execution_count": 545,
   "metadata": {},
   "outputs": [
    {
     "name": "stdout",
     "output_type": "stream",
     "text": [
      "\n",
      "Gender - House-block of flats: Manual\n",
      "\n",
      "Chi2 = 0.008872525469077368\n",
      "P_valor = 0.9249549841293704\n",
      "\n",
      "Gender - House-block of flats: Scipy\n",
      "\n",
      "Chi2 = 0.008872525469077366\n",
      "P_valor = 0.9249549841293704\n",
      "\n",
      "Las variables son INDEPENDIENTES\n"
     ]
    }
   ],
   "source": [
    "#Test de independencia Chi-Cuadrado para \"Gender\" y \"House-block of flats\" (cálculo manual)\n",
    "print(\"\\nGender - House-block of flats: Manual\\n\")\n",
    "expected = np.outer(tabla_hous_gender[\"All\"][0:2],tabla_hous_gender.ix[\"All\"][0:2])/tabla_hous_gender[\"All\"][\"All\"]\n",
    "expected = pd.DataFrame(expected)\n",
    "expected.columns = [\"block of flats\",\"house/bungalow\"] \n",
    "expected.index = [\"female\",\"male\"]\n",
    "chi_squared_stat = (((obs_tabla_hous_gender-expected)**2)/expected).sum().sum()\n",
    "print(\"Chi2 = \"+str(chi_squared_stat))\n",
    "crit = stats.chi2.ppf(q = 0.95, # 95% de confianza*\n",
    "                      df = 1)   \n",
    "#print(\"Valor crítico = \"+str(crit))\n",
    "p_value = 1 - stats.chi2.cdf(x=chi_squared_stat, df=1)\n",
    "print(\"P_valor = \"+str(p_value))\n",
    "\n",
    "#Test de independencia Chi-Cuadrado para \"Gender\" y \"House-block of flats\" (cálculo mediante función de scipy)\n",
    "chi2, p, dof, ex = stats.chi2_contingency(observed= obs_tabla_hous_gender, correction=False)\n",
    "print(\"\\nGender - House-block of flats: Scipy\\n\")\n",
    "print(\"Chi2 = \"+str(chi2))\n",
    "print(\"P_valor = \"+str(p))\n",
    "#print(\"Grados de Libertad = \"+str(dof))\n",
    "#print(\"Esperados = \"+str(ex))\n",
    "\n",
    "if p>0.05:\n",
    "    print(\"\\nLas variables son INDEPENDIENTES\")\n",
    "else:\n",
    "    print(\"\\nLas variables son DEPENDIENTES\")\n",
    "    \n",
    "del expected, chi2, p, chi_squared_stat, crit, p_value, dof, ex"
   ]
  },
  {
   "cell_type": "markdown",
   "metadata": {},
   "source": [
    "#### Dado que $p_{valor}>0.05$, aceptamos la hipótesis nula de que las variables son independientes. "
   ]
  },
  {
   "cell_type": "markdown",
   "metadata": {},
   "source": [
    "### Para resumir los resultados obtenidos con los test de independencia $\\chi^2$, se crea la siguiente tabla:"
   ]
  },
  {
   "cell_type": "code",
   "execution_count": 546,
   "metadata": {},
   "outputs": [
    {
     "data": {
      "text/html": [
       "<div>\n",
       "<style scoped>\n",
       "    .dataframe tbody tr th:only-of-type {\n",
       "        vertical-align: middle;\n",
       "    }\n",
       "\n",
       "    .dataframe tbody tr th {\n",
       "        vertical-align: top;\n",
       "    }\n",
       "\n",
       "    .dataframe thead th {\n",
       "        text-align: right;\n",
       "    }\n",
       "</style>\n",
       "<table border=\"1\" class=\"dataframe\">\n",
       "  <thead>\n",
       "    <tr style=\"text-align: right;\">\n",
       "      <th></th>\n",
       "      <th>Gender/Alcohol</th>\n",
       "      <th>Gender/Education</th>\n",
       "      <th>Gender/House-block of flats</th>\n",
       "      <th>Gender/Internet usage</th>\n",
       "      <th>Gender/Left-right handed</th>\n",
       "      <th>Gender/Lying</th>\n",
       "      <th>Gender/Only child</th>\n",
       "      <th>Gender/Punctuality</th>\n",
       "      <th>Gender/Smoking</th>\n",
       "      <th>Gender/Village-town</th>\n",
       "    </tr>\n",
       "  </thead>\n",
       "  <tbody>\n",
       "    <tr>\n",
       "      <th>Independiente</th>\n",
       "      <td>NO</td>\n",
       "      <td>NO</td>\n",
       "      <td>SI</td>\n",
       "      <td>NO</td>\n",
       "      <td>NO</td>\n",
       "      <td>SI</td>\n",
       "      <td>SI</td>\n",
       "      <td>NO</td>\n",
       "      <td>SI</td>\n",
       "      <td>SI</td>\n",
       "    </tr>\n",
       "  </tbody>\n",
       "</table>\n",
       "</div>"
      ],
      "text/plain": [
       "              Gender/Alcohol Gender/Education Gender/House-block of flats  \\\n",
       "Independiente             NO               NO                          SI   \n",
       "\n",
       "              Gender/Internet usage Gender/Left-right handed Gender/Lying  \\\n",
       "Independiente                    NO                       NO           SI   \n",
       "\n",
       "              Gender/Only child Gender/Punctuality Gender/Smoking  \\\n",
       "Independiente                SI                 NO             SI   \n",
       "\n",
       "              Gender/Village-town  \n",
       "Independiente                  SI  "
      ]
     },
     "metadata": {},
     "output_type": "display_data"
    }
   ],
   "source": [
    "tabla_independencia = pd.DataFrame({'Gender/Smoking':'SI',\n",
    "                                    'Gender/Alcohol':'NO',\n",
    "                                    'Gender/Punctuality':'NO',\n",
    "                                    'Gender/Lying':'SI',\n",
    "                                    'Gender/Internet usage':'NO',\n",
    "                                    'Gender/Education':'NO',\n",
    "                                    'Gender/Left-right handed':'NO',\n",
    "                                    'Gender/Only child':'SI',\n",
    "                                    'Gender/Village-town':'SI',\n",
    "                                    'Gender/House-block of flats':'SI'},index=['Independiente'])\n",
    "display(tabla_independencia)"
   ]
  }
 ],
 "metadata": {
  "kernelspec": {
   "display_name": "Python [conda env:diplodatos-ayv]",
   "language": "python",
   "name": "conda-env-diplodatos-ayv-py"
  },
  "language_info": {
   "codemirror_mode": {
    "name": "ipython",
    "version": 3
   },
   "file_extension": ".py",
   "mimetype": "text/x-python",
   "name": "python",
   "nbconvert_exporter": "python",
   "pygments_lexer": "ipython3",
   "version": "3.5.5"
  }
 },
 "nbformat": 4,
 "nbformat_minor": 1
}
