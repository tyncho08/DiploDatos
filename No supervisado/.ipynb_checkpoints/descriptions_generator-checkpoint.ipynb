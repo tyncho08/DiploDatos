{
 "cells": [
  {
   "cell_type": "code",
   "execution_count": 2,
   "metadata": {},
   "outputs": [],
   "source": [
    "import os"
   ]
  },
  {
   "cell_type": "markdown",
   "metadata": {},
   "source": [
    "This exciting opportunity is with the US Card Workforce Management (WFM) team, which supports a large call center network by providing staffing planning and analysis to optimize customer experience, agent flexibility and efficient economics. This role will be a blend of Problem-solving/Analytics, Process Management, and Relationship Management, with results driven as an individual performer. You will leverage data and relationships to identify and recommend opportunities for improved experiences for agents and customers. Through well-executed processes and trend analysis, you will provide meaningful insights and recommendations to deliver to key business partners within our contact centers.\n",
    "\n",
    "In the Scrum Master role, you'll serve as the servant leader for your team(s) by ensuring clear communication and helping the team reach its goal. The Scrum Master will drive the appropriate Agile methodology (Scrum/Kanban/etc) focused on predictable, quality delivery and driving continuous improvement of the team. The Scrum Master will facilitate team productivity by removing impediments that may obstruct the pursuit of the team's goals and by preserving flexibility and ability to rapidly respond to changes on the team"
   ]
  },
  {
   "cell_type": "code",
   "execution_count": 103,
   "metadata": {},
   "outputs": [],
   "source": [
    "file_name = 'description_34.txt'\n",
    "file_path = os.getcwd() + '/Dataset/descriptions/capital_one/'\n",
    "content = 'The Scrum Master will facilitate team productivity by removing impediments that may obstruct the pursuit of the teams goals and by preserving flexibility and ability to rapidly respond to changes on the team'\n",
    "\n",
    "text_file = open(file_path + file_name, \"w\")\n",
    "text_file.write(content)\n",
    "text_file.close()"
   ]
  },
  {
   "cell_type": "code",
   "execution_count": null,
   "metadata": {},
   "outputs": [],
   "source": []
  }
 ],
 "metadata": {
  "kernelspec": {
   "display_name": "Python 3",
   "language": "python",
   "name": "python3"
  },
  "language_info": {
   "codemirror_mode": {
    "name": "ipython",
    "version": 3
   },
   "file_extension": ".py",
   "mimetype": "text/x-python",
   "name": "python",
   "nbconvert_exporter": "python",
   "pygments_lexer": "ipython3",
   "version": "3.5.5"
  }
 },
 "nbformat": 4,
 "nbformat_minor": 2
}
