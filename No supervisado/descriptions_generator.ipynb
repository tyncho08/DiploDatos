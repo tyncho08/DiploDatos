{
 "cells": [
  {
   "cell_type": "code",
   "execution_count": 1,
   "metadata": {},
   "outputs": [],
   "source": [
    "import os"
   ]
  },
  {
   "cell_type": "markdown",
   "metadata": {},
   "source": []
  },
  {
   "cell_type": "code",
   "execution_count": 6,
   "metadata": {},
   "outputs": [
    {
     "data": {
      "text/plain": [
       "49"
      ]
     },
     "execution_count": 6,
     "metadata": {},
     "output_type": "execute_result"
    }
   ],
   "source": [
    "file_name = 'Bank_Of_America.txt'\n",
    "file_path = os.getcwd() + '/Dataset/new_descriptions/'\n",
    "text_read = open(file_path + file_name, \"r\")\n",
    "\n",
    "text_read_list = text_read.read().split('\\n')\n",
    "len(text_read_list)"
   ]
  },
  {
   "cell_type": "code",
   "execution_count": 7,
   "metadata": {},
   "outputs": [],
   "source": [
    "for idx, line in enumerate(text_read_list):\n",
    "    file_name = 'description_' + str(idx ) + '.txt'\n",
    "    file_path = os.getcwd() + '/Dataset/new_descriptions/Bank_Of_America/'\n",
    "    content = line\n",
    "\n",
    "    text_file = open(file_path + file_name, \"w\")\n",
    "    text_file.write(content)\n",
    "    text_file.close()"
   ]
  },
  {
   "cell_type": "code",
   "execution_count": null,
   "metadata": {},
   "outputs": [],
   "source": []
  }
 ],
 "metadata": {
  "kernelspec": {
   "display_name": "Python [default]",
   "language": "python",
   "name": "python3"
  },
  "language_info": {
   "codemirror_mode": {
    "name": "ipython",
    "version": 3
   },
   "file_extension": ".py",
   "mimetype": "text/x-python",
   "name": "python",
   "nbconvert_exporter": "python",
   "pygments_lexer": "ipython3",
   "version": "3.5.5"
  }
 },
 "nbformat": 4,
 "nbformat_minor": 2
}
