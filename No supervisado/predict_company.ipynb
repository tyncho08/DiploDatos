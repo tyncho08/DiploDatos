{
 "cells": [
  {
   "cell_type": "code",
   "execution_count": 2,
   "metadata": {},
   "outputs": [],
   "source": [
    "import pickle\n",
    "from sklearn.datasets import load_files\n",
    "import numpy as np\n",
    "import pandas as pd\n",
    "\n",
    "filename = 'job_description_classifier'\n",
    "f = open(filename, 'rb')\n",
    "pipeline = pickle.load(f)"
   ]
  },
  {
   "cell_type": "code",
   "execution_count": 3,
   "metadata": {},
   "outputs": [],
   "source": [
    "dataset = load_files('Dataset/new_descriptions', shuffle=False, encoding='utf-8')"
   ]
  },
  {
   "cell_type": "code",
   "execution_count": 4,
   "metadata": {},
   "outputs": [],
   "source": [
    "data = pd.DataFrame({'data': dataset['data'], 'target': dataset['target']})"
   ]
  },
  {
   "cell_type": "code",
   "execution_count": 5,
   "metadata": {},
   "outputs": [
    {
     "data": {
      "text/plain": [
       "'Lorhan'"
      ]
     },
     "execution_count": 5,
     "metadata": {},
     "output_type": "execute_result"
    }
   ],
   "source": [
    "description = 'java'\n",
    "dataset['target_names'][int(pipeline.predict([description]))]"
   ]
  },
  {
   "cell_type": "code",
   "execution_count": 6,
   "metadata": {},
   "outputs": [
    {
     "name": "stdout",
     "output_type": "stream",
     "text": [
      "Lorhan   0.4180537729172664\n",
      "ICON_Technologies   0.19476675826139003\n",
      "EBS_Minds_IT   0.1577598332128353\n"
     ]
    }
   ],
   "source": [
    "pred_array = pipeline.predict_proba([description])[0]\n",
    "best_pred = pred_array.argsort()[-3:][::-1]\n",
    "for pred in best_pred:\n",
    "    print(str(dataset['target_names'][pred]) + \"   \" + str(pred_array[pred]))"
   ]
  },
  {
   "cell_type": "code",
   "execution_count": null,
   "metadata": {},
   "outputs": [],
   "source": []
  }
 ],
 "metadata": {
  "kernelspec": {
   "display_name": "Python [default]",
   "language": "python",
   "name": "python3"
  },
  "language_info": {
   "codemirror_mode": {
    "name": "ipython",
    "version": 3
   },
   "file_extension": ".py",
   "mimetype": "text/x-python",
   "name": "python",
   "nbconvert_exporter": "python",
   "pygments_lexer": "ipython3",
   "version": "3.5.5"
  }
 },
 "nbformat": 4,
 "nbformat_minor": 2
}
