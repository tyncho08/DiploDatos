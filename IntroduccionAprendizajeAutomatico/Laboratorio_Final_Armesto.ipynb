{
 "cells": [
  {
   "cell_type": "markdown",
   "metadata": {},
   "source": [
    "# Laboratorio Final: \"Armado de un esquema de aprendizaje automático\"\n",
    "### Alumno: Maximiliano Armesto\n",
    "\n",
    "En el laboratorio final se espera que puedan poner en práctica los conocimientos adquiridos en el curso, trabajando con un conjunto de datos de clasificación.\n",
    "\n",
    "El objetivo es que se introduzcan en el desarrollo de un esquema para hacer tareas de aprendizaje automático: selección de un modelo, ajuste de hiperparámetros y evaluación.\n",
    "\n",
    "El conjunto de datos a utilizar está en `./data/loan_data.csv`. Si abren el archivo verán que al principio (las líneas que empiezan con `#`) describen el conjunto de datos y sus atributos (incluyendo el atributo de etiqueta o clase).\n",
    "\n",
    "Se espera que hagan uso de las herramientas vistas en el curso. Se espera que hagan uso especialmente de las herramientas brindadas por `scikit-learn`.\n",
    "\n",
    "---\n",
    "## Librerías y semilla"
   ]
  },
  {
   "cell_type": "code",
   "execution_count": 29,
   "metadata": {},
   "outputs": [],
   "source": [
    "%matplotlib inline\n",
    "import numpy as np\n",
    "import pandas as pd\n",
    "import matplotlib.pyplot as plt\n",
    "from matplotlib.colors import ListedColormap\n",
    "from ml.visualization import plot_confusion_matrix, classifier_boundary\n",
    "from sklearn.linear_model import LinearRegression, LogisticRegression, Perceptron, Ridge\n",
    "from sklearn.metrics import accuracy_score, confusion_matrix, mean_squared_error\n",
    "from sklearn.neighbors import KNeighborsClassifier\n",
    "from sklearn.preprocessing import PolynomialFeatures\n",
    "from sklearn.utils import shuffle\n",
    "from sklearn.model_selection import train_test_split\n",
    "from sklearn.linear_model import SGDClassifier\n",
    "from sklearn.metrics import accuracy_score, classification_report, confusion_matrix\n",
    "from sklearn.model_selection import GridSearchCV, train_test_split\n",
    "import warnings\n",
    "warnings.filterwarnings('ignore')\n",
    "from mpl_toolkits.mplot3d import axes3d\n",
    "np.random.seed(0)  #Para mayor determinismo"
   ]
  },
  {
   "cell_type": "markdown",
   "metadata": {},
   "source": [
    "---\n",
    "## Carga de datos\n",
    "\n",
    "La celda siguiente se encarga de la carga de datos (haciendo uso de pandas). Estos serán los que se trabajarán en el resto del laboratorio."
   ]
  },
  {
   "cell_type": "code",
   "execution_count": 30,
   "metadata": {},
   "outputs": [
    {
     "name": "stdout",
     "output_type": "stream",
     "text": [
      "\n",
      "Longitud del dataset: 1854\n",
      "\n",
      "Dataset:\n"
     ]
    },
    {
     "data": {
      "text/html": [
       "<div>\n",
       "<style scoped>\n",
       "    .dataframe tbody tr th:only-of-type {\n",
       "        vertical-align: middle;\n",
       "    }\n",
       "\n",
       "    .dataframe tbody tr th {\n",
       "        vertical-align: top;\n",
       "    }\n",
       "\n",
       "    .dataframe thead th {\n",
       "        text-align: right;\n",
       "    }\n",
       "</style>\n",
       "<table border=\"1\" class=\"dataframe\">\n",
       "  <thead>\n",
       "    <tr style=\"text-align: right;\">\n",
       "      <th></th>\n",
       "      <th>LOAN</th>\n",
       "      <th>MORTDUE</th>\n",
       "      <th>VALUE</th>\n",
       "      <th>YOJ</th>\n",
       "      <th>DEROG</th>\n",
       "      <th>DELINQ</th>\n",
       "      <th>CLAGE</th>\n",
       "      <th>NINQ</th>\n",
       "      <th>CLNO</th>\n",
       "      <th>DEBTINC</th>\n",
       "    </tr>\n",
       "  </thead>\n",
       "  <tbody>\n",
       "    <tr>\n",
       "      <th>0</th>\n",
       "      <td>4700</td>\n",
       "      <td>88026.0</td>\n",
       "      <td>115506.0</td>\n",
       "      <td>6.0</td>\n",
       "      <td>0.0</td>\n",
       "      <td>0.0</td>\n",
       "      <td>182.248332</td>\n",
       "      <td>0.0</td>\n",
       "      <td>27.0</td>\n",
       "      <td>29.209023</td>\n",
       "    </tr>\n",
       "    <tr>\n",
       "      <th>1</th>\n",
       "      <td>19300</td>\n",
       "      <td>39926.0</td>\n",
       "      <td>101208.0</td>\n",
       "      <td>4.0</td>\n",
       "      <td>0.0</td>\n",
       "      <td>0.0</td>\n",
       "      <td>140.051638</td>\n",
       "      <td>0.0</td>\n",
       "      <td>14.0</td>\n",
       "      <td>31.545694</td>\n",
       "    </tr>\n",
       "    <tr>\n",
       "      <th>2</th>\n",
       "      <td>5700</td>\n",
       "      <td>71556.0</td>\n",
       "      <td>79538.0</td>\n",
       "      <td>2.0</td>\n",
       "      <td>0.0</td>\n",
       "      <td>0.0</td>\n",
       "      <td>92.643085</td>\n",
       "      <td>0.0</td>\n",
       "      <td>15.0</td>\n",
       "      <td>41.210012</td>\n",
       "    </tr>\n",
       "    <tr>\n",
       "      <th>3</th>\n",
       "      <td>13000</td>\n",
       "      <td>44875.0</td>\n",
       "      <td>57713.0</td>\n",
       "      <td>0.0</td>\n",
       "      <td>1.0</td>\n",
       "      <td>0.0</td>\n",
       "      <td>184.990324</td>\n",
       "      <td>1.0</td>\n",
       "      <td>12.0</td>\n",
       "      <td>28.602076</td>\n",
       "    </tr>\n",
       "    <tr>\n",
       "      <th>4</th>\n",
       "      <td>19300</td>\n",
       "      <td>72752.0</td>\n",
       "      <td>106084.0</td>\n",
       "      <td>11.0</td>\n",
       "      <td>0.0</td>\n",
       "      <td>0.0</td>\n",
       "      <td>193.707100</td>\n",
       "      <td>1.0</td>\n",
       "      <td>13.0</td>\n",
       "      <td>30.686106</td>\n",
       "    </tr>\n",
       "    <tr>\n",
       "      <th>5</th>\n",
       "      <td>11500</td>\n",
       "      <td>53651.0</td>\n",
       "      <td>87547.0</td>\n",
       "      <td>18.0</td>\n",
       "      <td>0.0</td>\n",
       "      <td>0.0</td>\n",
       "      <td>191.396887</td>\n",
       "      <td>0.0</td>\n",
       "      <td>16.0</td>\n",
       "      <td>34.368651</td>\n",
       "    </tr>\n",
       "    <tr>\n",
       "      <th>6</th>\n",
       "      <td>17200</td>\n",
       "      <td>103519.0</td>\n",
       "      <td>118074.0</td>\n",
       "      <td>0.0</td>\n",
       "      <td>0.0</td>\n",
       "      <td>0.0</td>\n",
       "      <td>102.678612</td>\n",
       "      <td>1.0</td>\n",
       "      <td>21.0</td>\n",
       "      <td>41.418353</td>\n",
       "    </tr>\n",
       "    <tr>\n",
       "      <th>7</th>\n",
       "      <td>24200</td>\n",
       "      <td>22763.0</td>\n",
       "      <td>47622.0</td>\n",
       "      <td>23.0</td>\n",
       "      <td>0.0</td>\n",
       "      <td>0.0</td>\n",
       "      <td>126.922691</td>\n",
       "      <td>1.0</td>\n",
       "      <td>10.0</td>\n",
       "      <td>23.040945</td>\n",
       "    </tr>\n",
       "    <tr>\n",
       "      <th>8</th>\n",
       "      <td>12600</td>\n",
       "      <td>62493.0</td>\n",
       "      <td>77141.0</td>\n",
       "      <td>13.0</td>\n",
       "      <td>0.0</td>\n",
       "      <td>0.0</td>\n",
       "      <td>266.333101</td>\n",
       "      <td>0.0</td>\n",
       "      <td>26.0</td>\n",
       "      <td>27.007872</td>\n",
       "    </tr>\n",
       "    <tr>\n",
       "      <th>9</th>\n",
       "      <td>12300</td>\n",
       "      <td>90006.0</td>\n",
       "      <td>121122.0</td>\n",
       "      <td>9.0</td>\n",
       "      <td>0.0</td>\n",
       "      <td>0.0</td>\n",
       "      <td>133.497541</td>\n",
       "      <td>1.0</td>\n",
       "      <td>21.0</td>\n",
       "      <td>36.910482</td>\n",
       "    </tr>\n",
       "  </tbody>\n",
       "</table>\n",
       "</div>"
      ],
      "text/plain": [
       "    LOAN   MORTDUE     VALUE   YOJ  DEROG  DELINQ       CLAGE  NINQ  CLNO  \\\n",
       "0   4700   88026.0  115506.0   6.0    0.0     0.0  182.248332   0.0  27.0   \n",
       "1  19300   39926.0  101208.0   4.0    0.0     0.0  140.051638   0.0  14.0   \n",
       "2   5700   71556.0   79538.0   2.0    0.0     0.0   92.643085   0.0  15.0   \n",
       "3  13000   44875.0   57713.0   0.0    1.0     0.0  184.990324   1.0  12.0   \n",
       "4  19300   72752.0  106084.0  11.0    0.0     0.0  193.707100   1.0  13.0   \n",
       "5  11500   53651.0   87547.0  18.0    0.0     0.0  191.396887   0.0  16.0   \n",
       "6  17200  103519.0  118074.0   0.0    0.0     0.0  102.678612   1.0  21.0   \n",
       "7  24200   22763.0   47622.0  23.0    0.0     0.0  126.922691   1.0  10.0   \n",
       "8  12600   62493.0   77141.0  13.0    0.0     0.0  266.333101   0.0  26.0   \n",
       "9  12300   90006.0  121122.0   9.0    0.0     0.0  133.497541   1.0  21.0   \n",
       "\n",
       "     DEBTINC  \n",
       "0  29.209023  \n",
       "1  31.545694  \n",
       "2  41.210012  \n",
       "3  28.602076  \n",
       "4  30.686106  \n",
       "5  34.368651  \n",
       "6  41.418353  \n",
       "7  23.040945  \n",
       "8  27.007872  \n",
       "9  36.910482  "
      ]
     },
     "metadata": {},
     "output_type": "display_data"
    },
    {
     "name": "stdout",
     "output_type": "stream",
     "text": [
      "Target:\n"
     ]
    },
    {
     "data": {
      "text/plain": [
       "0    0\n",
       "1    0\n",
       "2    0\n",
       "3    0\n",
       "4    0\n",
       "5    0\n",
       "6    0\n",
       "7    0\n",
       "8    0\n",
       "9    0\n",
       "Name: TARGET, dtype: int64"
      ]
     },
     "metadata": {},
     "output_type": "display_data"
    },
    {
     "name": "stdout",
     "output_type": "stream",
     "text": [
      "Frecuencias del Target\n"
     ]
    },
    {
     "data": {
      "text/plain": [
       "0    1545\n",
       "1     309\n",
       "Name: TARGET, dtype: int64"
      ]
     },
     "metadata": {},
     "output_type": "display_data"
    }
   ],
   "source": [
    "dataset = pd.read_csv(\"./data/loan_data.csv\", comment=\"#\")\n",
    "print('\\nLongitud del dataset: '+str(len(dataset))+'\\n')\n",
    "\n",
    "#División entre instancias y etiquetas\n",
    "X, y = dataset.drop(columns=['TARGET']), dataset.TARGET\n",
    "\n",
    "print('Dataset:')\n",
    "display(X.head(10))\n",
    "\n",
    "print('Target:')\n",
    "display(y.head(10))\n",
    "\n",
    "print('Frecuencias del Target')\n",
    "display(dataset.TARGET.value_counts())"
   ]
  },
  {
   "cell_type": "markdown",
   "metadata": {},
   "source": [
    "Se puede ver que el problema de aprendizaje autómatico del corriente laboratorio, entra dentro de la categoría de un problema de `clasificación binaria`."
   ]
  },
  {
   "cell_type": "markdown",
   "metadata": {},
   "source": [
    "---\n",
    "## Ejercicio 1: División de datos en conjuntos de entrenamiento y evaluación\n",
    "\n",
    "La primer tarea consiste en dividir el conjunto de datos cargados en el apartado anterior en conjuntos de entrenamiento (o *training*) y evaluación (o *test*).\n",
    "\n",
    "El primero será utilizado para la creación/selección del modelo de clasificación. El segundo se utilizará sólo al final (una vez elegidos los mejores hiperparámetros) para ver cuál es el resultado final del modelo sobre un conjunto de datos independiente."
   ]
  },
  {
   "cell_type": "code",
   "execution_count": 31,
   "metadata": {},
   "outputs": [
    {
     "name": "stdout",
     "output_type": "stream",
     "text": [
      "Listado de atributos\n",
      "====================\n",
      "- LOAN\n",
      "- MORTDUE\n",
      "- VALUE\n",
      "- YOJ\n",
      "- DEROG\n",
      "- DELINQ\n",
      "- CLAGE\n",
      "- NINQ\n",
      "- CLNO\n",
      "- DEBTINC\n"
     ]
    }
   ],
   "source": [
    "# Utilizamos aproximadamente 80% de los datos para entrenamiento y 20% para validación\n",
    "X_train, X_test, y_train, y_test = train_test_split(X, y, test_size = 0.2)\n",
    "\n",
    "# Necesario para poder hacer un regresor por feature\n",
    "feature_map = {feature: idx for idx, feature in enumerate(['LOAN', 'MORTDUE','VALUE','YOJ','DEROG','DELINQ', \n",
    "                                                           'CLAGE','NINQ','CLNO', 'DEBTINC'])}\n",
    "print(\"Listado de atributos\\n====================\")\n",
    "for feature in feature_map:\n",
    "    print(\"- %s\" % feature)"
   ]
  },
  {
   "cell_type": "markdown",
   "metadata": {},
   "source": [
    "---\n",
    "## Ejercicio 2: Elección de un modelo\n",
    "\n",
    "Basándose en lo visto en el teórico escojan y justifiquen un modelo de aprendizaje automático. Recuerden que los pasos para elegir un modelo son:\n",
    "\n",
    "### Selección de hipótesis\n",
    "\n",
    "Elegimos a la regresión logística, con función:\n",
    "\n",
    "$$h_w(x)= \\frac{1}{1+\\exp(-w^T x))}$$\n",
    "\n",
    "### Selección de regularizador\n",
    "\n",
    "Se va a calcular cual de los dos regularizadores (`L1` y `L2`) presenta mejores resultados y se procederá a elegirlo por rendimiento.\n",
    "\n",
    "### Selección de función de coste\n",
    "\n",
    "$$L(w)=- \\sum_{i=1}^N y_i \\log (h_w(x_i)) + (1-y_i) \\log (1-h_w(x_i))$$\n",
    "\n",
    "### Justificación de las selecciones\n",
    "\n",
    "Como se mencionó anteriormente, el problema cae dentro de un problema de `clasificación binaria`, para la cual se escoge a la regresión logística como hipótesis, ya que la salida toma valores de 0 y/o 1. Además, la regresión será de atributos regulares, se escogió esta característica para simplificar el modelo, ya que se utilizarán todos los `features` del dataset. Esto se decidió luego de probar diversas combinaciones de datos y descubrir que los conjuntos no eran para nada linealmente separables, lo que nos llevo a encontrar que usando todas las features mejorábamos la exactitud. En cuanto al regularizador, se escogerá `L2` simplemente debido a que es más usada y brinda mejores resultados en general que `L1`.\n",
    "\n",
    "---"
   ]
  },
  {
   "cell_type": "markdown",
   "metadata": {},
   "source": [
    "## Ejercicio 3: Selección de hiperparámetros\n",
    "\n",
    "Utilizando búsqueda exhaustiva (*grid search*) con *5-fold cross-validation* y utilizando como métrica el área bajo la curva de ROC (o *ROC-AUC*), hagan una selección de los mejores hiperparámetros para su conjunto de datos y el modelo que hayan elegido en el apartado anterior."
   ]
  },
  {
   "cell_type": "markdown",
   "metadata": {},
   "source": [
    "### Búsqueda de parámetros"
   ]
  },
  {
   "cell_type": "code",
   "execution_count": 32,
   "metadata": {},
   "outputs": [
    {
     "name": "stdout",
     "output_type": "stream",
     "text": [
      "####################################################################\n",
      "    Exploración de hiperparámetros para función de coste \"l1\"    \n",
      "####################################################################\n",
      "\n",
      "Mejor conjunto de parámetros:\n",
      "{'C': 1.1111111111111112, 'max_iter': 20000, 'tol': 0.001}\n",
      "\n",
      "Puntajes de la grilla:\n",
      "Exactitud: 0.758 (+/-0.002) para los parámetros {'C': 0.025, 'max_iter': 10000, 'tol': 0.001}\n",
      "Exactitud: 0.758 (+/-0.002) para los parámetros {'C': 0.025, 'max_iter': 10000, 'tol': 1e-05}\n",
      "Exactitud: 0.758 (+/-0.002) para los parámetros {'C': 0.025, 'max_iter': 15000, 'tol': 0.001}\n",
      "Exactitud: 0.758 (+/-0.002) para los parámetros {'C': 0.025, 'max_iter': 15000, 'tol': 1e-05}\n",
      "Exactitud: 0.758 (+/-0.002) para los parámetros {'C': 0.025, 'max_iter': 20000, 'tol': 0.001}\n",
      "Exactitud: 0.758 (+/-0.002) para los parámetros {'C': 0.025, 'max_iter': 20000, 'tol': 1e-05}\n",
      "Exactitud: 0.764 (+/-0.002) para los parámetros {'C': 0.03333333333333333, 'max_iter': 10000, 'tol': 0.001}\n",
      "Exactitud: 0.763 (+/-0.002) para los parámetros {'C': 0.03333333333333333, 'max_iter': 10000, 'tol': 1e-05}\n",
      "Exactitud: 0.764 (+/-0.002) para los parámetros {'C': 0.03333333333333333, 'max_iter': 15000, 'tol': 0.001}\n",
      "Exactitud: 0.763 (+/-0.002) para los parámetros {'C': 0.03333333333333333, 'max_iter': 15000, 'tol': 1e-05}\n",
      "Exactitud: 0.764 (+/-0.002) para los parámetros {'C': 0.03333333333333333, 'max_iter': 20000, 'tol': 0.001}\n",
      "Exactitud: 0.763 (+/-0.002) para los parámetros {'C': 0.03333333333333333, 'max_iter': 20000, 'tol': 1e-05}\n",
      "Exactitud: 0.769 (+/-0.002) para los parámetros {'C': 0.05, 'max_iter': 10000, 'tol': 0.001}\n",
      "Exactitud: 0.769 (+/-0.002) para los parámetros {'C': 0.05, 'max_iter': 10000, 'tol': 1e-05}\n",
      "Exactitud: 0.770 (+/-0.002) para los parámetros {'C': 0.05, 'max_iter': 15000, 'tol': 0.001}\n",
      "Exactitud: 0.769 (+/-0.002) para los parámetros {'C': 0.05, 'max_iter': 15000, 'tol': 1e-05}\n",
      "Exactitud: 0.770 (+/-0.002) para los parámetros {'C': 0.05, 'max_iter': 20000, 'tol': 0.001}\n",
      "Exactitud: 0.769 (+/-0.002) para los parámetros {'C': 0.05, 'max_iter': 20000, 'tol': 1e-05}\n",
      "Exactitud: 0.790 (+/-0.002) para los parámetros {'C': 0.1, 'max_iter': 10000, 'tol': 0.001}\n",
      "Exactitud: 0.791 (+/-0.002) para los parámetros {'C': 0.1, 'max_iter': 10000, 'tol': 1e-05}\n",
      "Exactitud: 0.791 (+/-0.002) para los parámetros {'C': 0.1, 'max_iter': 15000, 'tol': 0.001}\n",
      "Exactitud: 0.791 (+/-0.002) para los parámetros {'C': 0.1, 'max_iter': 15000, 'tol': 1e-05}\n",
      "Exactitud: 0.790 (+/-0.002) para los parámetros {'C': 0.1, 'max_iter': 20000, 'tol': 0.001}\n",
      "Exactitud: 0.791 (+/-0.002) para los parámetros {'C': 0.1, 'max_iter': 20000, 'tol': 1e-05}\n",
      "Exactitud: 0.790 (+/-0.002) para los parámetros {'C': 1.0, 'max_iter': 10000, 'tol': 0.001}\n",
      "Exactitud: 0.790 (+/-0.002) para los parámetros {'C': 1.0, 'max_iter': 10000, 'tol': 1e-05}\n",
      "Exactitud: 0.791 (+/-0.002) para los parámetros {'C': 1.0, 'max_iter': 15000, 'tol': 0.001}\n",
      "Exactitud: 0.790 (+/-0.002) para los parámetros {'C': 1.0, 'max_iter': 15000, 'tol': 1e-05}\n",
      "Exactitud: 0.791 (+/-0.001) para los parámetros {'C': 1.0, 'max_iter': 20000, 'tol': 0.001}\n",
      "Exactitud: 0.790 (+/-0.002) para los parámetros {'C': 1.0, 'max_iter': 20000, 'tol': 1e-05}\n",
      "Exactitud: 0.790 (+/-0.002) para los parámetros {'C': 1.1111111111111112, 'max_iter': 10000, 'tol': 0.001}\n",
      "Exactitud: 0.790 (+/-0.002) para los parámetros {'C': 1.1111111111111112, 'max_iter': 10000, 'tol': 1e-05}\n",
      "Exactitud: 0.790 (+/-0.002) para los parámetros {'C': 1.1111111111111112, 'max_iter': 15000, 'tol': 0.001}\n",
      "Exactitud: 0.790 (+/-0.002) para los parámetros {'C': 1.1111111111111112, 'max_iter': 15000, 'tol': 1e-05}\n",
      "Exactitud: 0.793 (+/-0.001) para los parámetros {'C': 1.1111111111111112, 'max_iter': 20000, 'tol': 0.001}\n",
      "Exactitud: 0.790 (+/-0.002) para los parámetros {'C': 1.1111111111111112, 'max_iter': 20000, 'tol': 1e-05}\n",
      "Exactitud: 0.790 (+/-0.002) para los parámetros {'C': 1.25, 'max_iter': 10000, 'tol': 0.001}\n",
      "Exactitud: 0.790 (+/-0.002) para los parámetros {'C': 1.25, 'max_iter': 10000, 'tol': 1e-05}\n",
      "Exactitud: 0.791 (+/-0.001) para los parámetros {'C': 1.25, 'max_iter': 15000, 'tol': 0.001}\n",
      "Exactitud: 0.790 (+/-0.002) para los parámetros {'C': 1.25, 'max_iter': 15000, 'tol': 1e-05}\n",
      "Exactitud: 0.791 (+/-0.002) para los parámetros {'C': 1.25, 'max_iter': 20000, 'tol': 0.001}\n",
      "Exactitud: 0.790 (+/-0.002) para los parámetros {'C': 1.25, 'max_iter': 20000, 'tol': 1e-05}\n",
      "Exactitud: 0.790 (+/-0.001) para los parámetros {'C': 2.0, 'max_iter': 10000, 'tol': 0.001}\n",
      "Exactitud: 0.789 (+/-0.002) para los parámetros {'C': 2.0, 'max_iter': 10000, 'tol': 1e-05}\n",
      "Exactitud: 0.791 (+/-0.001) para los parámetros {'C': 2.0, 'max_iter': 15000, 'tol': 0.001}\n",
      "Exactitud: 0.789 (+/-0.002) para los parámetros {'C': 2.0, 'max_iter': 15000, 'tol': 1e-05}\n",
      "Exactitud: 0.791 (+/-0.002) para los parámetros {'C': 2.0, 'max_iter': 20000, 'tol': 0.001}\n",
      "Exactitud: 0.789 (+/-0.002) para los parámetros {'C': 2.0, 'max_iter': 20000, 'tol': 1e-05}\n",
      "Exactitud: 0.790 (+/-0.002) para los parámetros {'C': 10.0, 'max_iter': 10000, 'tol': 0.001}\n",
      "Exactitud: 0.789 (+/-0.001) para los parámetros {'C': 10.0, 'max_iter': 10000, 'tol': 1e-05}\n",
      "Exactitud: 0.790 (+/-0.001) para los parámetros {'C': 10.0, 'max_iter': 15000, 'tol': 0.001}\n",
      "Exactitud: 0.789 (+/-0.001) para los parámetros {'C': 10.0, 'max_iter': 15000, 'tol': 1e-05}\n",
      "Exactitud: 0.789 (+/-0.001) para los parámetros {'C': 10.0, 'max_iter': 20000, 'tol': 0.001}\n",
      "Exactitud: 0.789 (+/-0.001) para los parámetros {'C': 10.0, 'max_iter': 20000, 'tol': 1e-05}\n",
      "Exactitud: 0.789 (+/-0.001) para los parámetros {'C': 100.0, 'max_iter': 10000, 'tol': 0.001}\n",
      "Exactitud: 0.789 (+/-0.001) para los parámetros {'C': 100.0, 'max_iter': 10000, 'tol': 1e-05}\n",
      "Exactitud: 0.790 (+/-0.001) para los parámetros {'C': 100.0, 'max_iter': 15000, 'tol': 0.001}\n",
      "Exactitud: 0.789 (+/-0.001) para los parámetros {'C': 100.0, 'max_iter': 15000, 'tol': 1e-05}\n",
      "Exactitud: 0.790 (+/-0.002) para los parámetros {'C': 100.0, 'max_iter': 20000, 'tol': 0.001}\n",
      "Exactitud: 0.789 (+/-0.001) para los parámetros {'C': 100.0, 'max_iter': 20000, 'tol': 1e-05}\n",
      "\n",
      "Reporte de clasificación para el mejor clasificador (sobre conjunto de evaluación):\n",
      "             precision    recall  f1-score   support\n",
      "\n",
      "          0       0.88      0.98      0.93       313\n",
      "          1       0.77      0.29      0.42        58\n",
      "\n",
      "avg / total       0.87      0.88      0.85       371\n",
      "\n",
      "\n",
      "==================================================================================\n",
      "\n",
      "####################################################################\n",
      "    Exploración de hiperparámetros para función de coste \"l2\"    \n",
      "####################################################################\n",
      "\n",
      "Mejor conjunto de parámetros:\n",
      "{'C': 100.0, 'max_iter': 10000, 'tol': 1e-05}\n",
      "\n",
      "Puntajes de la grilla:\n",
      "Exactitud: 0.640 (+/-0.003) para los parámetros {'C': 0.025, 'max_iter': 10000, 'tol': 0.001}\n",
      "Exactitud: 0.768 (+/-0.002) para los parámetros {'C': 0.025, 'max_iter': 10000, 'tol': 1e-05}\n",
      "Exactitud: 0.640 (+/-0.003) para los parámetros {'C': 0.025, 'max_iter': 15000, 'tol': 0.001}\n",
      "Exactitud: 0.768 (+/-0.002) para los parámetros {'C': 0.025, 'max_iter': 15000, 'tol': 1e-05}\n",
      "Exactitud: 0.640 (+/-0.003) para los parámetros {'C': 0.025, 'max_iter': 20000, 'tol': 0.001}\n",
      "Exactitud: 0.768 (+/-0.002) para los parámetros {'C': 0.025, 'max_iter': 20000, 'tol': 1e-05}\n",
      "Exactitud: 0.640 (+/-0.003) para los parámetros {'C': 0.03333333333333333, 'max_iter': 10000, 'tol': 0.001}\n",
      "Exactitud: 0.769 (+/-0.002) para los parámetros {'C': 0.03333333333333333, 'max_iter': 10000, 'tol': 1e-05}\n",
      "Exactitud: 0.640 (+/-0.003) para los parámetros {'C': 0.03333333333333333, 'max_iter': 15000, 'tol': 0.001}\n",
      "Exactitud: 0.769 (+/-0.002) para los parámetros {'C': 0.03333333333333333, 'max_iter': 15000, 'tol': 1e-05}\n",
      "Exactitud: 0.640 (+/-0.003) para los parámetros {'C': 0.03333333333333333, 'max_iter': 20000, 'tol': 0.001}\n",
      "Exactitud: 0.769 (+/-0.002) para los parámetros {'C': 0.03333333333333333, 'max_iter': 20000, 'tol': 1e-05}\n",
      "Exactitud: 0.640 (+/-0.003) para los parámetros {'C': 0.05, 'max_iter': 10000, 'tol': 0.001}\n",
      "Exactitud: 0.774 (+/-0.002) para los parámetros {'C': 0.05, 'max_iter': 10000, 'tol': 1e-05}\n",
      "Exactitud: 0.640 (+/-0.003) para los parámetros {'C': 0.05, 'max_iter': 15000, 'tol': 0.001}\n",
      "Exactitud: 0.774 (+/-0.002) para los parámetros {'C': 0.05, 'max_iter': 15000, 'tol': 1e-05}\n",
      "Exactitud: 0.640 (+/-0.003) para los parámetros {'C': 0.05, 'max_iter': 20000, 'tol': 0.001}\n",
      "Exactitud: 0.774 (+/-0.002) para los parámetros {'C': 0.05, 'max_iter': 20000, 'tol': 1e-05}\n",
      "Exactitud: 0.640 (+/-0.003) para los parámetros {'C': 0.1, 'max_iter': 10000, 'tol': 0.001}\n",
      "Exactitud: 0.780 (+/-0.001) para los parámetros {'C': 0.1, 'max_iter': 10000, 'tol': 1e-05}\n",
      "Exactitud: 0.640 (+/-0.003) para los parámetros {'C': 0.1, 'max_iter': 15000, 'tol': 0.001}\n",
      "Exactitud: 0.780 (+/-0.001) para los parámetros {'C': 0.1, 'max_iter': 15000, 'tol': 1e-05}\n",
      "Exactitud: 0.640 (+/-0.003) para los parámetros {'C': 0.1, 'max_iter': 20000, 'tol': 0.001}\n",
      "Exactitud: 0.780 (+/-0.001) para los parámetros {'C': 0.1, 'max_iter': 20000, 'tol': 1e-05}\n",
      "Exactitud: 0.640 (+/-0.003) para los parámetros {'C': 1.0, 'max_iter': 10000, 'tol': 0.001}\n",
      "Exactitud: 0.784 (+/-0.002) para los parámetros {'C': 1.0, 'max_iter': 10000, 'tol': 1e-05}\n",
      "Exactitud: 0.640 (+/-0.003) para los parámetros {'C': 1.0, 'max_iter': 15000, 'tol': 0.001}\n",
      "Exactitud: 0.784 (+/-0.002) para los parámetros {'C': 1.0, 'max_iter': 15000, 'tol': 1e-05}\n",
      "Exactitud: 0.640 (+/-0.003) para los parámetros {'C': 1.0, 'max_iter': 20000, 'tol': 0.001}\n",
      "Exactitud: 0.784 (+/-0.002) para los parámetros {'C': 1.0, 'max_iter': 20000, 'tol': 1e-05}\n",
      "Exactitud: 0.640 (+/-0.003) para los parámetros {'C': 1.1111111111111112, 'max_iter': 10000, 'tol': 0.001}\n",
      "Exactitud: 0.780 (+/-0.001) para los parámetros {'C': 1.1111111111111112, 'max_iter': 10000, 'tol': 1e-05}\n",
      "Exactitud: 0.640 (+/-0.003) para los parámetros {'C': 1.1111111111111112, 'max_iter': 15000, 'tol': 0.001}\n",
      "Exactitud: 0.780 (+/-0.001) para los parámetros {'C': 1.1111111111111112, 'max_iter': 15000, 'tol': 1e-05}\n",
      "Exactitud: 0.640 (+/-0.003) para los parámetros {'C': 1.1111111111111112, 'max_iter': 20000, 'tol': 0.001}\n",
      "Exactitud: 0.780 (+/-0.001) para los parámetros {'C': 1.1111111111111112, 'max_iter': 20000, 'tol': 1e-05}\n",
      "Exactitud: 0.640 (+/-0.003) para los parámetros {'C': 1.25, 'max_iter': 10000, 'tol': 0.001}\n",
      "Exactitud: 0.777 (+/-0.001) para los parámetros {'C': 1.25, 'max_iter': 10000, 'tol': 1e-05}\n",
      "Exactitud: 0.640 (+/-0.003) para los parámetros {'C': 1.25, 'max_iter': 15000, 'tol': 0.001}\n",
      "Exactitud: 0.777 (+/-0.001) para los parámetros {'C': 1.25, 'max_iter': 15000, 'tol': 1e-05}\n",
      "Exactitud: 0.640 (+/-0.003) para los parámetros {'C': 1.25, 'max_iter': 20000, 'tol': 0.001}\n",
      "Exactitud: 0.777 (+/-0.001) para los parámetros {'C': 1.25, 'max_iter': 20000, 'tol': 1e-05}\n",
      "Exactitud: 0.640 (+/-0.003) para los parámetros {'C': 2.0, 'max_iter': 10000, 'tol': 0.001}\n",
      "Exactitud: 0.783 (+/-0.001) para los parámetros {'C': 2.0, 'max_iter': 10000, 'tol': 1e-05}\n",
      "Exactitud: 0.640 (+/-0.003) para los parámetros {'C': 2.0, 'max_iter': 15000, 'tol': 0.001}\n",
      "Exactitud: 0.783 (+/-0.001) para los parámetros {'C': 2.0, 'max_iter': 15000, 'tol': 1e-05}\n",
      "Exactitud: 0.640 (+/-0.003) para los parámetros {'C': 2.0, 'max_iter': 20000, 'tol': 0.001}\n",
      "Exactitud: 0.783 (+/-0.001) para los parámetros {'C': 2.0, 'max_iter': 20000, 'tol': 1e-05}\n",
      "Exactitud: 0.640 (+/-0.003) para los parámetros {'C': 10.0, 'max_iter': 10000, 'tol': 0.001}\n",
      "Exactitud: 0.784 (+/-0.001) para los parámetros {'C': 10.0, 'max_iter': 10000, 'tol': 1e-05}\n",
      "Exactitud: 0.640 (+/-0.003) para los parámetros {'C': 10.0, 'max_iter': 15000, 'tol': 0.001}\n",
      "Exactitud: 0.784 (+/-0.001) para los parámetros {'C': 10.0, 'max_iter': 15000, 'tol': 1e-05}\n",
      "Exactitud: 0.640 (+/-0.003) para los parámetros {'C': 10.0, 'max_iter': 20000, 'tol': 0.001}\n",
      "Exactitud: 0.784 (+/-0.001) para los parámetros {'C': 10.0, 'max_iter': 20000, 'tol': 1e-05}\n",
      "Exactitud: 0.640 (+/-0.003) para los parámetros {'C': 100.0, 'max_iter': 10000, 'tol': 0.001}\n",
      "Exactitud: 0.785 (+/-0.002) para los parámetros {'C': 100.0, 'max_iter': 10000, 'tol': 1e-05}\n",
      "Exactitud: 0.640 (+/-0.003) para los parámetros {'C': 100.0, 'max_iter': 15000, 'tol': 0.001}\n",
      "Exactitud: 0.785 (+/-0.002) para los parámetros {'C': 100.0, 'max_iter': 15000, 'tol': 1e-05}\n",
      "Exactitud: 0.640 (+/-0.003) para los parámetros {'C': 100.0, 'max_iter': 20000, 'tol': 0.001}\n",
      "Exactitud: 0.785 (+/-0.002) para los parámetros {'C': 100.0, 'max_iter': 20000, 'tol': 1e-05}\n",
      "\n",
      "Reporte de clasificación para el mejor clasificador (sobre conjunto de evaluación):\n",
      "             precision    recall  f1-score   support\n",
      "\n",
      "          0       0.87      1.00      0.93       313\n",
      "          1       0.92      0.19      0.31        58\n",
      "\n",
      "avg / total       0.88      0.87      0.83       371\n",
      "\n",
      "\n",
      "==================================================================================\n",
      "\n"
     ]
    },
    {
     "data": {
      "image/png": "[encoded data removed]",
      "text/plain": [
       "<Figure size 1600x800 with 3 Axes>"
      ]
     },
     "metadata": {},
     "output_type": "display_data"
    }
   ],
   "source": [
    "plt.figure(figsize=(20, 10), dpi= 80, facecolor='w', edgecolor='k')\n",
    "  \n",
    "for idx, penalty in enumerate(('l1', 'l2'), start=1):\n",
    "    exploring_params = {\n",
    "        'C': [1./40., 1./30., 1./20., 1./10., 1./1., 1./0.9, 1./0.8, 1./0.5, 1./0.1, 1./0.01],  # Tasa de regularización\n",
    "        'tol': [1e-3, 1e-5], \n",
    "        'max_iter': [10000, 15000, 20000]\n",
    "    }  \n",
    "    \n",
    "    m = LogisticRegression(penalty=penalty)\n",
    "    model = GridSearchCV(m, exploring_params, cv=5, scoring='roc_auc')\n",
    "    model.fit(X_train, y_train)\n",
    "    \n",
    "    print(\"####################################################################\")\n",
    "    print(\"    Exploración de hiperparámetros para función de coste \\\"%s\\\"    \" % penalty, end=\"\\n\")\n",
    "    print(\"####################################################################\\n\")\n",
    "    \n",
    "    print(\"Mejor conjunto de parámetros:\")\n",
    "    print(model.best_params_, end=\"\\n\\n\")\n",
    "\n",
    "    print(\"Puntajes de la grilla:\", end=\"\\n\")\n",
    "    means = model.cv_results_['mean_test_score']\n",
    "    stds = model.cv_results_['std_test_score']\n",
    "    for mean, std, params in zip(means, stds, model.cv_results_['params']):\n",
    "        print(\"Exactitud: %0.3f (+/-%0.03f) para los parámetros %r\" % (mean, std ** 2, params))\n",
    "    print()\n",
    "\n",
    "    print(\"Reporte de clasificación para el mejor clasificador (sobre conjunto de evaluación):\", end=\"\\n\")\n",
    "    y_true, y_pred = y_test, model.predict(X_test)\n",
    "    print(classification_report(y_true, y_pred), end=\"\\n\\n\")\n",
    "    \n",
    "    print(\"==================================================================================\", end=\"\\n\\n\")\n",
    "\n",
    "    plt.subplot(1, 2, idx)\n",
    "    plot_confusion_matrix(confusion_matrix(y_true, y_pred),\n",
    "                          classes=[0,1], title=\"Matriz de confusión para %s\" % penalty)"
   ]
  },
  {
   "cell_type": "markdown",
   "metadata": {},
   "source": [
    "---\n",
    "## Ejercicio 4: Métricas sobre el conjunto de evaluación\n",
    "\n",
    "Una vez encontrados los mejores hiperparámetros para el modelo seleccionado en los apartados anteriores se evalúa el modelo final entrenado sobre el conjunto de datos de evaluación seleccionado en el ejercicio 1. Pueden utilizar las métricas que crean convenientes. Es mejor utilizar más de una métrica. Particularmente el *reporte de clasificación* y la *matriz de confusión* son buenos ejemplos de métricas."
   ]
  },
  {
   "cell_type": "code",
   "execution_count": 33,
   "metadata": {},
   "outputs": [
    {
     "name": "stdout",
     "output_type": "stream",
     "text": [
      "Exactitud para entrenamiento: 0.87\n",
      "Exactitud para validación: 0.88\n"
     ]
    }
   ],
   "source": [
    "# Parametros determinados en el punto anterior:\n",
    "penalty = 'l2' \n",
    "C = 1./0.9      \n",
    "max_iter = 20000 \n",
    "tol = 0.001      \n",
    "\n",
    "model = LogisticRegression(penalty=penalty, C=C, max_iter=max_iter, tol=tol, solver='newton-cg')\n",
    "model.fit(X_train, y_train)\n",
    "\n",
    "# Evaluamos el desempeño del clasificador utilizando la exactitud (accuracy) sobre el conjunto\n",
    "# de datos de entrenamiento (X_train, y_train) y lo comparamos con el de validación (X_test, y_test)\n",
    "# La exactitud toma valor en el rango [0, 1] donde más alto es mejor\n",
    "print('Exactitud para entrenamiento: %.2f' %  accuracy_score(y_train, model.predict(X_train)))\n",
    "print('Exactitud para validación: %.2f' % accuracy_score(y_test, model.predict(X_test)))"
   ]
  },
  {
   "cell_type": "markdown",
   "metadata": {},
   "source": [
    "### Matriz de confusión"
   ]
  },
  {
   "cell_type": "code",
   "execution_count": 34,
   "metadata": {},
   "outputs": [
    {
     "data": {
      "image/png": "[encoded data removed]",
      "text/plain": [
       "<Figure size 1120x800 with 6 Axes>"
      ]
     },
     "metadata": {},
     "output_type": "display_data"
    }
   ],
   "source": [
    "plt.figure(figsize=(14, 10), dpi= 80, facecolor='w', edgecolor='k')\n",
    "\n",
    "plt.subplot(2, 2, 1)\n",
    "plot_confusion_matrix(confusion_matrix(y_train, model.predict(X_train)),\n",
    "                classes=[0,1],title='Matriz de confusión para entrenamiento (sin normalizar)')\n",
    "plt.subplot(2, 2, 3)\n",
    "plot_confusion_matrix(confusion_matrix(y_train, model.predict(X_train)),\n",
    "                classes=[0,1],normalize=True,title='Matriz de confusión para entrenamiento (normalizando)')\n",
    "\n",
    "plt.subplot(2, 2, 2)\n",
    "plot_confusion_matrix(confusion_matrix(y_test, model.predict(X_test)),\n",
    "                classes=[0,1],title='Matriz de confusión para validación (sin normalizar)')\n",
    "plt.subplot(2, 2, 4)\n",
    "plot_confusion_matrix(confusion_matrix(y_test, model.predict(X_test)),\n",
    "                classes=[0,1], normalize=True,title='Matriz de confusión para validación (normalizando)')\n",
    "plt.show();"
   ]
  },
  {
   "cell_type": "code",
   "execution_count": 35,
   "metadata": {},
   "outputs": [
    {
     "name": "stdout",
     "output_type": "stream",
     "text": [
      "Reporte de clasificación para el mejor clasificador (sobre conjunto de entrenamiento):\n",
      "             precision    recall  f1-score   support\n",
      "\n",
      "          0       0.88      0.98      0.93      1232\n",
      "          1       0.81      0.33      0.47       251\n",
      "\n",
      "avg / total       0.87      0.87      0.85      1483\n",
      "\n",
      "\n",
      "==================================================================================\n",
      "\n",
      "Reporte de clasificación para el mejor clasificador (sobre conjunto de evaluación):\n",
      "             precision    recall  f1-score   support\n",
      "\n",
      "          0       0.88      0.98      0.93       313\n",
      "          1       0.77      0.29      0.42        58\n",
      "\n",
      "avg / total       0.87      0.88      0.85       371\n",
      "\n",
      "\n",
      "==================================================================================\n",
      "\n"
     ]
    }
   ],
   "source": [
    "print(\"Reporte de clasificación para el mejor clasificador (sobre conjunto de entrenamiento):\", end=\"\\n\")\n",
    "y_true, y_pred = y_train, model.predict(X_train)\n",
    "print(classification_report(y_true, y_pred), end=\"\\n\\n\")\n",
    "    \n",
    "print(\"==================================================================================\", end=\"\\n\\n\")\n",
    "\n",
    "print(\"Reporte de clasificación para el mejor clasificador (sobre conjunto de evaluación):\", end=\"\\n\")\n",
    "y_true, y_pred = y_test, model.predict(X_test)\n",
    "print(classification_report(y_true, y_pred), end=\"\\n\\n\")\n",
    "    \n",
    "print(\"==================================================================================\", end=\"\\n\\n\")"
   ]
  },
  {
   "cell_type": "markdown",
   "metadata": {},
   "source": [
    "---\n",
    "## Ejercicio 5 (opcional): Curvas de ROC\n",
    "\n",
    "Como ejercicio adicional (opcional), pueden redefinir el umbral de decisión óptimo del problema a partir de los resultados que muestren curvas de ROC como justificación. \n",
    "\n",
    "Pueden ver esto mediante la [graficación de las curvas de ROC](http://scikit-learn.org/stable/auto_examples/model_selection/plot_roc.html). En el link que se les brinda se muestra como hacer para graficar curvas de ROC para problemas multiclase. Sin embargo se puede adaptar fácilmente a un problema binario obviando la parte donde se calcula la curva clase por clase."
   ]
  },
  {
   "cell_type": "markdown",
   "metadata": {},
   "source": [
    "A continuación graficaremos la curva ROC correspondiente a nuestro modelo para poder realizar un análisis del umbral utilizado."
   ]
  },
  {
   "cell_type": "code",
   "execution_count": 36,
   "metadata": {},
   "outputs": [
    {
     "name": "stdout",
     "output_type": "stream",
     "text": [
      "True Positive Rates:\n",
      "[0.01724138 0.22413793 0.22413793 0.24137931 0.24137931 0.25862069\n",
      " 0.25862069 0.32758621 0.32758621 0.36206897 0.36206897 0.39655172\n",
      " 0.39655172 0.43103448 0.43103448 0.46551724 0.46551724 0.48275862\n",
      " 0.48275862 0.5        0.5        0.51724138 0.51724138 0.53448276\n",
      " 0.53448276 0.55172414 0.55172414 0.56896552 0.56896552 0.60344828\n",
      " 0.60344828 0.63793103 0.63793103 0.65517241 0.65517241 0.67241379\n",
      " 0.67241379 0.70689655 0.70689655 0.72413793 0.72413793 0.74137931\n",
      " 0.74137931 0.75862069 0.75862069 0.77586207 0.77586207 0.79310345\n",
      " 0.79310345 0.81034483 0.81034483 0.82758621 0.82758621 0.84482759\n",
      " 0.84482759 0.86206897 0.86206897 0.87931034 0.87931034 0.89655172\n",
      " 0.89655172 0.9137931  0.9137931  0.93103448 0.93103448 0.94827586\n",
      " 0.94827586 0.96551724 0.96551724 0.98275862 0.98275862 1.\n",
      " 1.        ]\n",
      "False Positive Rates:\n",
      "[0.         0.         0.00638978 0.00638978 0.00958466 0.00958466\n",
      " 0.01597444 0.01597444 0.02555911 0.02555911 0.02875399 0.02875399\n",
      " 0.04472843 0.04472843 0.0543131  0.0543131  0.06389776 0.06389776\n",
      " 0.06709265 0.06709265 0.07028754 0.07028754 0.0798722  0.0798722\n",
      " 0.08306709 0.08306709 0.09584665 0.09584665 0.10543131 0.10543131\n",
      " 0.12140575 0.12140575 0.12460064 0.12460064 0.14057508 0.14057508\n",
      " 0.16613419 0.16613419 0.17571885 0.17571885 0.1884984  0.1884984\n",
      " 0.22683706 0.22683706 0.24600639 0.24600639 0.25239617 0.25239617\n",
      " 0.31948882 0.31948882 0.35782748 0.35782748 0.36421725 0.36421725\n",
      " 0.41533546 0.41533546 0.45047923 0.45047923 0.45686901 0.45686901\n",
      " 0.49520767 0.49520767 0.73162939 0.73162939 0.80511182 0.80511182\n",
      " 0.82428115 0.82428115 0.98722045 0.98722045 0.99361022 0.99361022\n",
      " 1.        ]\n",
      "Umbrales utilizados en el análisis:\n",
      "[0.99871717 0.67555116 0.60936922 0.58265379 0.58024611 0.57846809\n",
      " 0.5675933  0.49437895 0.46435565 0.44256627 0.39182905 0.3556989\n",
      " 0.31070244 0.30922834 0.29604894 0.28917554 0.26936103 0.26228816\n",
      " 0.26219017 0.26012634 0.25327886 0.24875528 0.2437309  0.24191086\n",
      " 0.23885513 0.23883304 0.22959795 0.22918271 0.22305686 0.21881884\n",
      " 0.21137349 0.20840665 0.20779311 0.20683824 0.19609322 0.19608866\n",
      " 0.18566621 0.18161924 0.17387423 0.17357557 0.17207342 0.17195022\n",
      " 0.16322205 0.16217448 0.15663065 0.15654997 0.15471706 0.15468213\n",
      " 0.13503943 0.13469965 0.12650903 0.12633267 0.12608807 0.12555547\n",
      " 0.1098289  0.10973176 0.10432329 0.1038694  0.10318418 0.10300768\n",
      " 0.09724367 0.09595132 0.06254455 0.06244587 0.04407088 0.04360177\n",
      " 0.04180686 0.04175329 0.01494124 0.01427684 0.01179551 0.00512831\n",
      " 0.00176763]\n"
     ]
    },
    {
     "data": {
      "image/png": "[encoded data removed]",
      "text/plain": [
       "<Figure size 432x288 with 1 Axes>"
      ]
     },
     "metadata": {},
     "output_type": "display_data"
    }
   ],
   "source": [
    "from sklearn.metrics import roc_curve, auc\n",
    "\n",
    "y_true, y_pred = y_test, model.predict_proba(X_test)[:, 1]\n",
    "\n",
    "fpr, tpr, threshold = roc_curve(y_test, y_pred, pos_label=1)\n",
    "\n",
    "print(\"True Positive Rates:\")\n",
    "print(tpr)\n",
    "print(\"False Positive Rates:\")\n",
    "print(fpr)\n",
    "print(\"Umbrales utilizados en el análisis:\")\n",
    "print(threshold)\n",
    "roc_auc = auc(fpr, tpr)\n",
    "\n",
    "plt.figure()\n",
    "lw = 2\n",
    "plt.plot(fpr, tpr, color='darkorange',\n",
    "         lw=lw, label='ROC curve (area = %0.2f)' % roc_auc)\n",
    "plt.plot([0, 1], [0, 1], color='navy', lw=lw, linestyle='--')\n",
    "plt.xlim([0.0, 1.0])\n",
    "plt.ylim([0.0, 1.05])\n",
    "plt.xlabel('False Positive Rate')\n",
    "plt.ylabel('True Positive Rate')\n",
    "plt.title('Receiver operating characteristic example')\n",
    "plt.legend(loc=\"lower right\")\n",
    "plt.show()"
   ]
  },
  {
   "cell_type": "markdown",
   "metadata": {},
   "source": [
    "El umbral correspondiente al modelo que utilizamos inicialmente corresponde a un TPR de 0.93 y a un FPR de 0.70 aproximadamente. Esto corresponde a un umbral utilizado muy bajo. Que provoca que nos ubiquemos mas \"al final de la curva\". Si observamos la matriz de confusión nos encontramos frente a una cantidad considerable de falsos positivos, con lo cual sería deseable disminuir nuestro FPR. Para eso si observamos el gráfico deberíamos acercarnos hacia \"el centro de la curva\". Nos quedaremos con un FPR de aproximadamente 0.12 y un TPR de aproximadamente 0.65 que corresponde a un umbral de 0.20. Con esto lograremos mejorar nuestros Falsos Positivos, por supuesto a un costo, no muy grande, de true positives."
   ]
  },
  {
   "cell_type": "code",
   "execution_count": 37,
   "metadata": {},
   "outputs": [
    {
     "name": "stdout",
     "output_type": "stream",
     "text": [
      "Exactitud para validación: 0.84\n"
     ]
    },
    {
     "data": {
      "image/png": "[encoded data removed]",
      "text/plain": [
       "<Figure size 1120x800 with 4 Axes>"
      ]
     },
     "metadata": {},
     "output_type": "display_data"
    }
   ],
   "source": [
    "y_pred_bin = []\n",
    "for prediction in y_pred:\n",
    "    if prediction > 0.20:\n",
    "        y_pred_bin.append(1)\n",
    "    else:\n",
    "        y_pred_bin.append(0)\n",
    "        \n",
    "print('Exactitud para validación: %.2f' % accuracy_score(y_true, y_pred_bin))\n",
    "\n",
    "plt.figure(figsize=(14, 10), dpi= 80, facecolor='w', edgecolor='k')\n",
    "\n",
    "plt.subplot(1, 2, 1)\n",
    "plot_confusion_matrix(confusion_matrix(y_true, y_pred_bin),\n",
    "                classes=[0,1],title='Matriz de confusión para validación (sin normalizar)')\n",
    "plt.subplot(1, 2, 2)\n",
    "plot_confusion_matrix(confusion_matrix(y_true, y_pred_bin),\n",
    "                classes=[0,1], normalize=True,title='Matriz de confusión para validación (normalizando)')\n",
    "plt.show();"
   ]
  },
  {
   "cell_type": "markdown",
   "metadata": {},
   "source": [
    "Cómo se puede observar hemos disminuido a la mitad los falsos positivos sin afectar practicamente a la precisión."
   ]
  },
  {
   "cell_type": "code",
   "execution_count": null,
   "metadata": {},
   "outputs": [],
   "source": []
  }
 ],
 "metadata": {
  "kernelspec": {
   "display_name": "Python 3",
   "language": "python",
   "name": "python3"
  },
  "language_info": {
   "codemirror_mode": {
    "name": "ipython",
    "version": 3
   },
   "file_extension": ".py",
   "mimetype": "text/x-python",
   "name": "python",
   "nbconvert_exporter": "python",
   "pygments_lexer": "ipython3",
   "version": "3.6.4"
  }
 },
 "nbformat": 4,
 "nbformat_minor": 2
}
